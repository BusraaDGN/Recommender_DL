{
 "cells": [
  {
   "cell_type": "code",
   "execution_count": 1,
   "metadata": {},
   "outputs": [],
   "source": [
    "import pandas as pd\n",
    "import numpy as np\n",
    "import seaborn as sns\n",
    "import matplotlib.pyplot as plt\n",
    "from sklearn.metrics import accuracy_score\n",
    "from sklearn.model_selection import train_test_split\n",
    "import torch\n",
    "import torch.nn as nn\n"
   ]
  },
  {
   "cell_type": "code",
   "execution_count": 2,
   "metadata": {},
   "outputs": [],
   "source": [
    "song_data = pd.read_csv(r\"song_data.csv\")\n",
    "onk_song = pd.read_csv(r\"10000.txt\", sep='\\t', header=None, names=['user','song','play_count'])"
   ]
  },
  {
   "cell_type": "code",
   "execution_count": 3,
   "metadata": {},
   "outputs": [
    {
     "data": {
      "text/html": [
       "<div>\n",
       "<style scoped>\n",
       "    .dataframe tbody tr th:only-of-type {\n",
       "        vertical-align: middle;\n",
       "    }\n",
       "\n",
       "    .dataframe tbody tr th {\n",
       "        vertical-align: top;\n",
       "    }\n",
       "\n",
       "    .dataframe thead th {\n",
       "        text-align: right;\n",
       "    }\n",
       "</style>\n",
       "<table border=\"1\" class=\"dataframe\">\n",
       "  <thead>\n",
       "    <tr style=\"text-align: right;\">\n",
       "      <th></th>\n",
       "      <th>song_id</th>\n",
       "      <th>title</th>\n",
       "      <th>release</th>\n",
       "      <th>artist_name</th>\n",
       "      <th>year</th>\n",
       "    </tr>\n",
       "  </thead>\n",
       "  <tbody>\n",
       "    <tr>\n",
       "      <th>0</th>\n",
       "      <td>SOQMMHC12AB0180CB8</td>\n",
       "      <td>Silent Night</td>\n",
       "      <td>Monster Ballads X-Mas</td>\n",
       "      <td>Faster Pussy cat</td>\n",
       "      <td>2003</td>\n",
       "    </tr>\n",
       "    <tr>\n",
       "      <th>1</th>\n",
       "      <td>SOVFVAK12A8C1350D9</td>\n",
       "      <td>Tanssi vaan</td>\n",
       "      <td>Karkuteillä</td>\n",
       "      <td>Karkkiautomaatti</td>\n",
       "      <td>1995</td>\n",
       "    </tr>\n",
       "    <tr>\n",
       "      <th>2</th>\n",
       "      <td>SOGTUKN12AB017F4F1</td>\n",
       "      <td>No One Could Ever</td>\n",
       "      <td>Butter</td>\n",
       "      <td>Hudson Mohawke</td>\n",
       "      <td>2006</td>\n",
       "    </tr>\n",
       "    <tr>\n",
       "      <th>3</th>\n",
       "      <td>SOBNYVR12A8C13558C</td>\n",
       "      <td>Si Vos Querés</td>\n",
       "      <td>De Culo</td>\n",
       "      <td>Yerba Brava</td>\n",
       "      <td>2003</td>\n",
       "    </tr>\n",
       "    <tr>\n",
       "      <th>4</th>\n",
       "      <td>SOHSBXH12A8C13B0DF</td>\n",
       "      <td>Tangle Of Aspens</td>\n",
       "      <td>Rene Ablaze Presents Winter Sessions</td>\n",
       "      <td>Der Mystic</td>\n",
       "      <td>0</td>\n",
       "    </tr>\n",
       "  </tbody>\n",
       "</table>\n",
       "</div>"
      ],
      "text/plain": [
       "              song_id              title  \\\n",
       "0  SOQMMHC12AB0180CB8       Silent Night   \n",
       "1  SOVFVAK12A8C1350D9        Tanssi vaan   \n",
       "2  SOGTUKN12AB017F4F1  No One Could Ever   \n",
       "3  SOBNYVR12A8C13558C      Si Vos Querés   \n",
       "4  SOHSBXH12A8C13B0DF   Tangle Of Aspens   \n",
       "\n",
       "                                release       artist_name  year  \n",
       "0                 Monster Ballads X-Mas  Faster Pussy cat  2003  \n",
       "1                           Karkuteillä  Karkkiautomaatti  1995  \n",
       "2                                Butter    Hudson Mohawke  2006  \n",
       "3                               De Culo       Yerba Brava  2003  \n",
       "4  Rene Ablaze Presents Winter Sessions        Der Mystic     0  "
      ]
     },
     "execution_count": 3,
     "metadata": {},
     "output_type": "execute_result"
    }
   ],
   "source": [
    "song_data.head()"
   ]
  },
  {
   "cell_type": "code",
   "execution_count": 4,
   "metadata": {},
   "outputs": [
    {
     "data": {
      "text/html": [
       "<div>\n",
       "<style scoped>\n",
       "    .dataframe tbody tr th:only-of-type {\n",
       "        vertical-align: middle;\n",
       "    }\n",
       "\n",
       "    .dataframe tbody tr th {\n",
       "        vertical-align: top;\n",
       "    }\n",
       "\n",
       "    .dataframe thead th {\n",
       "        text-align: right;\n",
       "    }\n",
       "</style>\n",
       "<table border=\"1\" class=\"dataframe\">\n",
       "  <thead>\n",
       "    <tr style=\"text-align: right;\">\n",
       "      <th></th>\n",
       "      <th>user</th>\n",
       "      <th>song</th>\n",
       "      <th>play_count</th>\n",
       "    </tr>\n",
       "  </thead>\n",
       "  <tbody>\n",
       "    <tr>\n",
       "      <th>0</th>\n",
       "      <td>b80344d063b5ccb3212f76538f3d9e43d87dca9e</td>\n",
       "      <td>SOAKIMP12A8C130995</td>\n",
       "      <td>1</td>\n",
       "    </tr>\n",
       "    <tr>\n",
       "      <th>1</th>\n",
       "      <td>b80344d063b5ccb3212f76538f3d9e43d87dca9e</td>\n",
       "      <td>SOBBMDR12A8C13253B</td>\n",
       "      <td>2</td>\n",
       "    </tr>\n",
       "    <tr>\n",
       "      <th>2</th>\n",
       "      <td>b80344d063b5ccb3212f76538f3d9e43d87dca9e</td>\n",
       "      <td>SOBXHDL12A81C204C0</td>\n",
       "      <td>1</td>\n",
       "    </tr>\n",
       "    <tr>\n",
       "      <th>3</th>\n",
       "      <td>b80344d063b5ccb3212f76538f3d9e43d87dca9e</td>\n",
       "      <td>SOBYHAJ12A6701BF1D</td>\n",
       "      <td>1</td>\n",
       "    </tr>\n",
       "    <tr>\n",
       "      <th>4</th>\n",
       "      <td>b80344d063b5ccb3212f76538f3d9e43d87dca9e</td>\n",
       "      <td>SODACBL12A8C13C273</td>\n",
       "      <td>1</td>\n",
       "    </tr>\n",
       "  </tbody>\n",
       "</table>\n",
       "</div>"
      ],
      "text/plain": [
       "                                       user                song  play_count\n",
       "0  b80344d063b5ccb3212f76538f3d9e43d87dca9e  SOAKIMP12A8C130995           1\n",
       "1  b80344d063b5ccb3212f76538f3d9e43d87dca9e  SOBBMDR12A8C13253B           2\n",
       "2  b80344d063b5ccb3212f76538f3d9e43d87dca9e  SOBXHDL12A81C204C0           1\n",
       "3  b80344d063b5ccb3212f76538f3d9e43d87dca9e  SOBYHAJ12A6701BF1D           1\n",
       "4  b80344d063b5ccb3212f76538f3d9e43d87dca9e  SODACBL12A8C13C273           1"
      ]
     },
     "execution_count": 4,
     "metadata": {},
     "output_type": "execute_result"
    }
   ],
   "source": [
    "onk_song.head()"
   ]
  },
  {
   "cell_type": "code",
   "execution_count": 4,
   "metadata": {},
   "outputs": [],
   "source": [
    "merged_data = pd.merge(onk_song, \n",
    "                       song_data, how='left', \n",
    "                       left_on='song', \n",
    "                       right_on='song_id')\n",
    "merged_data.rename(columns={'play_count':'listen_count'},inplace=True)\n",
    "del(merged_data['song_id'])"
   ]
  },
  {
   "cell_type": "code",
   "execution_count": 5,
   "metadata": {
    "scrolled": true
   },
   "outputs": [
    {
     "data": {
      "text/html": [
       "<div>\n",
       "<style scoped>\n",
       "    .dataframe tbody tr th:only-of-type {\n",
       "        vertical-align: middle;\n",
       "    }\n",
       "\n",
       "    .dataframe tbody tr th {\n",
       "        vertical-align: top;\n",
       "    }\n",
       "\n",
       "    .dataframe thead th {\n",
       "        text-align: right;\n",
       "    }\n",
       "</style>\n",
       "<table border=\"1\" class=\"dataframe\">\n",
       "  <thead>\n",
       "    <tr style=\"text-align: right;\">\n",
       "      <th></th>\n",
       "      <th>user</th>\n",
       "      <th>song</th>\n",
       "      <th>listen_count</th>\n",
       "      <th>title</th>\n",
       "      <th>release</th>\n",
       "      <th>artist_name</th>\n",
       "      <th>year</th>\n",
       "    </tr>\n",
       "  </thead>\n",
       "  <tbody>\n",
       "    <tr>\n",
       "      <th>0</th>\n",
       "      <td>b80344d063b5ccb3212f76538f3d9e43d87dca9e</td>\n",
       "      <td>SOAKIMP12A8C130995</td>\n",
       "      <td>1</td>\n",
       "      <td>The Cove</td>\n",
       "      <td>Thicker Than Water</td>\n",
       "      <td>Jack Johnson</td>\n",
       "      <td>0</td>\n",
       "    </tr>\n",
       "    <tr>\n",
       "      <th>1</th>\n",
       "      <td>b80344d063b5ccb3212f76538f3d9e43d87dca9e</td>\n",
       "      <td>SOBBMDR12A8C13253B</td>\n",
       "      <td>2</td>\n",
       "      <td>Entre Dos Aguas</td>\n",
       "      <td>Flamenco Para Niños</td>\n",
       "      <td>Paco De Lucia</td>\n",
       "      <td>1976</td>\n",
       "    </tr>\n",
       "    <tr>\n",
       "      <th>2</th>\n",
       "      <td>b80344d063b5ccb3212f76538f3d9e43d87dca9e</td>\n",
       "      <td>SOBXHDL12A81C204C0</td>\n",
       "      <td>1</td>\n",
       "      <td>Stronger</td>\n",
       "      <td>Graduation</td>\n",
       "      <td>Kanye West</td>\n",
       "      <td>2007</td>\n",
       "    </tr>\n",
       "    <tr>\n",
       "      <th>3</th>\n",
       "      <td>b80344d063b5ccb3212f76538f3d9e43d87dca9e</td>\n",
       "      <td>SOBXHDL12A81C204C0</td>\n",
       "      <td>1</td>\n",
       "      <td>Stronger</td>\n",
       "      <td>Graduation</td>\n",
       "      <td>Kanye West</td>\n",
       "      <td>2007</td>\n",
       "    </tr>\n",
       "    <tr>\n",
       "      <th>4</th>\n",
       "      <td>b80344d063b5ccb3212f76538f3d9e43d87dca9e</td>\n",
       "      <td>SOBYHAJ12A6701BF1D</td>\n",
       "      <td>1</td>\n",
       "      <td>Constellations</td>\n",
       "      <td>In Between Dreams</td>\n",
       "      <td>Jack Johnson</td>\n",
       "      <td>2005</td>\n",
       "    </tr>\n",
       "  </tbody>\n",
       "</table>\n",
       "</div>"
      ],
      "text/plain": [
       "                                       user                song  listen_count  \\\n",
       "0  b80344d063b5ccb3212f76538f3d9e43d87dca9e  SOAKIMP12A8C130995             1   \n",
       "1  b80344d063b5ccb3212f76538f3d9e43d87dca9e  SOBBMDR12A8C13253B             2   \n",
       "2  b80344d063b5ccb3212f76538f3d9e43d87dca9e  SOBXHDL12A81C204C0             1   \n",
       "3  b80344d063b5ccb3212f76538f3d9e43d87dca9e  SOBXHDL12A81C204C0             1   \n",
       "4  b80344d063b5ccb3212f76538f3d9e43d87dca9e  SOBYHAJ12A6701BF1D             1   \n",
       "\n",
       "             title              release    artist_name  year  \n",
       "0         The Cove   Thicker Than Water   Jack Johnson     0  \n",
       "1  Entre Dos Aguas  Flamenco Para Niños  Paco De Lucia  1976  \n",
       "2         Stronger           Graduation     Kanye West  2007  \n",
       "3         Stronger           Graduation     Kanye West  2007  \n",
       "4   Constellations    In Between Dreams   Jack Johnson  2005  "
      ]
     },
     "execution_count": 5,
     "metadata": {},
     "output_type": "execute_result"
    }
   ],
   "source": [
    "merged_data.head()"
   ]
  },
  {
   "cell_type": "markdown",
   "metadata": {},
   "source": [
    "### Overview Dataset"
   ]
  },
  {
   "cell_type": "code",
   "execution_count": 6,
   "metadata": {},
   "outputs": [],
   "source": [
    "merged_data_cleaned=merged_data.drop([\"release\",\"artist_name\"],axis=1)"
   ]
  },
  {
   "cell_type": "code",
   "execution_count": 8,
   "metadata": {
    "scrolled": true
   },
   "outputs": [
    {
     "data": {
      "text/html": [
       "<div>\n",
       "<style scoped>\n",
       "    .dataframe tbody tr th:only-of-type {\n",
       "        vertical-align: middle;\n",
       "    }\n",
       "\n",
       "    .dataframe tbody tr th {\n",
       "        vertical-align: top;\n",
       "    }\n",
       "\n",
       "    .dataframe thead th {\n",
       "        text-align: right;\n",
       "    }\n",
       "</style>\n",
       "<table border=\"1\" class=\"dataframe\">\n",
       "  <thead>\n",
       "    <tr style=\"text-align: right;\">\n",
       "      <th></th>\n",
       "      <th>user</th>\n",
       "      <th>song</th>\n",
       "      <th>listen_count</th>\n",
       "      <th>title</th>\n",
       "      <th>year</th>\n",
       "    </tr>\n",
       "  </thead>\n",
       "  <tbody>\n",
       "    <tr>\n",
       "      <th>0</th>\n",
       "      <td>b80344d063b5ccb3212f76538f3d9e43d87dca9e</td>\n",
       "      <td>SOAKIMP12A8C130995</td>\n",
       "      <td>1</td>\n",
       "      <td>The Cove</td>\n",
       "      <td>0</td>\n",
       "    </tr>\n",
       "    <tr>\n",
       "      <th>1</th>\n",
       "      <td>b80344d063b5ccb3212f76538f3d9e43d87dca9e</td>\n",
       "      <td>SOBBMDR12A8C13253B</td>\n",
       "      <td>2</td>\n",
       "      <td>Entre Dos Aguas</td>\n",
       "      <td>1976</td>\n",
       "    </tr>\n",
       "    <tr>\n",
       "      <th>2</th>\n",
       "      <td>b80344d063b5ccb3212f76538f3d9e43d87dca9e</td>\n",
       "      <td>SOBXHDL12A81C204C0</td>\n",
       "      <td>1</td>\n",
       "      <td>Stronger</td>\n",
       "      <td>2007</td>\n",
       "    </tr>\n",
       "    <tr>\n",
       "      <th>3</th>\n",
       "      <td>b80344d063b5ccb3212f76538f3d9e43d87dca9e</td>\n",
       "      <td>SOBXHDL12A81C204C0</td>\n",
       "      <td>1</td>\n",
       "      <td>Stronger</td>\n",
       "      <td>2007</td>\n",
       "    </tr>\n",
       "    <tr>\n",
       "      <th>4</th>\n",
       "      <td>b80344d063b5ccb3212f76538f3d9e43d87dca9e</td>\n",
       "      <td>SOBYHAJ12A6701BF1D</td>\n",
       "      <td>1</td>\n",
       "      <td>Constellations</td>\n",
       "      <td>2005</td>\n",
       "    </tr>\n",
       "    <tr>\n",
       "      <th>...</th>\n",
       "      <td>...</td>\n",
       "      <td>...</td>\n",
       "      <td>...</td>\n",
       "      <td>...</td>\n",
       "      <td>...</td>\n",
       "    </tr>\n",
       "    <tr>\n",
       "      <th>2086941</th>\n",
       "      <td>d8bfd4ec88f0f3773a9e022e3c1a0f1d3b7b6a92</td>\n",
       "      <td>SOJEYPO12AAA8C6B0E</td>\n",
       "      <td>2</td>\n",
       "      <td>Ignorance (Album Version)</td>\n",
       "      <td>0</td>\n",
       "    </tr>\n",
       "    <tr>\n",
       "      <th>2086942</th>\n",
       "      <td>d8bfd4ec88f0f3773a9e022e3c1a0f1d3b7b6a92</td>\n",
       "      <td>SOJJYDE12AF729FC16</td>\n",
       "      <td>4</td>\n",
       "      <td>Two Is Better Than One</td>\n",
       "      <td>2009</td>\n",
       "    </tr>\n",
       "    <tr>\n",
       "      <th>2086943</th>\n",
       "      <td>d8bfd4ec88f0f3773a9e022e3c1a0f1d3b7b6a92</td>\n",
       "      <td>SOJKQSF12A6D4F5EE9</td>\n",
       "      <td>3</td>\n",
       "      <td>What I've Done (Album Version)</td>\n",
       "      <td>2007</td>\n",
       "    </tr>\n",
       "    <tr>\n",
       "      <th>2086944</th>\n",
       "      <td>d8bfd4ec88f0f3773a9e022e3c1a0f1d3b7b6a92</td>\n",
       "      <td>SOJUXGA12AC961885C</td>\n",
       "      <td>1</td>\n",
       "      <td>Up</td>\n",
       "      <td>2010</td>\n",
       "    </tr>\n",
       "    <tr>\n",
       "      <th>2086945</th>\n",
       "      <td>d8bfd4ec88f0f3773a9e022e3c1a0f1d3b7b6a92</td>\n",
       "      <td>SOJYOLS12A8C13C06F</td>\n",
       "      <td>1</td>\n",
       "      <td>Soil_ Soil (Album Version)</td>\n",
       "      <td>2007</td>\n",
       "    </tr>\n",
       "  </tbody>\n",
       "</table>\n",
       "<p>2086946 rows × 5 columns</p>\n",
       "</div>"
      ],
      "text/plain": [
       "                                             user                song  \\\n",
       "0        b80344d063b5ccb3212f76538f3d9e43d87dca9e  SOAKIMP12A8C130995   \n",
       "1        b80344d063b5ccb3212f76538f3d9e43d87dca9e  SOBBMDR12A8C13253B   \n",
       "2        b80344d063b5ccb3212f76538f3d9e43d87dca9e  SOBXHDL12A81C204C0   \n",
       "3        b80344d063b5ccb3212f76538f3d9e43d87dca9e  SOBXHDL12A81C204C0   \n",
       "4        b80344d063b5ccb3212f76538f3d9e43d87dca9e  SOBYHAJ12A6701BF1D   \n",
       "...                                           ...                 ...   \n",
       "2086941  d8bfd4ec88f0f3773a9e022e3c1a0f1d3b7b6a92  SOJEYPO12AAA8C6B0E   \n",
       "2086942  d8bfd4ec88f0f3773a9e022e3c1a0f1d3b7b6a92  SOJJYDE12AF729FC16   \n",
       "2086943  d8bfd4ec88f0f3773a9e022e3c1a0f1d3b7b6a92  SOJKQSF12A6D4F5EE9   \n",
       "2086944  d8bfd4ec88f0f3773a9e022e3c1a0f1d3b7b6a92  SOJUXGA12AC961885C   \n",
       "2086945  d8bfd4ec88f0f3773a9e022e3c1a0f1d3b7b6a92  SOJYOLS12A8C13C06F   \n",
       "\n",
       "         listen_count                           title  year  \n",
       "0                   1                        The Cove     0  \n",
       "1                   2                 Entre Dos Aguas  1976  \n",
       "2                   1                        Stronger  2007  \n",
       "3                   1                        Stronger  2007  \n",
       "4                   1                  Constellations  2005  \n",
       "...               ...                             ...   ...  \n",
       "2086941             2       Ignorance (Album Version)     0  \n",
       "2086942             4          Two Is Better Than One  2009  \n",
       "2086943             3  What I've Done (Album Version)  2007  \n",
       "2086944             1                              Up  2010  \n",
       "2086945             1      Soil_ Soil (Album Version)  2007  \n",
       "\n",
       "[2086946 rows x 5 columns]"
      ]
     },
     "execution_count": 8,
     "metadata": {},
     "output_type": "execute_result"
    }
   ],
   "source": [
    "merged_data_cleaned"
   ]
  },
  {
   "cell_type": "code",
   "execution_count": 9,
   "metadata": {},
   "outputs": [
    {
     "data": {
      "text/plain": [
       "76353"
      ]
     },
     "execution_count": 9,
     "metadata": {},
     "output_type": "execute_result"
    }
   ],
   "source": [
    "merged_data_cleaned.user.nunique()"
   ]
  },
  {
   "cell_type": "code",
   "execution_count": 10,
   "metadata": {},
   "outputs": [
    {
     "data": {
      "text/plain": [
       "(2086946, 5)"
      ]
     },
     "execution_count": 10,
     "metadata": {},
     "output_type": "execute_result"
    }
   ],
   "source": [
    "merged_data_cleaned.shape"
   ]
  },
  {
   "cell_type": "code",
   "execution_count": 7,
   "metadata": {},
   "outputs": [
    {
     "data": {
      "text/plain": [
       "user            0\n",
       "song            0\n",
       "listen_count    0\n",
       "title           0\n",
       "year            0\n",
       "dtype: int64"
      ]
     },
     "execution_count": 7,
     "metadata": {},
     "output_type": "execute_result"
    }
   ],
   "source": [
    "merged_data_cleaned.isna().sum()"
   ]
  },
  {
   "cell_type": "markdown",
   "metadata": {},
   "source": [
    "### Let's solve the 0 problem in the year "
   ]
  },
  {
   "cell_type": "code",
   "execution_count": 8,
   "metadata": {},
   "outputs": [
    {
     "data": {
      "text/html": [
       "<div>\n",
       "<style scoped>\n",
       "    .dataframe tbody tr th:only-of-type {\n",
       "        vertical-align: middle;\n",
       "    }\n",
       "\n",
       "    .dataframe tbody tr th {\n",
       "        vertical-align: top;\n",
       "    }\n",
       "\n",
       "    .dataframe thead th {\n",
       "        text-align: right;\n",
       "    }\n",
       "</style>\n",
       "<table border=\"1\" class=\"dataframe\">\n",
       "  <thead>\n",
       "    <tr style=\"text-align: right;\">\n",
       "      <th></th>\n",
       "      <th>user</th>\n",
       "      <th>song</th>\n",
       "      <th>listen_count</th>\n",
       "      <th>title</th>\n",
       "      <th>year</th>\n",
       "    </tr>\n",
       "  </thead>\n",
       "  <tbody>\n",
       "    <tr>\n",
       "      <th>0</th>\n",
       "      <td>b80344d063b5ccb3212f76538f3d9e43d87dca9e</td>\n",
       "      <td>SOAKIMP12A8C130995</td>\n",
       "      <td>1</td>\n",
       "      <td>The Cove</td>\n",
       "      <td>0</td>\n",
       "    </tr>\n",
       "    <tr>\n",
       "      <th>9</th>\n",
       "      <td>b80344d063b5ccb3212f76538f3d9e43d87dca9e</td>\n",
       "      <td>SOFRQTD12A81C233C0</td>\n",
       "      <td>1</td>\n",
       "      <td>Sehr kosmisch</td>\n",
       "      <td>0</td>\n",
       "    </tr>\n",
       "    <tr>\n",
       "      <th>12</th>\n",
       "      <td>b80344d063b5ccb3212f76538f3d9e43d87dca9e</td>\n",
       "      <td>SOIZAZL12A6701C53B</td>\n",
       "      <td>5</td>\n",
       "      <td>I'll Be Missing You (Featuring Faith Evans &amp; 1...</td>\n",
       "      <td>0</td>\n",
       "    </tr>\n",
       "    <tr>\n",
       "      <th>14</th>\n",
       "      <td>b80344d063b5ccb3212f76538f3d9e43d87dca9e</td>\n",
       "      <td>SOJPFQG12A58A7833A</td>\n",
       "      <td>1</td>\n",
       "      <td>Clarity</td>\n",
       "      <td>0</td>\n",
       "    </tr>\n",
       "    <tr>\n",
       "      <th>15</th>\n",
       "      <td>b80344d063b5ccb3212f76538f3d9e43d87dca9e</td>\n",
       "      <td>SOKRIMP12A6D4F5DA3</td>\n",
       "      <td>5</td>\n",
       "      <td>I?'m A Steady Rollin? Man</td>\n",
       "      <td>0</td>\n",
       "    </tr>\n",
       "    <tr>\n",
       "      <th>...</th>\n",
       "      <td>...</td>\n",
       "      <td>...</td>\n",
       "      <td>...</td>\n",
       "      <td>...</td>\n",
       "      <td>...</td>\n",
       "    </tr>\n",
       "    <tr>\n",
       "      <th>2086899</th>\n",
       "      <td>d8bfd4ec88f0f3773a9e022e3c1a0f1d3b7b6a92</td>\n",
       "      <td>SOBOUPA12A6D4F81F1</td>\n",
       "      <td>7</td>\n",
       "      <td>Sincerité Et Jalousie</td>\n",
       "      <td>0</td>\n",
       "    </tr>\n",
       "    <tr>\n",
       "      <th>2086909</th>\n",
       "      <td>d8bfd4ec88f0f3773a9e022e3c1a0f1d3b7b6a92</td>\n",
       "      <td>SODJWHY12A8C142CCE</td>\n",
       "      <td>2</td>\n",
       "      <td>Hey_ Soul Sister</td>\n",
       "      <td>0</td>\n",
       "    </tr>\n",
       "    <tr>\n",
       "      <th>2086922</th>\n",
       "      <td>d8bfd4ec88f0f3773a9e022e3c1a0f1d3b7b6a92</td>\n",
       "      <td>SOFRQTD12A81C233C0</td>\n",
       "      <td>9</td>\n",
       "      <td>Sehr kosmisch</td>\n",
       "      <td>0</td>\n",
       "    </tr>\n",
       "    <tr>\n",
       "      <th>2086924</th>\n",
       "      <td>d8bfd4ec88f0f3773a9e022e3c1a0f1d3b7b6a92</td>\n",
       "      <td>SOGGPKT12A8C1424BE</td>\n",
       "      <td>1</td>\n",
       "      <td>Into The Night</td>\n",
       "      <td>0</td>\n",
       "    </tr>\n",
       "    <tr>\n",
       "      <th>2086941</th>\n",
       "      <td>d8bfd4ec88f0f3773a9e022e3c1a0f1d3b7b6a92</td>\n",
       "      <td>SOJEYPO12AAA8C6B0E</td>\n",
       "      <td>2</td>\n",
       "      <td>Ignorance (Album Version)</td>\n",
       "      <td>0</td>\n",
       "    </tr>\n",
       "  </tbody>\n",
       "</table>\n",
       "<p>380170 rows × 5 columns</p>\n",
       "</div>"
      ],
      "text/plain": [
       "                                             user                song  \\\n",
       "0        b80344d063b5ccb3212f76538f3d9e43d87dca9e  SOAKIMP12A8C130995   \n",
       "9        b80344d063b5ccb3212f76538f3d9e43d87dca9e  SOFRQTD12A81C233C0   \n",
       "12       b80344d063b5ccb3212f76538f3d9e43d87dca9e  SOIZAZL12A6701C53B   \n",
       "14       b80344d063b5ccb3212f76538f3d9e43d87dca9e  SOJPFQG12A58A7833A   \n",
       "15       b80344d063b5ccb3212f76538f3d9e43d87dca9e  SOKRIMP12A6D4F5DA3   \n",
       "...                                           ...                 ...   \n",
       "2086899  d8bfd4ec88f0f3773a9e022e3c1a0f1d3b7b6a92  SOBOUPA12A6D4F81F1   \n",
       "2086909  d8bfd4ec88f0f3773a9e022e3c1a0f1d3b7b6a92  SODJWHY12A8C142CCE   \n",
       "2086922  d8bfd4ec88f0f3773a9e022e3c1a0f1d3b7b6a92  SOFRQTD12A81C233C0   \n",
       "2086924  d8bfd4ec88f0f3773a9e022e3c1a0f1d3b7b6a92  SOGGPKT12A8C1424BE   \n",
       "2086941  d8bfd4ec88f0f3773a9e022e3c1a0f1d3b7b6a92  SOJEYPO12AAA8C6B0E   \n",
       "\n",
       "         listen_count                                              title  year  \n",
       "0                   1                                           The Cove     0  \n",
       "9                   1                                      Sehr kosmisch     0  \n",
       "12                  5  I'll Be Missing You (Featuring Faith Evans & 1...     0  \n",
       "14                  1                                            Clarity     0  \n",
       "15                  5                          I?'m A Steady Rollin? Man     0  \n",
       "...               ...                                                ...   ...  \n",
       "2086899             7                              Sincerité Et Jalousie     0  \n",
       "2086909             2                                   Hey_ Soul Sister     0  \n",
       "2086922             9                                      Sehr kosmisch     0  \n",
       "2086924             1                                     Into The Night     0  \n",
       "2086941             2                          Ignorance (Album Version)     0  \n",
       "\n",
       "[380170 rows x 5 columns]"
      ]
     },
     "execution_count": 8,
     "metadata": {},
     "output_type": "execute_result"
    }
   ],
   "source": [
    "merged_data_cleaned[merged_data_cleaned.year==0]"
   ]
  },
  {
   "cell_type": "code",
   "execution_count": 9,
   "metadata": {},
   "outputs": [],
   "source": [
    "merged_data_cleaned[\"no_year\"]=False"
   ]
  },
  {
   "cell_type": "code",
   "execution_count": 10,
   "metadata": {},
   "outputs": [
    {
     "data": {
      "text/html": [
       "<div>\n",
       "<style scoped>\n",
       "    .dataframe tbody tr th:only-of-type {\n",
       "        vertical-align: middle;\n",
       "    }\n",
       "\n",
       "    .dataframe tbody tr th {\n",
       "        vertical-align: top;\n",
       "    }\n",
       "\n",
       "    .dataframe thead th {\n",
       "        text-align: right;\n",
       "    }\n",
       "</style>\n",
       "<table border=\"1\" class=\"dataframe\">\n",
       "  <thead>\n",
       "    <tr style=\"text-align: right;\">\n",
       "      <th></th>\n",
       "      <th>user</th>\n",
       "      <th>song</th>\n",
       "      <th>listen_count</th>\n",
       "      <th>title</th>\n",
       "      <th>year</th>\n",
       "      <th>no_year</th>\n",
       "    </tr>\n",
       "  </thead>\n",
       "  <tbody>\n",
       "    <tr>\n",
       "      <th>0</th>\n",
       "      <td>b80344d063b5ccb3212f76538f3d9e43d87dca9e</td>\n",
       "      <td>SOAKIMP12A8C130995</td>\n",
       "      <td>1</td>\n",
       "      <td>The Cove</td>\n",
       "      <td>0</td>\n",
       "      <td>False</td>\n",
       "    </tr>\n",
       "    <tr>\n",
       "      <th>1</th>\n",
       "      <td>b80344d063b5ccb3212f76538f3d9e43d87dca9e</td>\n",
       "      <td>SOBBMDR12A8C13253B</td>\n",
       "      <td>2</td>\n",
       "      <td>Entre Dos Aguas</td>\n",
       "      <td>1976</td>\n",
       "      <td>False</td>\n",
       "    </tr>\n",
       "    <tr>\n",
       "      <th>2</th>\n",
       "      <td>b80344d063b5ccb3212f76538f3d9e43d87dca9e</td>\n",
       "      <td>SOBXHDL12A81C204C0</td>\n",
       "      <td>1</td>\n",
       "      <td>Stronger</td>\n",
       "      <td>2007</td>\n",
       "      <td>False</td>\n",
       "    </tr>\n",
       "    <tr>\n",
       "      <th>3</th>\n",
       "      <td>b80344d063b5ccb3212f76538f3d9e43d87dca9e</td>\n",
       "      <td>SOBXHDL12A81C204C0</td>\n",
       "      <td>1</td>\n",
       "      <td>Stronger</td>\n",
       "      <td>2007</td>\n",
       "      <td>False</td>\n",
       "    </tr>\n",
       "    <tr>\n",
       "      <th>4</th>\n",
       "      <td>b80344d063b5ccb3212f76538f3d9e43d87dca9e</td>\n",
       "      <td>SOBYHAJ12A6701BF1D</td>\n",
       "      <td>1</td>\n",
       "      <td>Constellations</td>\n",
       "      <td>2005</td>\n",
       "      <td>False</td>\n",
       "    </tr>\n",
       "  </tbody>\n",
       "</table>\n",
       "</div>"
      ],
      "text/plain": [
       "                                       user                song  listen_count  \\\n",
       "0  b80344d063b5ccb3212f76538f3d9e43d87dca9e  SOAKIMP12A8C130995             1   \n",
       "1  b80344d063b5ccb3212f76538f3d9e43d87dca9e  SOBBMDR12A8C13253B             2   \n",
       "2  b80344d063b5ccb3212f76538f3d9e43d87dca9e  SOBXHDL12A81C204C0             1   \n",
       "3  b80344d063b5ccb3212f76538f3d9e43d87dca9e  SOBXHDL12A81C204C0             1   \n",
       "4  b80344d063b5ccb3212f76538f3d9e43d87dca9e  SOBYHAJ12A6701BF1D             1   \n",
       "\n",
       "             title  year  no_year  \n",
       "0         The Cove     0    False  \n",
       "1  Entre Dos Aguas  1976    False  \n",
       "2         Stronger  2007    False  \n",
       "3         Stronger  2007    False  \n",
       "4   Constellations  2005    False  "
      ]
     },
     "execution_count": 10,
     "metadata": {},
     "output_type": "execute_result"
    }
   ],
   "source": [
    "merged_data_cleaned.head()"
   ]
  },
  {
   "cell_type": "code",
   "execution_count": 11,
   "metadata": {},
   "outputs": [],
   "source": [
    "merged_data_cleaned[\"no_year\"]=merged_data_cleaned.year==0"
   ]
  },
  {
   "cell_type": "markdown",
   "metadata": {},
   "source": [
    "### IQR- Let's save ourself from outliers"
   ]
  },
  {
   "cell_type": "code",
   "execution_count": 12,
   "metadata": {},
   "outputs": [
    {
     "data": {
      "text/plain": [
       "['listen_count', 'year']"
      ]
     },
     "execution_count": 12,
     "metadata": {},
     "output_type": "execute_result"
    }
   ],
   "source": [
    "numerical_columns=merged_data_cleaned.select_dtypes(include=np.number).columns.tolist()\n",
    "numerical_columns"
   ]
  },
  {
   "cell_type": "code",
   "execution_count": 13,
   "metadata": {},
   "outputs": [
    {
     "data": {
      "text/plain": [
       "['listen_count']"
      ]
     },
     "execution_count": 13,
     "metadata": {},
     "output_type": "execute_result"
    }
   ],
   "source": [
    "numerical_columns.remove('year')\n",
    "numerical_columns"
   ]
  },
  {
   "cell_type": "code",
   "execution_count": 14,
   "metadata": {},
   "outputs": [],
   "source": [
    "sparse_columns=[]\n",
    "for col in numerical_columns:\n",
    "    if (merged_data_cleaned[col].quantile(0.01)==merged_data_cleaned[col].quantile(0.25)==merged_data_cleaned[col].mode()[0]):\n",
    "        sparse_columns.append(col)\n",
    "\n",
    "sparse_columns_2=[]\n",
    "for col in numerical_columns:\n",
    "    if (merged_data_cleaned[col].quantile(0.01)==merged_data_cleaned[col].quantile(0.25)):\n",
    "        sparse_columns_2.append(col)"
   ]
  },
  {
   "cell_type": "code",
   "execution_count": 15,
   "metadata": {},
   "outputs": [
    {
     "data": {
      "text/plain": [
       "(1, 1, 1)"
      ]
     },
     "execution_count": 15,
     "metadata": {},
     "output_type": "execute_result"
    }
   ],
   "source": [
    "len(numerical_columns), len(sparse_columns), len(sparse_columns_2)"
   ]
  },
  {
   "cell_type": "code",
   "execution_count": 16,
   "metadata": {},
   "outputs": [],
   "source": [
    "def HardEdgeReduction(df,numerical_columns,sparse_columns,upper_quantile=0.99,lower_quantile=0.01):\n",
    "    \n",
    "    import pandas as pd\n",
    "\n",
    "    import psutil, os, gc, time\n",
    "    print(\"HardEdgeReduction process has began:\\n\")\n",
    "    proc = psutil.Process(os.getpid())\n",
    "    gc.collect()\n",
    "    mem_0 = proc.memory_info().rss\n",
    "    start_time = time.time()\n",
    "    \n",
    "    # Do outlier cleaning in only one loop\n",
    "    epsilon = 0.0001 # for zero divisions\n",
    "\n",
    "    # Define boundaries that we will use for Reduction operation\n",
    "\n",
    "    df_outlier_cleaned = df.copy()\n",
    "\n",
    "    print(\"Detected outliers will be replaced with edged quantiles/percentiles: 1% and 99%!\\n\")\n",
    "    print(\"Total number of rows is: %s\\n\"%df_outlier_cleaned.shape[0])\n",
    "\n",
    "    outlier_boundries_dict={}\n",
    "#     lower_bound_sparse=[]\n",
    "#     upper_bound_sparse=[]\n",
    "\n",
    "    for col in numerical_columns:\n",
    "\n",
    "        if col in sparse_columns:\n",
    "\n",
    "            # First ignore the 'sparse' data points:\n",
    "            nonsparse_data = pd.DataFrame(df_outlier_cleaned[df_outlier_cleaned[col] !=\\\n",
    "                                                             df_outlier_cleaned[col].mode()[0]][col]) \n",
    "            \n",
    "            #we used only mode to catch sparse points, since we know/proved it is enough to do that.\n",
    "\n",
    "            # Find Outlier Thresholds:\n",
    "            # Note: All columns are right-skewed\n",
    "            # For lower threshold (left-hand-side)\n",
    "            if nonsparse_data[col].quantile(lower_quantile) < df_outlier_cleaned[col].mode()[0]: #Unexpected case\n",
    "                lower_bound_sparse = nonsparse_data[col].quantile(lower_quantile)\n",
    "            else:\n",
    "                lower_bound_sparse = df_outlier_cleaned[col].mode()[0]\n",
    "            \n",
    "            # For upper threshold (right-hand-side)\n",
    "            if nonsparse_data[col].quantile(upper_quantile) < df_outlier_cleaned[col].mode()[0]: #Unexpected case\n",
    "                upper_bound_sparse = df_outlier_cleaned[col].mode()[0]\n",
    "            else:\n",
    "                upper_bound_sparse = nonsparse_data[col].quantile(upper_quantile)\n",
    "\n",
    "            outlier_boundries_dict[col]=(lower_bound_sparse,upper_bound_sparse)\n",
    "\n",
    "            # Inform user about the cardinality of Outlier existence:\n",
    "            number_of_outliers = len(df_outlier_cleaned[(df_outlier_cleaned[col] < lower_bound_sparse) |\\\n",
    "                                                        (df_outlier_cleaned[col] > upper_bound_sparse)][col])\n",
    "            print(\"Sparse: Outlier number in {} is equal to: \".format(col),number_of_outliers/(nonsparse_data.shape[0] -\n",
    "                                                                                       nonsparse_data.isnull().sum()))\n",
    "\n",
    "            # Replace Outliers with Edges --> 1% and 99%:\n",
    "            if number_of_outliers > 0:\n",
    "\n",
    "                # Replace 'left-hand-side' outliers with its 1% quantile value\n",
    "                df_outlier_cleaned.loc[df_outlier_cleaned[col] < lower_bound_sparse,col] = lower_bound_sparse - epsilon # --> MAIN DF CHANGED\n",
    "\n",
    "                # Replace 'right-hand-side' outliers with its 99% quantile value\n",
    "                df_outlier_cleaned.loc[df_outlier_cleaned[col] > upper_bound_sparse,col] = upper_bound_sparse + epsilon # --> MAIN DF CHANGED\n",
    "\n",
    "        else:\n",
    "            # Find Edges:\n",
    "            number_of_outliers = len(df_outlier_cleaned[(df_outlier_cleaned[col] < \\\n",
    "                                                         df_outlier_cleaned[col].quantile(lower_quantile))|\\\n",
    "                                                        (df_outlier_cleaned[col] > \\\n",
    "                                                         df_outlier_cleaned[col].quantile(upper_quantile))]\\\n",
    "                                     [col])\n",
    "            print(\"Other: Outlier number in {} is equal to: \".format(col),number_of_outliers/(df[col].shape[0] -\n",
    "                                                                                       df[col].isnull().sum())) \n",
    "\n",
    "            # Replace 'Standard' outliers:\n",
    "            if number_of_outliers > 0:\n",
    "                # Replace all outliers with its %99 quartile\n",
    "                lower_bound_sparse = df_outlier_cleaned[col].quantile(lower_quantile)\n",
    "                df_outlier_cleaned.loc[df_outlier_cleaned[col] < \\\n",
    "                                       lower_bound_sparse,col] \\\n",
    "                = lower_bound_sparse  - epsilon\n",
    "\n",
    "                upper_bound_sparse = df_outlier_cleaned[col].quantile(upper_quantile)\n",
    "                df_outlier_cleaned.loc[df_outlier_cleaned[col] > \\\n",
    "                                       upper_bound_sparse,col] \\\n",
    "                = upper_bound_sparse  + epsilon\n",
    "\n",
    "            outlier_boundries_dict[col]=(lower_bound_sparse,upper_bound_sparse)\n",
    "\n",
    "\n",
    "    print('HardEdgeReduction process has been completed!')\n",
    "    print(\"--- in %s minutes ---\" % ((time.time() - start_time)/60))\n",
    "\n",
    "    return df_outlier_cleaned, outlier_boundries_dict\n"
   ]
  },
  {
   "cell_type": "code",
   "execution_count": 17,
   "metadata": {},
   "outputs": [
    {
     "name": "stdout",
     "output_type": "stream",
     "text": [
      "HardEdgeReduction process has began:\n",
      "\n",
      "Detected outliers will be replaced with edged quantiles/percentiles: 1% and 99%!\n",
      "\n",
      "Total number of rows is: 2086946\n",
      "\n",
      "Sparse: Outlier number in listen_count is equal to:  listen_count    0.009484\n",
      "dtype: float64\n",
      "HardEdgeReduction process has been completed!\n",
      "--- in 0.006423572699228923 minutes ---\n"
     ]
    }
   ],
   "source": [
    " merged_data_cleaned, outlier_boundries_dict = HardEdgeReduction(merged_data_cleaned,numerical_columns,sparse_columns)"
   ]
  },
  {
   "cell_type": "code",
   "execution_count": 18,
   "metadata": {},
   "outputs": [
    {
     "data": {
      "text/plain": [
       "{'listen_count': (1, 39.0)}"
      ]
     },
     "execution_count": 18,
     "metadata": {},
     "output_type": "execute_result"
    }
   ],
   "source": [
    "outlier_boundries_dict"
   ]
  },
  {
   "cell_type": "code",
   "execution_count": 19,
   "metadata": {},
   "outputs": [
    {
     "name": "stdout",
     "output_type": "stream",
     "text": [
      "<class 'pandas.core.frame.DataFrame'>\n",
      "Int64Index: 2086946 entries, 0 to 2086945\n",
      "Data columns (total 6 columns):\n",
      " #   Column        Dtype  \n",
      "---  ------        -----  \n",
      " 0   user          object \n",
      " 1   song          object \n",
      " 2   listen_count  float64\n",
      " 3   title         object \n",
      " 4   year          int64  \n",
      " 5   no_year       bool   \n",
      "dtypes: bool(1), float64(1), int64(1), object(3)\n",
      "memory usage: 97.5+ MB\n"
     ]
    }
   ],
   "source": [
    "merged_data_cleaned.info()"
   ]
  },
  {
   "cell_type": "markdown",
   "metadata": {},
   "source": [
    "### Let's drop duplicates"
   ]
  },
  {
   "cell_type": "code",
   "execution_count": 20,
   "metadata": {},
   "outputs": [],
   "source": [
    "merged_data_cleaned=merged_data_cleaned.drop_duplicates()\n"
   ]
  },
  {
   "cell_type": "code",
   "execution_count": 21,
   "metadata": {
    "scrolled": true
   },
   "outputs": [
    {
     "data": {
      "text/plain": [
       "(2015999, 6)"
      ]
     },
     "execution_count": 21,
     "metadata": {},
     "output_type": "execute_result"
    }
   ],
   "source": [
    "merged_data_cleaned.shape"
   ]
  },
  {
   "cell_type": "code",
   "execution_count": 22,
   "metadata": {},
   "outputs": [],
   "source": [
    "merged_data_cleaned_1=merged_data_cleaned.year!=0"
   ]
  },
  {
   "cell_type": "code",
   "execution_count": 23,
   "metadata": {},
   "outputs": [],
   "source": [
    "merged_data_cleaned_1=merged_data_cleaned[merged_data_cleaned_1]"
   ]
  },
  {
   "cell_type": "code",
   "execution_count": 24,
   "metadata": {},
   "outputs": [
    {
     "data": {
      "text/html": [
       "<div>\n",
       "<style scoped>\n",
       "    .dataframe tbody tr th:only-of-type {\n",
       "        vertical-align: middle;\n",
       "    }\n",
       "\n",
       "    .dataframe tbody tr th {\n",
       "        vertical-align: top;\n",
       "    }\n",
       "\n",
       "    .dataframe thead th {\n",
       "        text-align: right;\n",
       "    }\n",
       "</style>\n",
       "<table border=\"1\" class=\"dataframe\">\n",
       "  <thead>\n",
       "    <tr style=\"text-align: right;\">\n",
       "      <th></th>\n",
       "      <th>user</th>\n",
       "      <th>song</th>\n",
       "      <th>listen_count</th>\n",
       "      <th>title</th>\n",
       "      <th>year</th>\n",
       "      <th>no_year</th>\n",
       "    </tr>\n",
       "  </thead>\n",
       "  <tbody>\n",
       "    <tr>\n",
       "      <th>1</th>\n",
       "      <td>b80344d063b5ccb3212f76538f3d9e43d87dca9e</td>\n",
       "      <td>SOBBMDR12A8C13253B</td>\n",
       "      <td>2.0</td>\n",
       "      <td>Entre Dos Aguas</td>\n",
       "      <td>1976</td>\n",
       "      <td>False</td>\n",
       "    </tr>\n",
       "    <tr>\n",
       "      <th>2</th>\n",
       "      <td>b80344d063b5ccb3212f76538f3d9e43d87dca9e</td>\n",
       "      <td>SOBXHDL12A81C204C0</td>\n",
       "      <td>1.0</td>\n",
       "      <td>Stronger</td>\n",
       "      <td>2007</td>\n",
       "      <td>False</td>\n",
       "    </tr>\n",
       "    <tr>\n",
       "      <th>4</th>\n",
       "      <td>b80344d063b5ccb3212f76538f3d9e43d87dca9e</td>\n",
       "      <td>SOBYHAJ12A6701BF1D</td>\n",
       "      <td>1.0</td>\n",
       "      <td>Constellations</td>\n",
       "      <td>2005</td>\n",
       "      <td>False</td>\n",
       "    </tr>\n",
       "    <tr>\n",
       "      <th>5</th>\n",
       "      <td>b80344d063b5ccb3212f76538f3d9e43d87dca9e</td>\n",
       "      <td>SODACBL12A8C13C273</td>\n",
       "      <td>1.0</td>\n",
       "      <td>Learn To Fly</td>\n",
       "      <td>1999</td>\n",
       "      <td>False</td>\n",
       "    </tr>\n",
       "    <tr>\n",
       "      <th>6</th>\n",
       "      <td>b80344d063b5ccb3212f76538f3d9e43d87dca9e</td>\n",
       "      <td>SODDNQT12A6D4F5F7E</td>\n",
       "      <td>5.0</td>\n",
       "      <td>Apuesta Por El Rock 'N' Roll</td>\n",
       "      <td>2007</td>\n",
       "      <td>False</td>\n",
       "    </tr>\n",
       "    <tr>\n",
       "      <th>...</th>\n",
       "      <td>...</td>\n",
       "      <td>...</td>\n",
       "      <td>...</td>\n",
       "      <td>...</td>\n",
       "      <td>...</td>\n",
       "      <td>...</td>\n",
       "    </tr>\n",
       "    <tr>\n",
       "      <th>2086940</th>\n",
       "      <td>d8bfd4ec88f0f3773a9e022e3c1a0f1d3b7b6a92</td>\n",
       "      <td>SOIOESO12A6D4F621D</td>\n",
       "      <td>4.0</td>\n",
       "      <td>Unwell (Album Version)</td>\n",
       "      <td>2003</td>\n",
       "      <td>False</td>\n",
       "    </tr>\n",
       "    <tr>\n",
       "      <th>2086942</th>\n",
       "      <td>d8bfd4ec88f0f3773a9e022e3c1a0f1d3b7b6a92</td>\n",
       "      <td>SOJJYDE12AF729FC16</td>\n",
       "      <td>4.0</td>\n",
       "      <td>Two Is Better Than One</td>\n",
       "      <td>2009</td>\n",
       "      <td>False</td>\n",
       "    </tr>\n",
       "    <tr>\n",
       "      <th>2086943</th>\n",
       "      <td>d8bfd4ec88f0f3773a9e022e3c1a0f1d3b7b6a92</td>\n",
       "      <td>SOJKQSF12A6D4F5EE9</td>\n",
       "      <td>3.0</td>\n",
       "      <td>What I've Done (Album Version)</td>\n",
       "      <td>2007</td>\n",
       "      <td>False</td>\n",
       "    </tr>\n",
       "    <tr>\n",
       "      <th>2086944</th>\n",
       "      <td>d8bfd4ec88f0f3773a9e022e3c1a0f1d3b7b6a92</td>\n",
       "      <td>SOJUXGA12AC961885C</td>\n",
       "      <td>1.0</td>\n",
       "      <td>Up</td>\n",
       "      <td>2010</td>\n",
       "      <td>False</td>\n",
       "    </tr>\n",
       "    <tr>\n",
       "      <th>2086945</th>\n",
       "      <td>d8bfd4ec88f0f3773a9e022e3c1a0f1d3b7b6a92</td>\n",
       "      <td>SOJYOLS12A8C13C06F</td>\n",
       "      <td>1.0</td>\n",
       "      <td>Soil_ Soil (Album Version)</td>\n",
       "      <td>2007</td>\n",
       "      <td>False</td>\n",
       "    </tr>\n",
       "  </tbody>\n",
       "</table>\n",
       "<p>1640946 rows × 6 columns</p>\n",
       "</div>"
      ],
      "text/plain": [
       "                                             user                song  \\\n",
       "1        b80344d063b5ccb3212f76538f3d9e43d87dca9e  SOBBMDR12A8C13253B   \n",
       "2        b80344d063b5ccb3212f76538f3d9e43d87dca9e  SOBXHDL12A81C204C0   \n",
       "4        b80344d063b5ccb3212f76538f3d9e43d87dca9e  SOBYHAJ12A6701BF1D   \n",
       "5        b80344d063b5ccb3212f76538f3d9e43d87dca9e  SODACBL12A8C13C273   \n",
       "6        b80344d063b5ccb3212f76538f3d9e43d87dca9e  SODDNQT12A6D4F5F7E   \n",
       "...                                           ...                 ...   \n",
       "2086940  d8bfd4ec88f0f3773a9e022e3c1a0f1d3b7b6a92  SOIOESO12A6D4F621D   \n",
       "2086942  d8bfd4ec88f0f3773a9e022e3c1a0f1d3b7b6a92  SOJJYDE12AF729FC16   \n",
       "2086943  d8bfd4ec88f0f3773a9e022e3c1a0f1d3b7b6a92  SOJKQSF12A6D4F5EE9   \n",
       "2086944  d8bfd4ec88f0f3773a9e022e3c1a0f1d3b7b6a92  SOJUXGA12AC961885C   \n",
       "2086945  d8bfd4ec88f0f3773a9e022e3c1a0f1d3b7b6a92  SOJYOLS12A8C13C06F   \n",
       "\n",
       "         listen_count                           title  year  no_year  \n",
       "1                 2.0                 Entre Dos Aguas  1976    False  \n",
       "2                 1.0                        Stronger  2007    False  \n",
       "4                 1.0                  Constellations  2005    False  \n",
       "5                 1.0                    Learn To Fly  1999    False  \n",
       "6                 5.0    Apuesta Por El Rock 'N' Roll  2007    False  \n",
       "...               ...                             ...   ...      ...  \n",
       "2086940           4.0          Unwell (Album Version)  2003    False  \n",
       "2086942           4.0          Two Is Better Than One  2009    False  \n",
       "2086943           3.0  What I've Done (Album Version)  2007    False  \n",
       "2086944           1.0                              Up  2010    False  \n",
       "2086945           1.0      Soil_ Soil (Album Version)  2007    False  \n",
       "\n",
       "[1640946 rows x 6 columns]"
      ]
     },
     "execution_count": 24,
     "metadata": {},
     "output_type": "execute_result"
    }
   ],
   "source": [
    "merged_data_cleaned_1"
   ]
  },
  {
   "cell_type": "code",
   "execution_count": 29,
   "metadata": {},
   "outputs": [],
   "source": [
    "merged_data_cleaned=merged_data_cleaned_1.copy()"
   ]
  },
  {
   "cell_type": "code",
   "execution_count": 30,
   "metadata": {},
   "outputs": [
    {
     "name": "stdout",
     "output_type": "stream",
     "text": [
      "<class 'pandas.core.frame.DataFrame'>\n",
      "Int64Index: 1640946 entries, 1 to 2086945\n",
      "Data columns (total 6 columns):\n",
      " #   Column        Non-Null Count    Dtype  \n",
      "---  ------        --------------    -----  \n",
      " 0   user          1640946 non-null  object \n",
      " 1   song          1640946 non-null  object \n",
      " 2   listen_count  1640946 non-null  float64\n",
      " 3   title         1640946 non-null  object \n",
      " 4   year          1640946 non-null  int64  \n",
      " 5   no_year       1640946 non-null  bool   \n",
      "dtypes: bool(1), float64(1), int64(1), object(3)\n",
      "memory usage: 76.7+ MB\n"
     ]
    }
   ],
   "source": [
    "merged_data_cleaned.info()"
   ]
  },
  {
   "cell_type": "code",
   "execution_count": 31,
   "metadata": {},
   "outputs": [
    {
     "data": {
      "text/plain": [
       "1954"
      ]
     },
     "execution_count": 31,
     "metadata": {},
     "output_type": "execute_result"
    }
   ],
   "source": [
    "merged_data_cleaned.year.min()"
   ]
  },
  {
   "cell_type": "code",
   "execution_count": 25,
   "metadata": {},
   "outputs": [
    {
     "data": {
      "application/vnd.jupyter.widget-view+json": {
       "model_id": "0f0ac132ca8c4d6bae915c1538a12315",
       "version_major": 2,
       "version_minor": 0
      },
      "text/plain": [
       "interactive(children=(Dropdown(description='Year', options=(1954, 1955, 1956, 1957, 1958, 1959, 1960, 1961, 19…"
      ]
     },
     "metadata": {},
     "output_type": "display_data"
    }
   ],
   "source": [
    "import ipywidgets as widgets\n",
    "@widgets.interact_manual(\n",
    "    Year = range(1954,2011))\n",
    "def plot(Year = 2020):\n",
    "    arpop = merged_data_cleaned[merged_data_cleaned['year'] == Year]\n",
    "    arpop = pd.DataFrame(arpop.groupby('title')['listen_count'].sum()).sort_values('listen_count').tail(10).reset_index()\n",
    "    fig = plt.figure(figsize=(15,5))\n",
    "    plt.bar( arpop['title'],\n",
    "             arpop['listen_count'],\n",
    "             width=0.45,\n",
    "             color = ['#caf0f8','#ade8f4','#90e0ef','#48cae4','#00b4d8','#0096c7','#0077b6','#023e8a','#03045e','#14213d'])\n",
    "#     ax = df.plot(kind='barh', \n",
    "#           figsize = (8, 5), \n",
    "#           width = 0.5,\n",
    "#           color='#75daad')\n",
    "    plt.xticks(rotation=45,ha='right')\n",
    "    t='Top 10 Most Popular Songs from '+str(Year)\n",
    "    plt.title(t,y=1.1,fontsize=20)\n",
    "    plt.xlabel('title')\n",
    "    plt.ylabel('listen_count (Ranges from 0 to 100)')\n"
   ]
  },
  {
   "cell_type": "markdown",
   "metadata": {},
   "source": [
    "## Creating mapping for users and songs"
   ]
  },
  {
   "cell_type": "markdown",
   "metadata": {},
   "source": [
    "* We will have weigts associated with users and songs, and we will take corresponding ones and feed them to the model.\n",
    "* But to do that, we should create mapping for songs and users so that when we want to take weights at specific index, we will use mapped values"
   ]
  },
  {
   "cell_type": "code",
   "execution_count": 26,
   "metadata": {},
   "outputs": [],
   "source": [
    "d_song = {}\n",
    "for i, e in enumerate(merged_data_cleaned[\"song\"].unique()):  #İNDEX VE DEĞER Döndürür\n",
    "    d_song[e] = i"
   ]
  },
  {
   "cell_type": "code",
   "execution_count": 27,
   "metadata": {
    "collapsed": true
   },
   "outputs": [
    {
     "data": {
      "text/plain": [
       "{'SOAKIMP12A8C130995': 0,\n",
       " 'SOBBMDR12A8C13253B': 1,\n",
       " 'SOBXHDL12A81C204C0': 2,\n",
       " 'SOBYHAJ12A6701BF1D': 3,\n",
       " 'SODACBL12A8C13C273': 4,\n",
       " 'SODDNQT12A6D4F5F7E': 5,\n",
       " 'SODXRTY12AB0180F3B': 6,\n",
       " 'SOFGUAY12AB017B0A8': 7,\n",
       " 'SOFRQTD12A81C233C0': 8,\n",
       " 'SOHQWYZ12A6D4FA701': 9,\n",     
       " ...}"
      ]
     },
     "execution_count": 27,
     "metadata": {},
     "output_type": "execute_result"
    }
   ],
   "source": [
    "d_song"
   ]
  },
  {
   "cell_type": "code",
   "execution_count": 28,
   "metadata": {},
   "outputs": [],
   "source": [
    "d_user = {}\n",
    "for i, e in enumerate(merged_data_cleaned[\"user\"].unique()):\n",
    "    d_user[e] = i"
   ]
  },
  {
   "cell_type": "code",
   "execution_count": 29,
   "metadata": {
    "collapsed": true
   },
   "outputs": [
    {
     "data": {
      "text/plain": [
       "{'b80344d063b5ccb3212f76538f3d9e43d87dca9e': 0,\n",
       " '85c1f87fea955d09b4bec2e36aee110927aedf9a': 1,\n",
       " 'bd4c6e843f00bd476847fb75c47b4fb430a06856': 2,\n",
       " '8937134734f869debcab8f23d77465b4caaa85df': 3,\n",
       " '969cc6fb74e076a68e36a04409cb9d3765757508': 4,\n",
       " '4bd88bfb25263a75bbdd467e74018f4ae570e5df': 5,\n",
       " 'e006b1a48f466bf59feefed32bec6494495a4436': 6,\n",
       " '9d6f0ead607ac2a6c2460e4d14fb439a146b7dec': 7,\n",
       " '9bb911319fbc04f01755814cb5edb21df3d1a336': 8,\n",
       " 'b64cdd1a0bd907e5e00b39e345194768e330d652': 9,\n",
       " '17aa9f6dbdf753831da8f38c71b66b64373de613': 10,\n",
       " 'd6589314c0a9bcbca4fee0c93b14bc402363afea': 11,\n",
       " '5a905f000fc1ff3df7ca807d57edb608863db05d': 12,\n",
       " 'c737ec8c1b16ce8e39115f4432c9a7fc21ec47a1': 13,\n",
       " '45544491ccfcdc0b0803c34f201a6287ed4e30f8': 14,\n",
       " 'ed7d4c476013b1c3dd91982b61494bf7436083ba': 15,\n",
       " 'baf47ed8da24d607e50d8684cde78b923538640f': 16,\n",
       " '169f9f4c68b62d1887c7c0ac99d10a79cfca5daf': 17,\n",
       " 'a820d2d4f16bbd53be9e41e0417dfb234bfdfba8': 18,\n",
       " 'bd8475385f0aa78830fa6dfce9e7242164b035c8': 19,\n",
       " '0afaa5d9d04bf85af720fe8cc566a41ca3e41c97': 20,\n",
       " '81bde1c3a845c64f1677bd9d28f2da85dfefcf30': 21,\n",
       " '403b3b867fc71dfdcc12652f30e88bdc7ccd9aa4': 22,\n",
       " 'f84f5b5a5c5d1d9fb4866f6488e0d2661b54c192': 23,\n",
       " 'a1380d458c15706b9d5282304db81a5a78352e96': 24,\n",
       " '405d396ea64d75b5eaefaaf8ac836f45fa56af4d': 25,\n",
       " '2c42e6551311710ca5a839d62058820a42ead493': 26,\n",
       " '8deca80c3da6024a1456e123308eb94fee1b439f': 27,\n",
       " 'bf30441e24ef5326354295723d9fe1edf59b8554': 28,\n",
       " '12768858f6a825452e412deb1df36d2d1d9c6791': 29,\n",
       " 'a58de017cbeda1763ea002fe027ed41b4ed53109': 30,\n",
       " '951945330eb5df161ac4f97729647514001cd102': 31,\n",
       " '2b6c2f33bc0e887ea7c4411f58106805a1923280': 32,\n",
       " 'c2934b29d64e467297c608351ed9695ce62128bc': 33,\n",
       " '3f152d355d53865a2ca27ac5ceeffb7ebaea0a26': 34,\n",
       " '90dbbbb47979f46ccdbc413d6b6e31cdb55aa58f': 35,\n",
       " 'ee03697dfdf668a9cd19a44a6f257b9d6a1dc60a': 36,\n",
       " 'f5e8cc6983d563ff255988b9ea0c53e67941f71e': 37,\n",
       " '1fdf267d8e81db0bb69093460fdab8254e69a2de': 38,\n",
       " '484b69dd013df1ec0cfd504886d4f647cb32b08f': 39,\n",
       " 'ff4322e94814d3c7895d07e6f94139b092862611': 40,\n",
       " 'd66f2f66f2bdc9aa3d0362a35fc91ccc844101f7': 41,\n",
       " '0152fcbd02b172a874c75a57a913f0f0109ba272': 42,\n",
       " '523a8a39456d5a96ae8f4d5e8b8b60f3bfb31528': 43,\n",
       " '43683da3c6c5a93c7938ff550faf0d039a9a639a': 44,\n",
       " '930d2be6c85315d72cab9823ec0f7bfe7e477794': 45,\n",
       " '73d0a0c725c9b2c541635672bb0572bfcb7eb2b4': 46,\n",
       " 'ca80fbb6d0deb3cae53763099e2cae7306f005ec': 47,\n",
       " 'b41ead730ac14f6b6717b9cf8859d5579f3f8d4d': 48,\n",
       " '2aa3b8c9f60070025940183cdd44602086d7b535': 49,\n",
       " '6f62f1c30b0f4b87db28c101ddcab89b4f5d7298': 50,\n",
       " 'e6b4dbf8e48346fbfd233fa96cdf5daee25ae77c': 51,\n",
       " '99b5f915dd56a0150eb91605e1f6109e1e80c9de': 52,\n",
       " '77cac5c3389010b64d01b30f725c24de4a5bb626': 53,\n",
       " 'a4851161aef67246972269b957ab54be3b002c8b': 54,\n",
       " 'b6b799f34a204bd928ea014c243ddad6d0be4f8f': 55,\n",
       " 'a5cc4c1c78e830b43bba70a8d439ad865ca8026f': 56,\n",
       " '80aa05e1251892949df7c7b1f61b6ce8ffa27aec': 57,\n",
       " '99d57b8925d3c30c534d2e651cc029fcaaa86cce': 58,\n",
       " 'edc8b7b1fd592a3b69c3d823a742e1a064abec95': 59,\n",
       " 'fe979a7b199de3ee8a78486c10e5ed13587fc359': 60,\n",
       " '732f88be38fae217f8ab7e24c20dd072436e3e40': 61,\n",
       " '0c1a6a1fc9b0e6df616c5bddace2559a7952ebe5': 62,\n",
       " '3f9ed694a79835c921ef6d94acd28f876c1d901e': 63,\n",
       " '1a849df9dabb15845eb932d46d81e2fd77176786': 64,\n",
       " 'a4a1daac7ba5534ade06e32c5b9d220eb5ce145d': 65,\n",
       " 'f28f980d8842ebfaa31e8fb3939aace4a43a18ec': 66,\n",
       " 'daebcdcf97caaf54a327b8ff52eca9f320599a10': 67,\n",
       " '4c84359a164b161496d05282707cecbd50adbfc4': 68,\n",
       " '8cbb5066924ec788e3fea9a4aae59586f46f38fa': 69,\n",
       " '3b3c1e29095a98ae07e2427522244f10daa69340': 70,\n",
       " 'c2cffe9ccaa09a327e8134e9a1f24901801fb2f8': 71,\n",
       " '01655ae6bc52e29c9cd100a7dde4e9eeae5e4031': 72,\n",
       " '9fba771d9731561eba47216f6fbfc0023d88641b': 73,\n",
       " '62f2f9b881dc320d745a90c0c10528d18e10deb1': 74,\n",
       " '1b00fc5a510fd249d4d2f94e7f21f1e2eeb21cff': 75,\n",
       " 'b4e32cdb654ab914a0ac73d2bbc5cae142da405a': 76,\n",
       " 'f47116f998e030f2dab275b81fb2a04a9dc06c33': 77,\n",
       " '20d0638c7ada27ac12346b0ed5ab99b39524291d': 78,\n",
       " '7e2b716907a9a295d92c2f35d7e260aeee2b32cf': 79,\n",
       " 'ea07020bb223c733ccc55aa925ebcc25c4d97377': 80,\n",
       " '179b2286bb4eea7193bcfa0c36fcfa4eade2b34d': 81,\n",
       " 'b61afb42335287239bd40e1dea50d849cbf8a9a9': 82,\n",
       " '78e0065cacc15d6329be91b77045f12ab18cbea5': 83,\n",
       " '3ff7a31452eeabd7a4e07f0d243c674e3d0adf46': 84,\n",
       " '956044d724390e40c8511b49e5bf6bc28071de3a': 85,\n",
       " '07caa920795cd4f20bfeeb0e192a5ddd9566ecdd': 86,\n",
       " '8247c08db9dba6cc18cff4381c7279e540c374cb': 87,\n",
       " '589d9f98cb25b83da2450733437fb9a79dda116d': 88,\n",
       " 'b526db34ac055a64202fe7af4b16130b7de545ab': 89,\n",
       " '15415fa2745b344bce958967c346f2a89f792f63': 90,\n",
       " '66166f4f57bb897f1f8e2aae6f53f776088f43d8': 91,\n",
       " '5555d1bc4488a310753a9d7b4c4d0b92c2d5d674': 92,\n",
       " '95942345306393998eb3a051ae5fa3c4d5afbaa4': 93,\n",
       " '344af62cf08ea5c4ea1eb554366d221c1431f4d3': 94,\n",
       " '2f343c8bd0502c4cf851a6970e47d296a4b76d5b': 95,\n",
       " '9fbc0cc4fe6191cabdddf41124bd507dca08ceb6': 96,\n",
       " 'eb9d84c10ac4bffeb383a3a7c2d5207c93da4a84': 97,\n",
       " '55e29789181da8b9c8e9d5f3b624a029492d7616': 98,\n",
       " 'eb1ad31d040406c6428c5f4420b0bc709b1c5350': 99,\n",
       " 'b1269307f2ae8c17062c6aea2502b099aad517b6': 100,\n",
       " '95773b3725a96464c85a5121d00f2566e6e8b69b': 101,\n",
       " '4b73abafd2a8309c29695ce368bbf17ab32f3d3a': 102,\n",
       " '175fb4d4bf89b82021524e9485fffd47c3ab1aaf': 103,\n",
       " '8ee90038724c4957eb4df16f3e9c6ed2b570a3ec': 104,\n",
       " '7c5ab90ba508502a888843a71eef80bf186c7b88': 105,\n",
       " '515c6d7023ad31411c1f6b11e0b2f56810348bee': 106,\n",
       " 'b44a7b18e5861d6b5c0094e43239191cbe5ff4e1': 107,\n",
       " 'bd64f193f0f53f09d44ff48fd52830ff2fded392': 108,\n",
       " '4782b9bb73322bf80329ce5989128a67bc538747': 109,\n",
       " '881f2e87fe2a45ae27d6e235c156c762ac3cb82a': 110,\n",
       " '85d0d381551960608e02df98956277e495b3cf6b': 111,\n",
       " '5d5e0142e54c3bb7b69f548c2ee55066c90700eb': 112,\n",
       " 'e5a70dc3270e08ee11ab1325297eccb3158ce383': 113,\n",
       " 'c2d86e9cbf756ce05ea3c163e24de394585b7c53': 114,\n",
       " '4192e443e37ffa08f1cc02b10b42b4a178a09004': 115,\n",
       " '176b5e98c1f01dba146ce8c6e15cf6fc344485ec': 116,\n",
       " '0eda271c8bf8b846c1c0320f6b7656ca73b80992': 117,\n",
       " 'ed3664f9cd689031fe4d0ed6c66503bdc3ad7cb6': 118,\n",
       " '3bd42c39df324c33509a40ca917343553ef38da9': 119,\n",
       " '884209a41deb55df792f074bccf8af1c1c31768b': 120,\n",
       " 'd775b2f1e62284a3ff407b91fe53d08525f6f086': 121,\n",
       " '8814f5d1f1d7177aa2efb6de6454504f3bb7b7bc': 122,\n",
       " '9b887e10a4711486085c4fae2d2599fc0d2c484d': 123,\n",
       " '399793ee5842e6f5b0b7f04fa5ec402454e2fe34': 124,\n",
       " 'a520488fcf049bbb5cd847cfa4f884c740692780': 125,\n",
       " 'bab8d135cf88852063ed4a084dd24c783d7ff841': 126,\n",
       " '7ca1d6d28c87f8edb0b639c0a31cd14f7bc98fe7': 127,\n",
       " 'e4e99e5b3223bec258cf2ff0d090d05a06302344': 128,\n",
       " '8dcb524ff75e0ad0f0a80aaccadf7bbaa3b89a41': 129,\n",
       " '5235516080c0ad60972e4f4ce72238697e4bbceb': 130,\n",
       " '5e161b9e14f303a0cef2d3f44d07dd946549f89f': 131,\n",
       " 'e4c05157f8cebdf3b9d689c441ba97c5ed5db05b': 132,\n",
       " '8bc2733e75989c8de36cf1bb596dabfd72734e86': 133,\n",
       " '18dc95f354220b343e98ebbb7c8564291284ed9f': 134,\n",
       " 'fbbf68d14c77af55044a7e27f7befef5c923aa08': 135,\n",
       " 'c162cca4595e5b2fbeefed35ae0f247f648d7751': 136,\n",
       " 'ea6cbdb88a3bead8ace9c163d8e8eca78e374a19': 137,\n",
       " '0ef42a19efb74d0a05c308d00636c8d8d41bec0c': 138,\n",
       " '2475b003df9c084c1488b2e63666e8cc87112180': 139,\n",
       " 'e0388a836f13f4c1f8aa600ae61625f087f40353': 140,\n",
       " '29e030a1eea04c06837b466a5328bf55133c84ae': 141,\n",
       " '85952991b8e3ca5803a08b0b2f9c6d71abf9bb5b': 142,\n",
       " '2341121b6d6d2020303f02053dad60586e41034d': 143,\n",
       " 'e96e052152a7e29bcfd4b841859c66249f280303': 144,\n",
       " 'bbcdf7099bf1429850d4d0a1440ef3006916f4fd': 145,\n",
       " '7661038e3e655fd31961ad18aea13dded963eedf': 146,\n",
       " '56b0a86f8093f90d1c9ab1762467c44808ceb672': 147,\n",
       " '06b31818386e598017a475f8e349b3ca31ba3178': 148,\n",
       " 'e8e8fda1705d4366eb47efd2ffc4f03af905d962': 149,\n",
       " '25fc0200450bbf726c8511fabe31ecfdb81732eb': 150,\n",
       " '17ac9905f03a5d2908ac64667fb156bf63ccae66': 151,\n",
       " 'e21477efb83bd323205ce6f5bd662f3df9d477e5': 152,\n",
       " '03c90bfd09151973863c4cadd5a749cd7982abc0': 153,\n",
       " 'b81bead2912258259b67d88483244f88062d4a6d': 154,\n",
       " 'dfb41c400ed8fbb064644d173f8fd00398ca4370': 155,\n",
       " 'eda12b54342243175dba3db83f66eade127d2b4e': 156,\n",
       " '7d0317ddb859a960cb4836e7c7e9982a54fd64e2': 157,\n",
       " 'f608c215606e6421a429ea28ad08243241d5347d': 158,\n",
       " '3187e658fd71be99d68d96f3a61a436c8a607365': 159,\n",
       " '537340ff896dea11328910013cfe759413e1eeb3': 160,\n",
       " '49af82075bf3a444487a70587298fd93fb8bbe1e': 161,\n",
       " '4691b4c353503da2c108e372ff056a9ac847c4d1': 162,\n",
       " '12497e138741a0b94bb36a14bef32c9d0ee20fec': 163,\n",
       " 'ffadf9297a99945c0513cd87939d91d8b602936b': 164,\n",
       " '685480702e45a90a3b38b543941d8ebb422aeef3': 165,\n",
       " '6ac64072cb8f308f36c64cc4aafb6021fef70476': 166,\n",
       " 'b4adf5ac8bcba59011df7be840dda1134a47cc30': 167,\n",
       " '2418d6837aada8911991cc748bc70a9a479f0cb4': 168,\n",
       " '37029a65b9925fb3c1964774fcab695b82955f76': 169,\n",
       " '12a4a991c8b53cd6906995caed8b1f2bd3b6436a': 170,\n",
       " '96e72774fb758108c78d91c110e78133c9ded266': 171,\n",
       " '8caf9a87e266a22298bd977a63489d008af241c5': 172,\n",
       " '1b704d4cddabea8258bd93497fcb73eab32fa592': 173,\n",
       " 'eb78cc7907c80266eede622da13510fc5123ae7d': 174,\n",
       " 'a54543f7282b66b3c8423181bf2789e1c7eb2edc': 175,\n",
       " '9d100b4175fed9da71b76800b921c4a40d0208b5': 176,\n",
       " 'e2f4c0d8b5b7e50c31931300e9339943fc0cca99': 177,\n",
       " 'b009d2161ab50a122f8c81adb7ce0d40e8e42f2d': 178,\n",
       " '19d6ebd8c8a622d1b0115c63bee06523792215b5': 179,\n",
       " '2e37aa820994c7e8465721a6a6ee78f48fc4df7a': 180,\n",
       " '956999576244ad42d6d41faac8505fbef0a4ccc1': 181,\n",
       " '4d4abafb7dd7a30206747398c9225f3e06942b3f': 182,\n",
       " '343fc3fb987ca12c3c5df154c2b4721ca111f696': 183,\n",
       " 'fb41d1c374d093ab643ef3bcd70eeb258d479076': 184,\n",
       " 'dd7349a9e017c5ac51cb1cc97dd8a9ad057566b5': 185,\n",
       " '624d58f26c2e5691ed21bd560f8b3d30f932e9f7': 186,\n",
       " '8f241c98c6cc95ab4a8260ff9b510c2e445a33d7': 187,\n",
       " '806ccae96c8ecb1c198482aff785ccd6bbe17143': 188,\n",
       " 'adbd40c4f3fe78e7f49f491ea04859ea07de1ed1': 189,\n",
       " '49004e0f0819dc349c9aba9d233a6c1a0d88c590': 190,\n",
       " '999902c7302ca251b23f5c0d643debce084076d3': 191,\n",
       " 'c4bcf00d005e6848a032d94f7fb212f499cdc1ba': 192,\n",
       " '4449f7ea241ceb4a2d1e2298c4aead417b26899a': 193,\n",
       " '93daed66184da1bf172e853c537f72ec93294fab': 194,\n",
       " 'd305e8d98cf77ce3b90c69580dd3fc38e86fee93': 195,\n",
       " '9a0215ffab0f8322aeb36fa6636444b050462a51': 196,\n",
       " 'c1fc436b58e28b3e3f1b43a4e955baa19d8a69ba': 197,\n",
       " '3fef4e71c70ae99ef8a4da00e431f9cdb2b1b729': 198,\n",
       " 'e701a24d9b6c59f5ac37ab28462ca82470e27cfb': 199,\n",
       " 'cd7baa603618c40b9290bd05112061afefdde8ef': 200,\n",
       " '5e3d8c9728270d6557453f0c738e7f443feef13e': 201,\n",
       " 'be0a4b64e9689c46e94b5a9a9c7910ee61aeb16f': 202,\n",
       " 'e61ced632f8c40ec1842d0833e8ac0ffb9a9e934': 203,\n",
       " 'e11a55c8eecae195a596ca208ce69d2eb550689f': 204,\n",
       " 'b3de3bf6a0d2e5953d3095a58ee99fd362b97e8f': 205,\n",
       " '7ee2550ad5867a0793a624eb1b3284e49639c45f': 206,\n",
       " '0e695c8614e9d76a157f39d4b30e7b076d3f3147': 207,\n",
       " 'f0117aaaa329925350271431c324f4cf0468bb0c': 208,\n",
       " '7822f4f6c7b830abf9ba48c4b7dad7e9175d052d': 209,\n",
       " 'c01f9838d66929bd2494eb8e627054024a13d5c4': 210,\n",
       " 'f17b1b6f0e2dd48d2d0ffde4db7c5b385b8ec253': 211,\n",
       " 'b96f2a9cbd9d86b4f9f15978dd3abbdfafe26502': 212,\n",
       " '7dd192c8bd4f27f573cb15e8656442aadd7a9c01': 213,\n",
       " '116a4c95d63623a967edf2f3456c90ebbf964e6f': 214,\n",
       " 'd9f2ea75b38f548535caee41d2c0b0e3f9859b1b': 215,\n",
       " 'c6c57f27fed3cf897daa4f830a0e2a17e65ba77d': 216,\n",
       " '52df18b9b1235ac56507cb4119fc5b3f6f010dcd': 217,\n",
       " 'c379210476d2044769c5f421e392c690f5229757': 218,\n",
       " '8fce200f3912e9608e3b1463cdb9c3529aab5c08': 219,\n",
       " '294e414d2d663a93691461909e6e1ba8d1fca2d8': 220,\n",
       " 'cc55e399781439435a046bcb1a4c78dc2c7ec0f3': 221,\n",
       " '6b7a5895d266599bc414b9eb8fbad59c95b9a99d': 222,\n",
       " 'e3937c7c32f5b68422808a854a4a7a824ee448a5': 223,\n",
       " 'b11e6a84c54160e61efdb9cb5a572b419aa33ae9': 224,\n",
       " 'd463373940530414e6f3dbfa95f694fd8dd2d2f7': 225,\n",
       " '99c8f28e3349b5e1e719995a008912b108126f3c': 226,\n",
       " '4bd925e2dc2205d8b885bca02a88852fd9c49af5': 227,\n",
       " '5086e11a2b5495ba0737636a8f0732e845103770': 228,\n",
       " 'ebb3d26d2662c42f6304f883c150ebdb2fb05042': 229,\n",
       " '0a00498b9d607844a8826184ae7278097d1c008a': 230,\n",
       " 'bcb944b714cd54d7e263b21c49074d6a147479a1': 231,\n",
       " '9c2032efba612bccec98435a3928b67d69350bed': 232,\n",
       " '4208d4ac45e7caab7167a4ea6d34e759a6b9a1fc': 233,\n",
       " 'ea64e003562d2f0f39e5a7dd84af5b1969e0fea3': 234,\n",
       " '5ab56ead71b71022f7043fef70a178b7035629b6': 235,\n",
       " '3851d01aa9d1b2505fa361b63940e8cdc9a3e754': 236,\n",
       " '529b42cdbc379ad2e765aec6d3bad8a192038741': 237,\n",
       " 'd5618c6813c7a067646edcf9c7243ccb95919460': 238,\n",
       " 'dd88ea94f605a63d9fc37a214127e3f00e85e42d': 239,\n",
       " 'a699816c7f4f8855808eee732a5cbd1620091998': 240,\n",
       " '610eaa449a4793ea791ff12252845f6002794c2a': 241,\n",
       " '0c306ce1440dec3b5b07b425880e43b4fb66fe93': 242,\n",
       " '66a0167a7c636b06efc39953aca127667beea260': 243,\n",
       " '53659e6ae51d163d5de5709c53707df87a669cfb': 244,\n",
       " '7c593e9db9a77a2dc8d3d975bb837422d1b0242a': 245,\n",
       " '1a640060dad45f7cb120578b24533f36907ad1b2': 246,\n",
       " '50c39de4224902396941f7515c8414d4e3c48449': 247,\n",
       " '28b232e7ecb32c47c05b795a017786d4be96ef7e': 248,\n",
       " 'fa1e129119f9a5ca7b34d3566e6a8e7a0e0358bd': 249,\n",
       " 'cf0f642e9e796ba3c47118687782426c5427efb5': 250,\n",
       " '7d9b58502405c5bbbfff0c5683cb2dea71089908': 251,\n",
       " 'e188e309e19e0847a05156d6efecc04e4bff4fc7': 252,\n",
       " '94d5bdc37683950e90c56c9b32721edb5d347600': 253,\n",
       " '7602b1490de8e5ce87ac674643a99d8a569d79f0': 254,\n",
       " '6e431141b00c8b8708bda73d658b7ef6ef156e5e': 255,\n",
       " '401c2c49a7c19456212222302a958d715fbcc3ba': 256,\n",
       " '68f0359a2f1cedb0d15c98d88017281db79f9bc6': 257,\n",
       " '4273611413c7199a53ee116edc8d7b0ba56482d5': 258,\n",
       " '9d332c1944d50d7e4653722db5ba5e55daea2bfd': 259,\n",
       " '497f5a58ffeaa953d619e95ca5b8736e74b99127': 260,\n",
       " 'ec25e3d78ea8374869a772dc58bb903528a3c9cc': 261,\n",
       " '53ba380d234fd6022818340983570354ee207f6b': 262,\n",
       " '6a92e22c2538f895532457bc531be9c6d92e66e6': 263,\n",
       " '5aa89364746d7f350d35a403da8f397bd9d32b41': 264,\n",
       " '54028f08e511355e130c47236a7496091005b9f7': 265,\n",
       " 'dc777dbe9ced6ddb5b813e7e0bbb718171b87870': 266,\n",
       " 'e2f4d01b8fc576adb490d07cde3573ff598a2fb5': 267,\n",
       " '8d11c46a7c926f38b505eec8e6c4ebdafd255398': 268,\n",
       " '1645b689f873529ab85e3b72742be44813e82bd3': 269,\n",
       " '3fc803c12264ab6599ee9e379c565be2bb3b0903': 270,\n",
       " 'f10e613636ee8e1f4d3a7f2b21ca9cd36d2e9d8d': 271,\n",
       " '390c2e81bc9cf885608a0891c0a7eb13f1fd3336': 272,\n",
       " 'e427f647c231c1bde8881eca5b2f5db9b3bcb2b4': 273,\n",
       " 'fca15b7964a099b2860dfdb158a2430fb10c4384': 274,\n",
       " '1764b2ebb09e2a40e11ed82f9c37a53a706cc4e1': 275,\n",
       " 'e4b02864403d483586cd9c8ed6b9bfae56fe8bc1': 276,\n",
       " '0560337e6a33be7149c9568b5fde5788294fe101': 277,\n",
       " '95b2ebf54cd69d732fa433ee8994be5818793efb': 278,\n",
       " 'f00f83927e9e39cf1c1e318d5391a697523eef22': 279,\n",
       " '6251be155cbf0728f2528bb02951e0bc6c11acb2': 280,\n",
       " '9c4e14bbd043846b632d3737f08104dcaeb88142': 281,\n",
       " 'dde4fa01de271d51a4a5617ae79820cee7d26d96': 282,\n",
       " '0a004c08b700e4edb74b44c2dbceca4280760a9a': 283,\n",
       " '38db697de143ca55dcf259f99275624710e233c1': 284,\n",
       " '4bc4ae71635b18628f4b0fde4ecb0a40d6d68bf5': 285,\n",
       " '42c9fba813dd9ca8ca3673277a0f923b6845a7a6': 286,\n",
       " '4c96b97b22e0b53c270adc6165eaf64a2a48588b': 287,\n",
       " '5a60fbe99993a5d49fe89dfcd36a39b7180316cc': 288,\n",
       " '2d4df82baf7a0c2f39706a40c25f96fa0c61ef19': 289,\n",
       " '6ebd0e701753b9573d479bd53811a8788dba09d9': 290,\n",
       " '97cd6b9403a63af8b37839f959e1758a3923539f': 291,\n",
       " 'ea3b77e3f9b5688dc3998b2e706ea2c0ca48b8eb': 292,\n",
       " '781d38e5e6029826707b207d7c2ef5c120fa36ed': 293,\n",
       " '645a5b400d31ce69611137da3ebd35d11d4dda4a': 294,\n",
       " '4f18554aeb06f8d8612037549100d6d8d4afd021': 295,\n",
       " '14903f6491e335f4c5f9c42573d700e7ade59c5e': 296,\n",
       " 'fe76c9d535c5834e4a9b91c13e29be6460cb79c4': 297,\n",
       " '135ae184f8552252dcdec7f82ff6f647fa76e9ec': 298,\n",
       " '66da9a2bd5b588e150e08ff9510b59fe30a4abcd': 299,\n",
       " '39eb6b6dc155f96203daa8bc9cd7ea55dc25a7fd': 300,\n",
       " '51182330ee3e55d808df31a951032692c5cefe8a': 301,\n",
       " '25c6bc04a88cda0dfcbb71d8f9d1f30b8fd641c8': 302,\n",
       " 'dd67a78d5f9d8140a0d83849441ca1807f7ea790': 303,\n",
       " '2151970107e08d58919003899f952b64af0ee0ec': 304,\n",
       " '8c0a675214831879573af98d632bf2684273e0d9': 305,\n",
       " 'e6fbcdd689ac0e85992536933f1f86503310447f': 306,\n",
       " '54f71502eca501e23380cbb9934f451694f1e20e': 307,\n",
       " '6f8453b0d9d2199f98c1992995a8445ad6837fd8': 308,\n",
       " 'ea824b9b2e5c9fd5916b1936f57ecb15899c9281': 309,\n",
       " 'f6f0022738877d8b6627093f094b71fac8dae523': 310,\n",
       " 'f694565a4451ed33e6741ede8cd3a7eaad66bb84': 311,\n",
       " '6b72bb3671b838d92413635008e5d41bdb454e2f': 312,\n",
       " '295773c4193b190d3527c6fcc228e879809fee1a': 313,\n",
       " 'fd585aef5c32d3943bd6e7f9f39aa216ba659fd0': 314,\n",
       " '2c218a60b3d777e9e12d56c2e065a9644b5e5f41': 315,\n",
       " 'c24ec42f0e449ff39a95a01f0795f833b898f71b': 316,\n",
       " 'e507a8acd03bbd1f6c2088bd70a0ab2ffb277cd7': 317,\n",
       " '370190e231e1d4a9353d50038f59a0a33f7168f0': 318,\n",
       " 'a56bf59af6edc5ae6c92d61ddd214989332864e8': 319,\n",
       " 'ae99321be6e9a79bb9c2dd4b2aa8b49fdb9efdf8': 320,\n",
       " '319e7ef4be6f8fcdb21b40a4f4b22679d4c59e33': 321,\n",
       " '672a1973a091e8ed8f4d46e3a740621f5fa4176c': 322,\n",
       " 'fbc8b4327aa8ae38d17b567f486468ca10cacde3': 323,\n",
       " '0dd93f61fe69f292ac336715ef607214efb3dbaa': 324,\n",
       " '779b5908593756abb6ff7586177c966022668b06': 325,\n",
       " 'e06fdac28cdd1d69d89de27868d5f02f71c2ee44': 326,\n",
       " '84bd2acb2984b6f1cbc45866b89e692cbc53fc44': 327,\n",
       " '3fd3acaa8dfeb94b0602a33085b44ebe80545dd2': 328,\n",
       " 'cb8ed62245335312d58c97c1d5c68b4cac682afd': 329,\n",
       " 'e9fd0bd8d99e77d97e8666cc6d065c1954040ddf': 330,\n",
       " '249e86c60ec6fce5c8588d51fd94e85dd47ecff7': 331,\n",
       " '6beb4699102775dab57aa406c5ea1217c4ff4869': 332,\n",
       " '33807e46640c7be38f02b6a61d7f1a4f31446b52': 333,\n",
       " '38f8b6f0abab153083b15a0512b18f617df571bf': 334,\n",
       " 'a84d63685ee588d45679887fba2c5ad29a9c17e4': 335,\n",
       " '1b96dd04ce96aa7995e0f817e762ca44a24aab24': 336,\n",
       " '22d652f8891ba2186a4ce3ee8de7c192148108ef': 337,\n",
       " '1a39cf33853fd23d2242cf7b13cc8eb445befdd7': 338,\n",
       " '1012ecfd277b96487ed8357d02fa8326b13696a5': 339,\n",
       " '8fa25e588aeedaa539674babb75729ac9f31f15e': 340,\n",
       " '4ccd8c954827238fb97bcedf005ef6b3602370dd': 341,\n",
       " '9d84d1bcfde6464c02561fbb5dcb294678778b25': 342,\n",
       " '97e48f0f188e04dcdb0f8e20a29dacb881d80c9e': 343,\n",
       " '57e32b0cf88d1e3344dab420971ba46d08dd34bd': 344,\n",
       " '8bde0ae3eda6b6f26c8a91eb5750d416acb3d508': 345,\n",
       " '9012fdca7eee0b946329367498a578adb5271ed8': 346,\n",
       " '3e85485842091c62ad86fa31f1e35799df1cf0c4': 347,\n",
       " '5e2ba12ad8f80f03471efdab6ac7d4b1734773ae': 348,\n",
       " 'c5c7548cba9970b695f1ade5164c11a0101eb00e': 349,\n",
       " '4600442e761b6f636a08134b10b9b6c38cef6ba4': 350,\n",
       " '332de6dcfc5b597500a661ab51a84653705b492b': 351,\n",
       " 'b12c786deef0e618b5f277bc337f67128f425efe': 352,\n",
       " '4b65fe3f5e0caff1cd870637d0f05be160a721c4': 353,\n",
       " 'a8268c552c1122626ba8ab4d7cf2f799de7931b2': 354,\n",
       " 'b4e93ce145d511946e444cbd22c090b78735c99f': 355,\n",
       " 'c5d42aa00afa6889de703c49f40ecb26b1c401c4': 356,\n",
       " 'c18b096e15ca0adf42c11763c9535973cc4b507b': 357,\n",
       " '4e7c9c148ab29ae7fa5cd31eb4302762f18399cd': 358,\n",
       " '1df33b965ac9afb508f1d36be3df999c2f0e5138': 359,\n",
       " 'b923c4fc244d671f96ede79a60b10da1583ddab2': 360,\n",
       " 'ba8d1693c3c2153d4eb7952c786c575c1c68cc55': 361,\n",
       " 'bf03bbb01a7803ed1a5fec51bfe9423a79737d1a': 362,\n",
       " '08c129083a44492415e40b70d8f90755e15f4a91': 363,\n",
       " '15cc706a7f24975ca831aaaf297bf0392746b3fe': 364,\n",
       " '0c876b6745da5d31bc51c7e86939aa9416556ee3': 365,\n",
       " 'c70c756bbb70357332f7d66ec9f90d2c50859129': 366,\n",
       " 'd3284cec0f3d1f36f44e73c0e834d657ca39b61a': 367,\n",
       " '08d31ac4452516e702815fef13b2059aa8210034': 368,\n",
       " 'bad24a7b2a002cda673d5fb565720174d224a94c': 369,\n",
       " '7ef2a3b074b34984f3f677bddde0f1813486cc10': 370,\n",
       " '76b24d33cc0b5776e23296ecd373d90b7d38aa16': 371,\n",
       " 'c231bc806c239b1322421e66fc001822a9b2c2f0': 372,\n",
       " '2b79b0776bb0a23e1685e18be12bb54a47cdf6cd': 373,\n",
       " 'cb35a1b6ae2508fe236d3dd056707bf112930999': 374,\n",
       " '0d176eb95537800a1e67ed5fe82eab3d2caafca9': 375,\n",
       " '98f6ec3ec16c5bcb3f37a6dc01ebb1110fb42f97': 376,\n",
       " 'a8b1c5a96c1e5e78e55d66a8f46c187bb3da0550': 377,\n",
       " 'ea9e916140454964041979c77e40b9c24ad189d2': 378,\n",
       " 'c9238dfb9fb25e453c3b9166fdf85cb8d5cd7ff5': 379,\n",
       " '4d03c8ece064a369c8555af777b1524c458825a9': 380,\n",
       " 'c78aa603dd64a81573f6050edf759bbc43bf7776': 381,\n",
       " 'ec0bb33707cdc61a6999b41585a0e1f39d0ae6d3': 382,\n",
       " '5754f85d21738eef9974685227d6243e3ed617fe': 383,\n",
       " 'd410ef7af76c35f1e84746d8c4467293ecda3cc4': 384,\n",
       " '40e1c7170f652bc5b29dac49137bc7dab7396758': 385,\n",
       " 'cc0ffb56aff5365d7f10d05174324a061c07f2e2': 386,\n",
       " '1b724b66314d54ad60efae79a106482072108afc': 387,\n",
       " '446a9fcf3dfd3397b1d3e2d9fe8940fd7dd3da8c': 388,\n",
       " '38d0e8b1fb8fd58a92a0eae6480a00a02d51eb65': 389,\n",
       " '3f9a8180776f260cd5bd933e6c49085c687856a2': 390,\n",
       " 'f927dddfe26b0c74ada3eaadca41bfb462c37ee4': 391,\n",
       " '4ad8037982f52ce3e38d7ae7f6897401630141ad': 392,\n",
       " 'a47193586f18f5ea959cae4046da57c969e8ba5e': 393,\n",
       " '0e68e0821495382c78fbb91758c250c8edf0cfbb': 394,\n",
       " '36ee240f72368a68fe8bbe74c72330f4550032c7': 395,\n",
       " '788b4a6742e3591ee18533ff2193f7b3351e991e': 396,\n",
       " 'de4b6bc067e53e24a479ce0672a11af971c31c08': 397,\n",
       " '8c988121b42b7ea022387235373d874902025020': 398,\n",
       " '38c11af0c42bb21cf5b9ffb535f76c7967241b52': 399,\n",
       " 'e8612acfb1572297ea0eaaa1f27927d55fdcec65': 400,\n",
       " '5244eb3258e97f91b0d446215fa51717107e0d87': 401,\n",
       " 'c3953e49b785c940f53a556abd9ca681c5ef48c5': 402,\n",
       " '28d146f636c529e2becb72c6565be603b1fec869': 403,\n",
       " '924aee632d58b1dd81c94cf71624dbaad40a2dac': 404,\n",
       " '36885419d8380902f7f3cc3821d8ed282e6e1600': 405,\n",
       " '25c685bf46dc020a5a18219a76b911e27b02dc0c': 406,\n",
       " 'f0c186575b271f43a16ff2325657b4377c72559d': 407,\n",
       " 'fb6548e795d1c866f3079619da22fbcf1360e5a4': 408,\n",
       " '76bcebcaf7b1f20c857bb8a23d0030b086cf292f': 409,\n",
       " '46ef20eaea929eb08509e92cea6b97edbb0bcea6': 410,\n",
       " '2a0bfd858b2ed706d390d5b6562b8fafe26092ba': 411,\n",
       " '0039bd8483d578997718cdc0bf6c7c88b679f488': 412,\n",
       " 'abb000feb50180aa9db8438a80c0359823eb9366': 413,\n",
       " '2c4c75973ea3c0f2f2443ad03f0b89b3af922274': 414,\n",
       " '68238e23f78df5e5e891c89f1ea1cfc9c85d9fe5': 415,\n",
       " '77448d704c1b9acc37037d400302ce7f8a9496c7': 416,\n",
       " 'd7f7ead05fa700cc195dba2a5aa3e47cadcac4b0': 417,\n",
       " '03ccd6969d796607ca4e04cb120e56fceb823445': 418,\n",
       " 'fd13b9d49c54e00ff413fe3c095ba581c7fc611e': 419,\n",
       " 'd9b64b85589775e7aa0ac5fbb7fbf255f8792b4b': 420,\n",
       " '72faccda324c80af5a943b617e5558088d5e9156': 421,\n",
       " 'fb2f2c0e39e233622c300c232a6287738007e34a': 422,\n",
       " '905e0bb88e1f84e1e59a597218ab626ceb9c9f3e': 423,\n",
       " 'b7e8058333e5cd56fce818c6701e354ca9350321': 424,\n",
       " 'b6c8205aeab398dbef83373e393cefa2ed61e33c': 425,\n",
       " '3600b1c31c4b777027ce8e2661936896e9a8fde3': 426,\n",
       " '1debcdce1fc6c1cd34912665f8134dcff229ce9d': 427,\n",
       " 'a0c568ae4db80d68428a3d6c4a3aa6157d611c02': 428,\n",
       " '71c5f51e225ceaca4fa1823f0cce080624bea9e3': 429,\n",
       " 'a36834ff1c3910e685a9787e4d16aade6f4d3294': 430,\n",
       " 'b46ca26d4ccf3a893299fad2b198af9374276d9a': 431,\n",
       " '41c5b7e99173ee92361de263dfc0c5481e902c16': 432,\n",
       " '826cb37d1226f97ccb3ba7c21a98c56fda02c120': 433,\n",
       " '18d4b740d7154598cce28544412d4c5d869b7e3f': 434,\n",
       " '6b015fe063d77e86c3b995fe1c18a2fdce9b8946': 435,\n",
       " '9b633384fe2be667725bedc568d50a96532deca1': 436,\n",
       " '4f06eea7b692965d3a571090c7c0b05a851881c8': 437,\n",
       " '0e2a5a5a473805d1a65ef7b9dc167942de56abab': 438,\n",
       " '681f1c40ec8538eb4d5d3c95b4aff1697bf6cda5': 439,\n",
       " 'dbfba347d43a6eb2ee3452ffaeec44b5bdb9f799': 440,\n",
       " 'cfe2597d65893dd89ca0d8395d11ef5a2cc4bd80': 441,\n",
       " '51021104f92c3d127b18a720bef86a0c2cb9571a': 442,\n",
       " 'debd7b5a906c947738a5b9f0c899709817643301': 443,\n",
       " '8c25b634cf381c1d47f9301c7222a371ca0f4ef1': 444,\n",
       " 'f4cb73ae983e98577f46deeb0cb49a7fbd2f690f': 445,\n",
       " '1bdf12b7ed9b9dbe2822970c7ed0bc669e558c3f': 446,\n",
       " '38101377960ae50c563e4c7e9e719dd2d4b4991e': 447,\n",
       " '7d9d39d646e13c04e6bc8a89d0d05429d9b3fdf9': 448,\n",
       " '98403bb989442671e14054a9a4638338dcb67576': 449,\n",
       " '36c2856d06977ca806b5778b063e7b3ca829b07a': 450,\n",
       " 'e5b3fb84605d5b6df927cbeaa1dce013fb672542': 451,\n",
       " '355429a240c40b288d8b9c48e2849c5f67303dab': 452,\n",
       " '51bb4e13b0d2410da3d779af90092eee9b159e4a': 453,\n",
       " '087b949b3fde63ddab83d61d4ba82a6f162bd50c': 454,\n",
       " 'c54663dd2b08fe7517f634545093581b8175a924': 455,\n",
       " 'edc4e3b50cb4f23282a157edc7ca7cf09afcc093': 456,\n",
       " '729162979d4c66c8d9b93652b30b8d9414ca06a7': 457,\n",
       " '530d2b9883106d185d2ce0e2069b89a90a63c55f': 458,\n",
       " '38b3d1771dfbd0d8e2391ad3749f0bd93643210b': 459,\n",
       " '7321eacd7dacb47f92f8a364b50df9946cd6e230': 460,\n",
       " '626209e32b0d7a616536e8063b6a23c9a106349e': 461,\n",
       " '9b392166d01817895c03dc190f4eff58153a25e3': 462,\n",
       " '5da1733165ec293a994dcaf2246565443f714039': 463,\n",
       " '8ce5dde3941dfc039a6384de713cc287f645412a': 464,\n",
       " 'c02a859df7a3f893cf6ec3eb1f3e1bdd6b6f3065': 465,\n",
       " '3cffdcdc03294b3712ad65df7d9701a655b4b735': 466,\n",
       " 'b5bb5b4df58032a1c72f2110fcd0c2e30c86b29d': 467,\n",
       " '700c3f0cdd497ed53b3f0244ab11fb548615835a': 468,\n",
       " 'c89deba92634cfa0a7d2e1b696b82d67f5282cd5': 469,\n",
       " 'e3e9de8f712b435cdbe4e767ac2c414f585400f1': 470,\n",
       " '16cd9a19b5a433919b3cf86073670369e8d2e4f8': 471,\n",
       " '7ec12bb04cc91eeb52f5bef8833aa7d51ee9310a': 472,\n",
       " 'b5ff5cffd4595f615009be55211c8b94d5afbcee': 473,\n",
       " '7c8338a3cec437b18cd74e66d9e3c99f426f3d13': 474,\n",
       " '5424fc827e23610ac5378b63b33a1fc1156bc40c': 475,\n",
       " 'b2c691f928853b63498a125228a23f1879e1b9ae': 476,\n",
       " '8207221df7894bb773bbe9814a4a8ef81b57acca': 477,\n",
       " 'e07a79f2d3e0db17991f6eb8d5a3314e22795748': 478,\n",
       " '1a0ce538dfdb66bc665964473297990b17b4f710': 479,\n",
       " 'e697f7b095a4f7cd83f00575741cf5d1a1850b37': 480,\n",
       " 'faaa026f32172ae9b0ca52136787cc61fd4c4250': 481,\n",
       " '86d0a8774e5eacc50cea329c54abeb73555d2f75': 482,\n",
       " '4e8a2e741cbd0f0c8e7e434e7c157a64eb00f3b2': 483,\n",
       " '3d69d90b1a57f7e7dd6dd0396a5a2b02a0692b99': 484,\n",
       " '8b5fe07fc882a8f77e06a4dd61d3b199db2be6c1': 485,\n",
       " 'c537e1cbea96fc7a8a1f9ec3e07d751b5c933e1f': 486,\n",
       " '037167e01a2b265b8ee59694db943f9556876be2': 487,\n",
       " '69b7cacb67e4ab7aa9773b1e5010cc0fd98cc08f': 488,\n",
       " '30626f761ab5f65deb7b61deda811d174e407273': 489,\n",
       " '05ac75293decb5e1442dcf670556d099baf6639a': 490,\n",
       " 'cebf0b61b2dd8883359e3247979301d79a248c37': 491,\n",
       " '556557a7bf50b6d4105e3bba1ecb8daaff7969cc': 492,\n",
       " '5c597664c9e728cd776d8d4b9bc9823ea15abf6e': 493,\n",
       " 'a1e5d316b5e5151d8079a063f5edb42fbb8d1aa3': 494,\n",
       " '21f7718ad37c5cc8f495d4abc7c3dcb692dc6987': 495,\n",
       " 'df576258e114403b482a2f27f2c5619df4c27a74': 496,\n",
       " 'a84dab2d0dd967d002cea226fbc0a6446bbb7014': 497,\n",
       " '37a8e0d8e4fc8cc03be56671e063af20237d6019': 498,\n",
       " '50e8b82d39627c1aef0df5ad97b4a66a629c8edc': 499,\n",
       " '4c6e2b39891084e55a670676aecc582a7ad5eee4': 500,\n",
       " '68a6115c99279c5fc14b2d4e2350c8b8e1560b6e': 501,\n",
       " 'c68d59ba24af0df3f2c0332c9b8927fb68149b77': 502,\n",
       " 'c6bb7f1933a8024e52f83e35335b31967108aeba': 503,\n",
       " 'd11d53f1ebded8a07ed80d9c153ad862e168b0ff': 504,\n",
       " 'b81b63d5c1f33fa670b56c491566b4636d5767c9': 505,\n",
       " '93235f9469ab99ee196f320d1336c4fb21ae8d59': 506,\n",
       " 'c0b20c353055f4e82f098a41f5ce268007379b47': 507,\n",
       " '6ea03299fe0e15c7dbce1a69fc1be81758c319cb': 508,\n",
       " '354cfdb566f543bb5b810a4d8959d974a30797fd': 509,\n",
       " 'b98490b4e714cbdf98f4e819c150fc6eff83cb28': 510,\n",
       " 'b3600138c3d96e91c3c763d235a4615155eb5e86': 511,\n",
       " '1e29a630789f366d6382ef220dacd13845a5b28e': 512,\n",
       " '4926960fa1f2aa9f6c46bf591e83bb4e3d7f6a6f': 513,\n",
       " 'c4db08899f2ff9c754c4a8302a21ce7365f0b155': 514,\n",
       " 'e934f5a246024dea38ed8067da83d50a67683e7a': 515,\n",
       " 'c11f385c46ee197327cfe84d4b13f2b95639ca42': 516,\n",
       " '10e1c96eeaf82f3076fe31bed9a67bb733ef9ff5': 517,\n",
       " '9c77441414c7814cb430d272576e8cee2db0cdf3': 518,\n",
       " '4bbaaf451f51a4d62e3691f79cc82aa0c2d0e663': 519,\n",
       " '3d99047909d9c47f123eac09bc78ed8af367f011': 520,\n",
       " '383fea5bdcd02eee18613da5812302ef3eaa2aec': 521,\n",
       " 'a15e46cfcb4158cfc84d8af0e0e90ae0e06661a4': 522,\n",
       " '282add3168f225622c21bdc8f0caca630411f373': 523,\n",
       " '0b9a6a7975b818259222ae7434a1095834d25b92': 524,\n",
       " '134f64ac7c45b7b2808574df0cef33f96cf54b73': 525,\n",
       " 'cd4566f790e053cccf8448fe1d126f3c4ef2e996': 526,\n",
       " '16f5dc37b96c153c462bf306ceef36112d36346e': 527,\n",
       " '818d363c191b02180f51d8569eb65ee8f2bdf888': 528,\n",
       " 'e9b86ca8cd62f072419112174f1a9427dd40aed7': 529,\n",
       " '1ceb5b69909fc226527ec9a3c83258569e3bedaf': 530,\n",
       " '5696bf760215a24ba6f381b8e466828131ddf13b': 531,\n",
       " '0d0f80a34807aab31a3521424d456d30bf2c93d9': 532,\n",
       " '3ce7067b513365723918990494043ba6ad12fbc8': 533,\n",
       " 'e859ed1b50bc1fd3a0fe3979bec8a633dfbfe344': 534,\n",
       " '298046102e1a580f22be28ca99ffd1c6c35db1bb': 535,\n",
       " 'd2f7afe12fbd26fc2bed0039740fc6af579920c0': 536,\n",
       " '09a1088c7189e85c1088d43749247fdc84881567': 537,\n",
       " '43e7d807d3e0213f8dfa4d4d156845a3d71976df': 538,\n",
       " 'd3d1a42ae9889e9a4b0d0d8a484e62eb5cd5f7be': 539,\n",
       " '671535e41cf20fc48311fccc5256aa1e18aca115': 540,\n",
       " '7b6801d157c41dafd3871e2a88e6d1929a48a630': 541,\n",
       " '0b03286244d1cb0662fefddade241f56a1bae573': 542,\n",
       " 'bf00bdda03e001b3d8ab6a63f16a8bdc371648ee': 543,\n",
       " 'b47e1ddd6072a05ad4a2ac718e6f1eca3c99d70c': 544,\n",
       " '6f491449d83fd1d5eb3e7a9e6f3def9dc65e218f': 545,\n",
       " '17ab37e19269a3d1e0ef60892b7d06461774c148': 546,\n",
       " 'cc62e608a1a21353e1673817973235cde4116bad': 547,\n",
       " '9e203b9f99b39fce61aca28d439dcee8c7914420': 548,\n",
       " 'b7fa3fe1f2d2259712e7d91fd8d2039b25798897': 549,\n",
       " '4eeb2b3849621d81e72010cf6b01147d86220ac7': 550,\n",
       " 'b515dd30af89458f5e6e101eadf97fc6b8e7c803': 551,\n",
       " '83d749fe111a23344f4b347a25ee653d66396e64': 552,\n",
       " 'fc604c906ec7bb98c494ef7659b0d3dc75503812': 553,\n",
       " '0a452fab76371dc44e0d8ad6f012b2ee346617e5': 554,\n",
       " 'ba4ee5987d1bfb288926f74d9fecb60385b43860': 555,\n",
       " 'b8668c3da5fadb1f0f9f88608d1940b5360f2ccb': 556,\n",
       " 'd78ac5a502737fc0da12fe564b14654f58d87466': 557,\n",
       " '4e32e7efbea85d6f73a1cad6abb9a0863973d433': 558,\n",
       " '838108b69c82ebdf7cddd61ac2c0e1d2572e43b6': 559,\n",
       " '73c3ca3eb795705018c5bded9cd6a5559cf62933': 560,\n",
       " 'd63625f7785f3dc842ad2b7ad5c2500e5e7d41e8': 561,\n",
       " '25918b59c1b7ff80dff2e7ca5fd88912193b0503': 562,\n",
       " '96de646dade100899a06e48d7df20846652b888f': 563,\n",
       " 'da3752e8cc04d3b335d4d1149df799fbd47237c2': 564,\n",
       " '9b1a2cbd5d5c40fa18ca5c38fc6d5b6dc2921dc4': 565,\n",
       " 'a0128276010825ca58b3c9006311f1d2c6f2483f': 566,\n",
       " '1308a501ceac8d48b544e134367c4cac114feb26': 567,\n",
       " '3a6b893f5616e95213f61e87e3022a3d665afa7c': 568,\n",
       " 'eb7e19974c5321dbf6f8c9c9c61f52db4681bd29': 569,\n",
       " '8244d38b6505d44c6f44a4b29ad7fa260578e419': 570,\n",
       " 'bc3bc88934db1d20cac25a96a9f1c057b98e679d': 571,\n",
       " 'a3fb99d74a6e78329d34fa30f8bfff25442bbc5a': 572,\n",
       " 'db3a17db7eb306d986a13762abc118d7a508af19': 573,\n",
       " '85e3419d1c9a24b532943283432b8bc08d9ff882': 574,\n",
       " '9c08ae642cda7f69dfa3f00c4593c848409bbfff': 575,\n",
       " 'ac8f74463945daec00af6dbe0a8233c92e2d246f': 576,\n",
       " 'ac1cb58f839ae6773732125e99b4a7394e0661e4': 577,\n",
       " '3d922caa4ba9b9e7e5d87bda2a0f0d532ada81ed': 578,\n",
       " 'cdcd976fdc8ac6375a807dcaee28d36fe00b6118': 579,\n",
       " '6df4f5b910ef83ee016e0b210d8630719445c700': 580,\n",
       " 'd370ea8c8bf4d08c34214abb7f17e482c2b774d4': 581,\n",
       " 'f75f28e55687cb252e52f50cf93ec5be7bff5e97': 582,\n",
       " '94cc291f6455241c0c1de9db5c0f1d70a20146a3': 583,\n",
       " 'b5fa506db94aabf3f86e4a799e8af247a26680df': 584,\n",
       " 'a5684a503fb4e1079e0aa4ea223cdfa566bc1579': 585,\n",
       " 'd8cf86a2dd6406c0ca5e02d43982c82402fea60b': 586,\n",
       " '9d7559a94537b9ede0cbe55901de4521b4a391af': 587,\n",
       " '8b0578e3b7ee700785e4c9d9726bba44b3472bad': 588,\n",
       " 'd63ab7dfb4913bacdd8d771216074d8cb3e887fd': 589,\n",
       " '89b5eb4d62536570cbcf1dfe621f5d59125568fb': 590,\n",
       " '530b94ecae74ff525738bfd053f1bbee2a505078': 591,\n",
       " '276aff7e222be66e5e69298f631c726907afa1cf': 592,\n",
       " 'de4cec62bfb6a7be09ba1123bf03c315377be7fd': 593,\n",
       " 'a288b2f9e7fa17486a33aa33203d53a542077d76': 594,\n",
       " '7aec2eb348ca2deace19d4829e4f4ddf48e3f912': 595,\n",
       " '0752faf858265a1daf5da0e50e41bce6187d0a47': 596,\n",
       " 'f8ae59c070d0b3fadc84c4d9f18475a61d7d37eb': 597,\n",
       " '8e8b32a1621d2950fe9a6384d8fb594fd25525df': 598,\n",
       " '7f4c09f1e5b09f9f1f14a42708df71b44feb30e1': 599,\n",
       " 'e22fcdc5244cb450ca181d72f293229b5e02249c': 600,\n",
       " 'd3603accdfbc59f5e5c8d32dd3b3f45788756168': 601,\n",
       " 'd35b0732c847a16b8a58beed5180e3287061b439': 602,\n",
       " '47cdb865650adf1e789b8cf2649d73e17dfe27b7': 603,\n",
       " '841f98bb6dbee8d229767839a989d88eda9f7757': 604,\n",
       " 'c2289ef976862683593699ceaea8889f9da279b2': 605,\n",
       " '8b85519a101b28804ecd587783c5fcdffdf3bcfb': 606,\n",
       " '899ad8c283d7ca9aadb84ad93a00d6cea50f1fd7': 607,\n",
       " '855df4e3ccf28db6888768da0cd588c5daa7cb7e': 608,\n",
       " 'b3553fd82c3f12e073da5b223a9de861401fd961': 609,\n",
       " '4f8069af6e4de72d619bda3801c0d44f8cc82719': 610,\n",
       " '15b64f7a097c90b540b492e360a643d45234cfd9': 611,\n",
       " '7be439230bebc2193fe80d33219313340819176a': 612,\n",
       " '019d0d1c7a01f8736ba59a124160e5fc70666db7': 613,\n",
       " 'c01c97d7270db93277833ffb63a6132d3f134238': 614,\n",
       " 'db3ce83a853d8185d34e02c1dc817d7989475b88': 615,\n",
       " 'a35b5104fb1e002ba16dc72b1ccc1f908f9a131d': 616,\n",
       " '93fa4d478220364f99da5e8648b661b24df7bb12': 617,\n",
       " 'b441788992d8d31698a936d94c149ee74252f0b6': 618,\n",
       " '2aa991d816553f172338ba4834193aba92abb4c3': 619,\n",
       " '7b544bb0c02878033e4e4eea4df0a10466a71405': 620,\n",
       " 'fed37c4c49c9f217b3371c2f2c0e7541656e55cf': 621,\n",
       " '348e742bd90942cff36c5f9c31f1f0a3b7591753': 622,\n",
       " 'bc281e9299c877b533df33326547b127c5f8111c': 623,\n",
       " 'b2cbcf5ea3c6ea3ee41ceac0ef247c2b1ddedbdc': 624,\n",
       " '340859101b5970bf435a1ecb8c40652a428de8ee': 625,\n",
       " '9c8bdd66608468fe0779a978765aa8760572c99f': 626,\n",
       " 'fbd14aa950314d4ea7f64c50f8b357d364a5b94c': 627,\n",
       " '68155015599ef535e5ffc92cf55e3544c8f51d90': 628,\n",
       " '23fd43c7dce6e899792fd41036eb3069baab43e8': 629,\n",
       " '4c6ec11bf897c14a44f56a9616f0942764d28227': 630,\n",
       " '3800316358cefa31ef7047a14134b5729654a761': 631,\n",
       " 'df7559a12676263dad3af310d99dccc15e382a72': 632,\n",
       " '5d5292006ba24728132385c17927c3ac00225498': 633,\n",
       " '0ec9cc33028dff6209aa49bf645ef64bdcbe00fc': 634,\n",
       " '6e90c8066ef7a7271b0b0365ffd705caa4e904ea': 635,\n",
       " '2ecb1e0b9acbb2070fe7cde895824c3922dc783b': 636,\n",
       " '47381eaa107e87cb74172230caa9bdba03b53fbb': 637,\n",
       " '62c9cb65f8221a68b50fc60650fdcebc5904063f': 638,\n",
       " '4f0ddb2be2780b5841f966a1c25210d89b8a8e85': 639,\n",
       " '498479b43245566bc99bcf5473cc873bdeb940cf': 640,\n",
       " '85de112e63c6c3b4272ae71fa2ba2c5fd9e3032c': 641,\n",
       " 'aed57ad1b08eea72bc966a49e37802186312c199': 642,\n",
       " '8f0e25d95d6e30f0993b9f57fca6c431d78f5a2d': 643,\n",
       " '0f6b8ea5ba6f7df04932cee775b4fc2eb9281dbb': 644,\n",
       " 'b120b6564a43de85b3e5c508575e272df18f0538': 645,\n",
       " '812cf79ba35572a8c427953f8dbc2a499aa1235c': 646,\n",
       " '0659229d409ede40887c2a4bc44e8b264a7b8b40': 647,\n",
       " '2a8a8f48fd4eb5ca4b64874162df4fdf584d89c4': 648,\n",
       " 'adf6a9704716ca63c98f81472a27ffc3523cf683': 649,\n",
       " '54b96c7e5f266326271fac0f01b2e1dfba1fc876': 650,\n",
       " 'd605b7fe1645e05ff094b364b603456ce8126643': 651,\n",
       " 'e51bbbd28659be4018f7640978adfbd96dd2e9f8': 652,\n",
       " '77031dd03ce64b026eb7b12adc6ebbe96224c941': 653,\n",
       " '9792d04129332d23112c129b6481ea4c728e5c7e': 654,\n",
       " 'e4d4e50c99ed5b3dfe740fa1ccbe6be41eeb4f35': 655,\n",
       " '7b9bce4c88f478500d4b5766acb1765f86983631': 656,\n",
       " 'e0355e3d283e6ea57efe67aedf0110524287459b': 657,\n",
       " '3a5d603a2f97a9c5af4d05fce82bff041559348a': 658,\n",
       " 'd9f1290b068e09c6516cdfe115277cf24c3ae293': 659,\n",
       " '640ce32f473e577a2f9faecc7747cb818656512d': 660,\n",
       " '35ed283ca7c23d7c55acca818f6e295934a04d4a': 661,\n",
       " 'e376b24d90c39bdc1eb4b184b0e1374f2c112801': 662,\n",
       " 'a53daf8c24f79a519aa01696912d22321b2f803d': 663,\n",
       " 'f5865320a3e907796ccdde833531aff0e6a2819b': 664,\n",
       " 'e63051684b17e6ac91aa4dc82036950231b2e630': 665,\n",
       " '88196b0f0c0d76e819237dd2853024263e6e1631': 666,\n",
       " 'e0eeff31c4975103c873b118626fd94bd90564f5': 667,\n",
       " 'c52c650431343b7a3f1e7d74cf4e404aa1e63745': 668,\n",
       " '745cf1e37e3f3bd8aaa5af509b566ff643aad4ff': 669,\n",
       " '31897482e3e42923f011085ab9efb12a9d2539ce': 670,\n",
       " '28a13c030a3f5abbf7ed66ef8d214d3c3cf933db': 671,\n",
       " 'ce87ae0c8777f209562f884c56cfc7f5fbd8aff2': 672,\n",
       " '270dffee86b3e7bfb81892f5ae2c60c1d2f15839': 673,\n",
       " 'f44d8770d07911d66c10c60da16c46b792adc894': 674,\n",
       " '6df748807f979d27c638229f6dd1d39a9a0b7f61': 675,\n",
       " '86cfbc3e656e30fa56e5fc3ec23d8afcfc11a22f': 676,\n",
       " '43a26f554db13c6852489d2edf2614a74e9010c8': 677,\n",
       " '480a08cc4b0ed5da63a5690279b8e90e045c54b2': 678,\n",
       " '90869545dedae56f33e3bb3d5120e7ed0e8a21d9': 679,\n",
       " '93343771b28f20c8cad2e1ae18cbd77235b1aef6': 680,\n",
       " '5462b5897ac839f2e0a9b0a8e824c30dc7f30cd5': 681,\n",
       " '2091a91cb091b4174738dfa64bf7422605bc66a7': 682,\n",
       " 'cdfe7cc423982b3c51272e786dbbf76f7185a89d': 683,\n",
       " 'ce4e6988645faf5b7996a5454c9f0b0b7a540aff': 684,\n",
       " '9756eb22e18dd0339be9af22df75777a25d1bf39': 685,\n",
       " 'c805be0828a5321aa74ec285a394d9a02cc259f8': 686,\n",
       " '2a4f77664159ab2061cac88c748b38bb64fc9548': 687,\n",
       " '063ef0cd02c950d0fe5799257907d85c0d341470': 688,\n",
       " '8d7a377e07cbfbd379697674fd335b9234bd5b96': 689,\n",
       " 'be68695bf20fc8a1365d138ed6b1e43b535df8cf': 690,\n",
       " '75be24a82525a5b466e4f518c95d72f20ef76ca0': 691,\n",
       " 'b88de0b31ca3b37eeadcdbf43f327e9e83a2595b': 692,\n",
       " 'b380327f11d2f9899c701f51b4731de3caf6b139': 693,\n",
       " '9b285d0b497bd45d11865b854091613395eb3197': 694,\n",
       " '71adcead7547d8c4c0d4ab616ef10c6c64a78b34': 695,\n",
       " '0007c0e74728ca9ef0fe4eb7f75732e8026a278b': 696,\n",
       " 'ed3be4ef883a2a7abeb2342527a55c709b780a1b': 697,\n",
       " '5c855c96196f23de17179bf5ff3a46bbbe4ed45f': 698,\n",
       " 'f4c7c7eb3c53d3280baa28aed1506775f28812d3': 699,\n",
       " '76a93df417be0b66f3b40981f78d677db16dbe16': 700,\n",
       " '1986f5657d2e87dff2c09be1eb705fed1866b399': 701,\n",
       " '6427472ad76634402c0ec53efa2935ab6673b3aa': 702,\n",
       " 'ed0f4979ffddc0010244638a3b956510624dc6a9': 703,\n",
       " '581d7afe5a36f20d00d5a1ec2e7bb36a0135ce4e': 704,\n",
       " '1d0e2d525b7f35e333288e3d0095286baca23cd3': 705,\n",
       " '6c8cb7d7924a76edaf6e494f59277624087d40bb': 706,\n",
       " '2985f5774898ea0fadc05bd4c10253dcfd48d28c': 707,\n",
       " '0cbf94d3a3f54e5bbd779dd389c1155418b3aa56': 708,\n",
       " 'bdc7c976ce178aa4e75bbf9874fdaf327f3d3fe2': 709,\n",
       " 'beab889eff4a3493d8de6b962feeea8a1b5d62be': 710,\n",
       " 'e2ab3d64f84052226d05c89c4fff779a52bff97f': 711,\n",
       " 'abada30bfac12b807ce9735153fa4710fe4307d3': 712,\n",
       " 'bb84b605789d898993e2c6fbda4d57a8bc8da369': 713,\n",
       " 'c96a8e2a24091554ecc3250236acaf8cc09ab188': 714,\n",
       " '719e0f56a1c53db06e92637c54c33826f698aa55': 715,\n",
       " 'd7f41adfaaa9ce6178371a8172c259775cfb82aa': 716,\n",
       " '854c2f6006b851a8d0583d6947efefbeb7907199': 717,\n",
       " 'aa80992e5d8457f42aea6ab238e9ad3c346fcaac': 718,\n",
       " '1387fa354f537d53a8124f21c74ff6d7ff524feb': 719,\n",
       " '61b5c914308cf06f29ecdf036e05aade87d48d47': 720,\n",
       " '7c86176941718984fed11b7c0674ff04c029b480': 721,\n",
       " 'ff18ea9a13583f7f7aaa83719e0b22ce5618e9cf': 722,\n",
       " '1dbfe3d49c838f7e9e8a108f6afa037bed391910': 723,\n",
       " '70161ddbb03f14a972c47bcbcd883475b84a81a1': 724,\n",
       " '46ed213b6429d92ceb35e8a5553007c8f0b5bfc3': 725,\n",
       " 'dc7a0bb89d69e71780c33a9bf9084284fc294209': 726,\n",
       " '9ae23008dc462f59a7e5ac74d9fb03cb106096dc': 727,\n",
       " '18bb5b0762063e6d2a5efc933b907a64ec926f32': 728,\n",
       " '7b4dcc25f741d2cf272d2fcfd04a032c68d38eec': 729,\n",
       " 'a70e3e7eb050c31f07de865758ab1ab7cb735826': 730,\n",
       " '079255bdeae163a2a66f9b9e33dc6e3f0e4e6dd7': 731,\n",
       " 'cb1a2953ca939209e26337a8d6d7c2716d6b4248': 732,\n",
       " '57b4b9921b3eab5f8bcb76efece1accccffa1004': 733,\n",
       " 'c5ef1f72c52de43647ef960e6a1e0c53ae37ef02': 734,\n",
       " '2a294bd589db99006b60495697de1f4c3666e1a5': 735,\n",
       " 'ac397c4b06be6daacff8ef3a5fe4e4eb1781d5a9': 736,\n",
       " '73e9e981d5fc2a6453cdfb5025e2fa0a144a4142': 737,\n",
       " '2ac00477d4dec0276154475cc55c566d4613598b': 738,\n",
       " '9642b099d56e3b2002a42320afbf83606bb06f2d': 739,\n",
       " 'd253ea7a210de16f723a165fd8525e8fc73f3939': 740,\n",
       " 'd54a8a0b993841db5180018f61434a7b481830c0': 741,\n",
       " '48901d4b55615deb4231a07965a762e605343dd3': 742,\n",
       " '36c4d97ee375bfde314e938d31f7b32e7e195fd5': 743,\n",
       " '9e924bdbca1f7eb8873741a929e133027fc2f593': 744,\n",
       " '5c2510560078bc7d66ac6ca27d4c58aa11dab1d4': 745,\n",
       " '763fd2b191396bd6343057f1d05e1649b1a6fbd6': 746,\n",
       " '0afcc0e9095c8efaa6efc60db63e5f3b7a5a5000': 747,\n",
       " '31c44e3a00437755069631cc25f94b4511771933': 748,\n",
       " '3d35a87576e7e8bacd04c97a5502404e141e9233': 749,\n",
       " 'e1d1f6bd9500087b1f77d0d47a12f4740aed6f58': 750,\n",
       " '14b46a393796e537e15eb2a6a2544a8f86e2e5cc': 751,\n",
       " 'c9994a8139efcd587d0df268f578b89568e5de0d': 752,\n",
       " '896b3326a69e0b39762896c7499dc681da56ac67': 753,\n",
       " '8465815105a293918b7f0f4b24837d93c894c89a': 754,\n",
       " '1ee591a388274035a4fd8a4ae40a9589d320bb9d': 755,\n",
       " '5e6d145756bd99d8ec13cf1bdcb08c9433727e02': 756,\n",
       " '6d4698e5c77b56e54c5e4ced67da7b99fb6dfdf6': 757,\n",
       " '40e30471ffecfd7b5731df8ad4ed4b7c62fb3b42': 758,\n",
       " '888a965551f18e111fdbf17867ef64a0231fab9a': 759,\n",
       " '7a1f3eed1066b3a565cab19e4b3a2268e1244bbc': 760,\n",
       " 'ac05a6127dd0098b594c273778838ab186fbaa43': 761,\n",
       " '3ae4bbc2b3f93e4d789f46a1a0d9c30a33063340': 762,\n",
       " '1c923dcab3d9a822328e169930f313178be819a0': 763,\n",
       " '3a6f3d2e6c4491d95bd22c6075c744dbeedb4cef': 764,\n",
       " '3ba3e50d6adecf296b904a1516a77cb5a64dfc2a': 765,\n",
       " 'd838e97500dfcef25dc123ce501e2da0e6c361bb': 766,\n",
       " 'ee6936a4d513142bd00d475dd3d3e6b08b88652f': 767,\n",
       " 'f015075eb9b3cbdd629ecb23186491d551092107': 768,\n",
       " 'ddd4fe98c55187b75bbcc3488cd485a27cb26099': 769,\n",
       " 'dd9e6924235d74c8d74f266d13a48844bc2afbe8': 770,\n",
       " 'bd7bf8a7cfef10b5f59a7b6ca637540d2107ad49': 771,\n",
       " 'c26e08f6ee82fbe528bc94a585a3f785a6e77397': 772,\n",
       " '89bc5817b49ec68b6f2ccd677676c51da9139d6d': 773,\n",
       " '5733e74e9200a729955fdc2d8160c3d92aa0ab6f': 774,\n",
       " '3fe43a74dc131f76d4de4a28db7e842bb5440dbd': 775,\n",
       " '348359b071d2c8855695c479672074548b43a4b0': 776,\n",
       " 'b815402389348ad52b1152a5cb2815a3bca2f214': 777,\n",
       " 'cb921eb5aaea2161016c0842bff830bc051b0bb5': 778,\n",
       " 'a050120b2b904bcb3f2cdc362e00f1e6bbbb7b54': 779,\n",
       " '5f07309f801582fc0fce1c176718d065fa6ea079': 780,\n",
       " '4af3839455acccd403dc43faa59ab51de7ecb5f7': 781,\n",
       " 'ba6d4b7387aa241831dd879f9ff1a697ff508177': 782,\n",
       " '4632b0b63f82a27d2262d3f664bee4556ccaaf97': 783,\n",
       " 'f5fd22336bc56a56d4fe64d3e753ff5275db1c70': 784,\n",
       " '1ae87ee3f4cd5cff7ba443da3d41836182c08245': 785,\n",
       " '73cfbbfc36ec6f6d2fccb9dcc8fc28e2604e3a18': 786,\n",
       " '942dffcd3aa7b7a98b405b1c0b3cbaab24c5fa4a': 787,\n",
       " 'f904f6ed9ac7c35f4771c69a9ef38e797e4e4baf': 788,\n",
       " '37de1b345ce1af2bee847872da4b886e0bfc8362': 789,\n",
       " 'a37ca4c1a3c0669329282eb2d757e1cb365d0631': 790,\n",
       " 'dac821fa75a40a9c1dd845864b120cda076f3813': 791,\n",
       " '02c2dbc1119bca9513259f1b1903432538037d10': 792,\n",
       " 'cea5d4345acd83e823e7e02839521455045c29b6': 793,\n",
       " '326dfffcfd9b8210d71626d91592cd03ba493b50': 794,\n",
       " 'b4bc8f00051edf047f120b6ccabc8b81e1927639': 795,\n",
       " '5b27a99169fd85d31b9c46c6ebe16b42a40e9911': 796,\n",
       " '405d29f1c07646a27a3216a69d286fa080aab8e6': 797,\n",
       " '6279734d7e01ab803a6c5d1a49c9b902d2c554f1': 798,\n",
       " 'b09e30b7c10fe07b9cecb65a65b89a3e17d016e2': 799,\n",
       " '8f5d48634ebccbcb6f5f8ee28f5687eb1583b953': 800,\n",
       " '32fe8a8c93847b8771d357411d3aa73413d72779': 801,\n",
       " 'bc52ed22944862375579a227329a3cb98142708c': 802,\n",
       " '8176760411671009ff348ead5c13f98b88fef9e7': 803,\n",
       " '81763991d1aedf8065cf5ee4d2948c7d706f536c': 804,\n",
       " '644f4a874dad8aead067ba0d6afe34bac0d28c9d': 805,\n",
       " '4d996c8f99e52d6d20bb992631886dcd12651c65': 806,\n",
       " 'd82e472a3802e66f84cbe6a774b71b070caadff1': 807,\n",
       " '1dc0b27138685317425ff57338e49e3d383022f9': 808,\n",
       " '49d20b2ebf80b6b2ee7fcfe93210833daa894c82': 809,\n",
       " '06f6fe893a71eb9936bcdf81591ef9cfa792d126': 810,\n",
       " 'f625cabc005f268d8d9f5a46c4072bd49e3e6d4c': 811,\n",
       " 'd8df72fc0d892328e92a8e7129805da4f14d65f9': 812,\n",
       " '867d0328105ef693b9b880b21c9c90fa04f34fa8': 813,\n",
       " '3a2d14d806542495b8c522dc2e67c8f42e770589': 814,\n",
       " '84e59d648d1c8fdb05d594558ea5bea96dfbb1a9': 815,\n",
       " 'c678d82dceaf9377b75a407a623740d06d44af1b': 816,\n",
       " '15ebca6f56d2dbbb94b5fb72f4b481ae9481f6af': 817,\n",
       " '9d3b0a91c20d8d2759b069251964dde1f99b2763': 818,\n",
       " 'b5b50bd23dd36f20335eed7f081e313cdf592c0c': 819,\n",
       " '6fdf27954530ec03740a003b1d226a1341254d75': 820,\n",
       " 'd4c9f015332918148fec230331d50e34d3c4c27b': 821,\n",
       " '76235885b32c4e8c82760c340dc54f9b608d7d7e': 822,\n",
       " 'ba48ea204a2d5aa4e394f6186b22f64aab39c261': 823,\n",
       " '7ea016e249d4851792aa36d98db1b58c9674e592': 824,\n",
       " '467a4f49d627eed03d57ede137133bc690998a28': 825,\n",
       " '97cef9e72f7e5327b1f32b1b22d04c9ba73116b9': 826,\n",
       " '623ac6b147f4d4d25f8240fbcfad5c826e331e1d': 827,\n",
       " '6fae6e72f3079b6ca69e56f51bc597364470fbee': 828,\n",
       " '6968c412ccd247eb383129803054ba185fde91a3': 829,\n",
       " '1d3ecbd9ff0c4efa33e5e77a9166ba5be1749ac2': 830,\n",
       " 'f1471722827e7707d4fbf25ab7b009f5183407ff': 831,\n",
       " 'f950c72da3617fe94a02c753dfeedb5a7acf6def': 832,\n",
       " '7a9acbc8569de8e7ff141cb635ab3b049248a8e6': 833,\n",
       " '14a2164d869d1fb9562edb1a8e2bba195d17c184': 834,\n",
       " 'f3e32f4fea30bfb2c05dbbb84b0c1e84dfa9c95c': 835,\n",
       " '058dfa536e28efc9dd0318beaeebd98b5190cced': 836,\n",
       " '8003b3b7e36cb11ab1a3703926a2a723de16d753': 837,\n",
       " '0e36a24e6e75334a58856920191aa7271480808d': 838,\n",
       " '49917cc2a92adfa6e6637bcd9e7f6756bbe51be1': 839,\n",
       " '29b40bc13a61c3c7fddfdfb070f384daf4f47847': 840,\n",
       " '3787873b732d1d1d96d3ac1c7c07bdc83d59365e': 841,\n",
       " '81f893f39abbe79494fb43abe9f8dafba90562b6': 842,\n",
       " '63336e6e694361f57b6cae9f67bf5d793f86e1fb': 843,\n",
       " '0f78b75616a51fc40ff0ac27589c6901bc0637e8': 844,\n",
       " '10a3892e98246158d7a650d87c3666ca973eef37': 845,\n",
       " '412c4636b3b1537b5767cf5e13d66de483df4ab9': 846,\n",
       " '70cdd10334a370a8e0e74ceaa6121ec3c2b4c3f3': 847,\n",
       " '4d8014f71ac81811ede984330be78b1717a1c46c': 848,\n",
       " 'f6dcd5180d7219559cdcc30f121b2b431cd7c4e1': 849,\n",
       " 'a665f40939631e279156345e0a49cc54a241bbb7': 850,\n",
       " 'ba0fb3286df53448c10c43b91fa35ccb7ddcc27b': 851,\n",
       " '4f85abfc7c0ed5c7ee84b02650aa640ed4479255': 852,\n",
       " '38e14a812d745cf3c5e09918b31b6a4b7fe0227d': 853,\n",
       " '56b6469ac703c8f1aca0b0df8db384fd10d3a6ed': 854,\n",
       " '7da13f5899d8634ca511658647b317731f2ca44f': 855,\n",
       " '42fb07aaed4ccf666fa8a81dc38ff13ec106f896': 856,\n",
       " '078bb0965eb5c6469410b740aee27d643f5e83c3': 857,\n",
       " '380ace956087e21f01a6cd8b91c0543578ed999e': 858,\n",
       " '00a443baf550f4bbdd974ba73720abf2759166f3': 859,\n",
       " '720ad0fe4e20b4eeb40d0cbd59a45d7edb409141': 860,\n",
       " '3f34a22fb2d5c56b36de0084d86ec139624e3f0a': 861,\n",
       " 'bb1d5d9cb36a63b42a9c94f84d007e0627e7d2e2': 862,\n",
       " '4f8529d7bc6ae437d084630894286a680d810426': 863,\n",
       " '6cb4cf5afaa044c5bcf9db1ae8421167aa7a8f02': 864,\n",
       " 'cc9fc2eccf0d6fe78d1fb2b0c3ff924f54482169': 865,\n",
       " '463d9d2dc3e1cb2ab86dba983134e279886070e5': 866,\n",
       " '41ef7daf3d368922c9676d3f90c8fe931cac1d35': 867,\n",
       " '34e98850451665aad24d8c4474d4565686d9d2a3': 868,\n",
       " 'fdb815231ee1d66f383b80d279bd58769dfe59ff': 869,\n",
       " '5230748f8c48b0fd32ea0e508983fb115b2e70d6': 870,\n",
       " '312366958fcb107062517567dbb68f423941554b': 871,\n",
       " '80d0e18e5aae5bd6bc6b0cc917840dc9c63ed64d': 872,\n",
       " '85f92f3711693ff3e833d77e606ab028807ed82d': 873,\n",
       " '70067c78afadb4960783baed9e326cf4e3154aee': 874,\n",
       " '120f028f8f94886c0aa401b4d2c72f7695c67531': 875,\n",
       " '9b51a95afc171f1c44245ace88fa930c0e63beaa': 876,\n",
       " 'fad2be1bed3a066687f47d2ad051ffae301d3203': 877,\n",
       " '8f01d61e7ffe38e0367709a43e107626148bad95': 878,\n",
       " 'c5f40b021c8c4c3964c042880c1c4304a1a6e2d1': 879,\n",
       " 'a29b8d40470bda120239cebab1f438a677d49294': 880,\n",
       " '4012a2b15ea8881a252a0cb5dbb6bfd7de926034': 881,\n",
       " 'b882a5b0dbd1a80533e40745be976f19d1fad5b0': 882,\n",
       " '4e11f45d732f4861772b2906f81a7d384552ad12': 883,\n",
       " '0ecb1f480ebb237dc7821c898c94219cdfe38789': 884,\n",
       " '088b4feaa95d73bee79a30dce63022ce6aacfbd5': 885,\n",
       " '3f3b1a24aaa8ff773e4eb56b620d70374d68eea3': 886,\n",
       " 'd1dc21bf4d140a1f98e193dc8ebbe19e7929be23': 887,\n",
       " 'b7bee4e0abd7a0ce8c0a1ea9d6c03fe37a2d31be': 888,\n",
       " 'ee535929a577b71ba77589eb65735dcb2c7f3bb6': 889,\n",
       " '8693845e275e06d6441a9b08c0cba9de99edacfb': 890,\n",
       " '9dc8b0f000792df949a0a0ad8eba2724335568f7': 891,\n",
       " 'db2e94a18c9848feabfec8b59908d312c4ff3524': 892,\n",
       " 'e0f31e1222913901ad649b3ef52f8b43f582fa5b': 893,\n",
       " 'c74f92651979d64bcfe5f1c3552651a7d8688358': 894,\n",
       " 'd030ff953b1518f83d8ca31631a177ec1d6701e7': 895,\n",
       " '0d0dc361136730a8d39a29a8224db6f873227085': 896,\n",
       " '6256c731435979a467e5475b7e521c6d4d059263': 897,\n",
       " '1a4f2d9fdfd834e1a8b0ecc3559e67971d6e78f1': 898,\n",
       " '9c636cd99fd19cd0c026959e796b55647e9e2b38': 899,\n",
       " 'ef60f1da62dd1d05ae22e2990907b167c3171389': 900,\n",
       " '6ff002fa5c96a44558e77c15aff3abce03e8967d': 901,\n",
       " '2d13f85a0541908aae3bf124d959eed4cb5ed3b8': 902,\n",
       " '583efe870ef1ef083ee804e1eb47d89ff662a0ec': 903,\n",
       " '7418a0d451168de0fdec6185eca8f9f9f2cd4ff0': 904,\n",
       " '0e98ee94e6752c0017f514e39ad35eacd2b0419e': 905,\n",
       " 'c1709e5c5135e353707fd4fe13044aed43058858': 906,\n",
       " 'c6fcdd70205883d5dbfd732272fb1ee17f75a62a': 907,\n",
       " '0a9abfa62117d21f2b5f0157b886d3decd6fb864': 908,\n",
       " 'f99b9596900eb1d07136d158a4a157f9c40f39e5': 909,\n",
       " '08368834de0aa0a58094eb94419ada791405369c': 910,\n",
       " '99dd788445b253f1632ad448be5661567af9f733': 911,\n",
       " '9fc658d18b6afd03f3c77dd8095762faaa41ac86': 912,\n",
       " 'fc63701e1400552db859dcf20db6ef559c61b519': 913,\n",
       " '6131d7debff5555eb8e4a4e6e19b2c26cbc79205': 914,\n",
       " 'a18944f1928523e79c9594e072302a71ec10a4cd': 915,\n",
       " '9c54a1f9a7d9789f86cfb232446ce6394f588c10': 916,\n",
       " '0e741cfe121bb619177be8d8a135a2d3692d9c90': 917,\n",
       " 'b08c89c2ba53c413375602b3d4687d4f9b260593': 918,\n",
       " '6af6f297392d75844e09ed95424d49a4a1f179aa': 919,\n",
       " 'a638267332cc16d9493d53be38f318e1ef86a4e6': 920,\n",
       " 'fa60f1524b645681e567f1409ff599479658dcf6': 921,\n",
       " 'c9f6db3fd5534ac1767e57a4d082d38c5e29486a': 922,\n",
       " '5bbdf0419ed1b0f865890189ef1764152461a3fa': 923,\n",
       " '28e7388a08d9443c23524e4942ccfc1e9437b790': 924,\n",
       " 'b060d8ee0a018bc167f2feaaf9f50d5c84ac6ae4': 925,\n",
       " 'cc2dc14c7dac1037a3beed1c9094a6d710f3ee98': 926,\n",
       " 'ad17296a51bc948b8a3c2de6fa7bf8a5f4af7f4a': 927,\n",
       " '24b2620223ee6443aa3d06f64129df892687ca43': 928,\n",
       " '334498b1c6a5f8fb1c963338caccdafac68d5dff': 929,\n",
       " 'e53116e1ce4a3d5ffd333e343685a59cfe6bc380': 930,\n",
       " '6f054be3c476cc0d315715ec87588e0c72d69d55': 931,\n",
       " 'ee5e6de7d90730fbb624b3b36b4eb9caa1d2c74b': 932,\n",
       " '5d430e925662032ccc3245e88aca95ff6f49cd0d': 933,\n",
       " 'cbf471272db7a183cf596a4cb79aa27e7d72dda1': 934,\n",
       " 'b6922730242c12ffc624470c7b2ed2fd402e36d7': 935,\n",
       " 'ec1e5cff98929e10cd8f9c70a94ccb2001c31ce6': 936,\n",
       " '74174112ddb176f6e3dbf8879d49678308d47ec8': 937,\n",
       " 'ec6061e55a8307d9357c60d814c7a384d5fff84d': 938,\n",
       " 'fc595da220f23a6424a46f93627ce7a56a39902e': 939,\n",
       " 'be52d827a374097c1b9b73ba1589cafa4d9a8260': 940,\n",
       " '162707f306224e61b19dd6152df756fa64a7b82d': 941,\n",
       " '1e499600cdd715e2680691afb49004311f3386f5': 942,\n",
       " '6f1cc8df35dbca39127dc4caad8d72bf2cfc982e': 943,\n",
       " '4f8e2e1706afed3074bd52bfe672fcc4364d26a5': 944,\n",
       " 'a7c4e5316026288c499a59ff03d8732d58206c92': 945,\n",
       " 'd62b85f681dd1ddf565de9651f2137c625b09954': 946,\n",
       " 'f89a7edddf2889d1de69afa2a4e41a047c9351d5': 947,\n",
       " 'f9d10095c18894764196a70ed9dee7ed9e461079': 948,\n",
       " '68c08b200edaccd6e6758b8a1c9236322a4a776d': 949,\n",
       " '8f53fe289bd80cb1fee543613b282eaa9c483755': 950,\n",
       " '3ccbfa3a981ef5b91f4fa38aad9134868584bb70': 951,\n",
       " 'be90f9e8d8c0001cba41aaebf4fccde54c364949': 952,\n",
       " '91964f2b264a1068806b48b3d6902a9e0f833fe4': 953,\n",
       " '7f980c8f92afb4132062bda5861121189cd4a9b2': 954,\n",
       " '5d579eba844597fd498217472f07a83c26d71e57': 955,\n",
       " '622ccc16f8221a3782fe623667f0f8d785a7290b': 956,\n",
       " 'ae082a1d514a40c16455e7a410be1eb95afa2089': 957,\n",
       " 'cb72016a84e34c3657d30dd97a95bfb7f9b8d1fe': 958,\n",
       " '4500c60a01455508c0cc7fe982ec60b032408e5e': 959,\n",
       " '050b132921f5bc4465a0b0d96cbd4e5bb7ba5781': 960,\n",
       " '6b43ce6fe46d98d1b53db22a8f1cd5421baedfbf': 961,\n",
       " '2acfab65ad8fd9bbb3612ef2a595bb290823e381': 962,\n",
       " 'b55d68f1a8759157038eb6688e5d6bb1b6336567': 963,\n",
       " 'e42183f2554f5aab8ed69955885c06dbc1991879': 964,\n",
       " 'a4e5df56b959395b187624d3e8d9b79f03d817c0': 965,\n",
       " '80c64182aea519818391137e81df0712126002b5': 966,\n",
       " '878bdaeb36c5de29e4b9224332c93dde3e1c6e5d': 967,\n",
       " '00498f4bab2bfeb17680113c7d9525ad5b0ad401': 968,\n",
       " '0cc1e1cf9147293498edb6a88eb63ec30c7d64c4': 969,\n",
       " '96dcdfee7b6764238ac67e1148b3936635c5a177': 970,\n",
       " 'f1a94c1fdb88bbed8cbf26f0c6e039783fefacba': 971,\n",
       " 'f83608aebf45bc646fd53f97ca3a840a2c2a8204': 972,\n",
       " '577099a5352259c9b10ce239b6a84d0e4d5e1af4': 973,\n",
       " 'fa65f290aaa6c9bad0eee641222398f5f0e2944a': 974,\n",
       " 'b3820910d53309221bb0799dad56c588aa1c0f95': 975,\n",
       " '9d214a765d1d0c4a807d7ba2beca9a633b59b10b': 976,\n",
       " '7049b343278b3f7f64cb11992d975bf8ab403bf5': 977,\n",
       " 'ac14925ba87614ae8bbe3845eb504df6e7184fde': 978,\n",
       " 'a4066374d64d5cd6c43541cc0303dc4f0a62e9bc': 979,\n",
       " '38c8a08a6b432df513a11207f3043533d6f46eca': 980,\n",
       " 'e492ef91f879cd1575ab61e2dc5baa84099c1a55': 981,\n",
       " 'cb46258e32ab652e35c455a393f928f290e72d77': 982,\n",
       " '424670b07ea60bdaafdba3a7aba1a4eefc5a7b51': 983,\n",
       " '74198c75f7a678ef40f5ad8545ebd2307cb0f0e4': 984,\n",
       " 'cdbe1d285d49e38f7cbbb3791cc97d5958781ebc': 985,\n",
       " 'b4c59bf0104e5fdbb429b08c7037ae7e5c1c94d4': 986,\n",
       " 'ad8324902ec55c9efc691f9a71da1715e5eb9b38': 987,\n",
       " 'dfaa338230f32c02ca6303a44f247d647522d629': 988,\n",
       " 'd31161da4ece1468da84c933a3f3a8af7ef4ef0a': 989,\n",
       " 'bebc003f4829f97cac534729b0e6f67886453a27': 990,\n",
       " 'f0ae6637d7195946305607205daab33f1d314957': 991,\n",
       " 'a22e463ac5ca4e8df06c409f2b37245491c3bd42': 992,\n",
       " '2e09da97e13d95073ecded7f4b46897527f6ff3c': 993,\n",
       " '2a6be5409222c7e928da39601f866e3d672437d0': 994,\n",
       " '1fa831c507eccbbaedc706d0a3a7965cbee967bf': 995,\n",
       " '6a4424678ae575822d6a368e2a51d61d9c79e3a4': 996,\n",
       " '1a8e983b0ddd773a07fae472963fab951e1e6307': 997,\n",
       " '41c12ce05f18b757d9257e5ad4f8303b4b8a8758': 998,\n",
       " 'f0cd8df775b33e171e2f1f5454338e2f82feaa89': 999,\n",
       " ...}"
      ]
     },
     "execution_count": 29,
     "metadata": {},
     "output_type": "execute_result"
    }
   ],
   "source": [
    "d_user"
   ]
  },
  {
   "cell_type": "code",
   "execution_count": 30,
   "metadata": {},
   "outputs": [],
   "source": [
    "merged_data_cleaned[\"user\"] = merged_data_cleaned[\"user\"].map(d_user)\n",
    "#userid yerine dict teki indexler kullanılır\n",
    "# bunlar mapping için kullanılır"
   ]
  },
  {
   "cell_type": "code",
   "execution_count": 31,
   "metadata": {},
   "outputs": [],
   "source": [
    "merged_data_cleaned[\"song\"] = merged_data_cleaned[\"song\"].map(d_song)"
   ]
  },
  {
   "cell_type": "code",
   "execution_count": 32,
   "metadata": {
    "scrolled": true
   },
   "outputs": [
    {
     "data": {
      "text/html": [
       "<div>\n",
       "<style scoped>\n",
       "    .dataframe tbody tr th:only-of-type {\n",
       "        vertical-align: middle;\n",
       "    }\n",
       "\n",
       "    .dataframe tbody tr th {\n",
       "        vertical-align: top;\n",
       "    }\n",
       "\n",
       "    .dataframe thead th {\n",
       "        text-align: right;\n",
       "    }\n",
       "</style>\n",
       "<table border=\"1\" class=\"dataframe\">\n",
       "  <thead>\n",
       "    <tr style=\"text-align: right;\">\n",
       "      <th></th>\n",
       "      <th>user</th>\n",
       "      <th>song</th>\n",
       "      <th>listen_count</th>\n",
       "      <th>title</th>\n",
       "      <th>year</th>\n",
       "      <th>no_year</th>\n",
       "    </tr>\n",
       "  </thead>\n",
       "  <tbody>\n",
       "    <tr>\n",
       "      <th>0</th>\n",
       "      <td>0</td>\n",
       "      <td>0</td>\n",
       "      <td>1.0</td>\n",
       "      <td>The Cove</td>\n",
       "      <td>0</td>\n",
       "      <td>True</td>\n",
       "    </tr>\n",
       "    <tr>\n",
       "      <th>495434</th>\n",
       "      <td>18235</td>\n",
       "      <td>0</td>\n",
       "      <td>1.0</td>\n",
       "      <td>The Cove</td>\n",
       "      <td>0</td>\n",
       "      <td>True</td>\n",
       "    </tr>\n",
       "    <tr>\n",
       "      <th>401291</th>\n",
       "      <td>14796</td>\n",
       "      <td>0</td>\n",
       "      <td>2.0</td>\n",
       "      <td>The Cove</td>\n",
       "      <td>0</td>\n",
       "      <td>True</td>\n",
       "    </tr>\n",
       "    <tr>\n",
       "      <th>1321745</th>\n",
       "      <td>48591</td>\n",
       "      <td>0</td>\n",
       "      <td>1.0</td>\n",
       "      <td>The Cove</td>\n",
       "      <td>0</td>\n",
       "      <td>True</td>\n",
       "    </tr>\n",
       "    <tr>\n",
       "      <th>1604542</th>\n",
       "      <td>58867</td>\n",
       "      <td>0</td>\n",
       "      <td>1.0</td>\n",
       "      <td>The Cove</td>\n",
       "      <td>0</td>\n",
       "      <td>True</td>\n",
       "    </tr>\n",
       "    <tr>\n",
       "      <th>...</th>\n",
       "      <td>...</td>\n",
       "      <td>...</td>\n",
       "      <td>...</td>\n",
       "      <td>...</td>\n",
       "      <td>...</td>\n",
       "      <td>...</td>\n",
       "    </tr>\n",
       "    <tr>\n",
       "      <th>1105303</th>\n",
       "      <td>40728</td>\n",
       "      <td>9999</td>\n",
       "      <td>5.0</td>\n",
       "      <td>Baby [You've Got What It Takes] [with Sharon J...</td>\n",
       "      <td>2009</td>\n",
       "      <td>False</td>\n",
       "    </tr>\n",
       "    <tr>\n",
       "      <th>1154066</th>\n",
       "      <td>42502</td>\n",
       "      <td>9999</td>\n",
       "      <td>2.0</td>\n",
       "      <td>Baby [You've Got What It Takes] [with Sharon J...</td>\n",
       "      <td>2009</td>\n",
       "      <td>False</td>\n",
       "    </tr>\n",
       "    <tr>\n",
       "      <th>392942</th>\n",
       "      <td>14463</td>\n",
       "      <td>9999</td>\n",
       "      <td>1.0</td>\n",
       "      <td>Baby [You've Got What It Takes] [with Sharon J...</td>\n",
       "      <td>2009</td>\n",
       "      <td>False</td>\n",
       "    </tr>\n",
       "    <tr>\n",
       "      <th>1804842</th>\n",
       "      <td>66216</td>\n",
       "      <td>9999</td>\n",
       "      <td>4.0</td>\n",
       "      <td>Baby [You've Got What It Takes] [with Sharon J...</td>\n",
       "      <td>2009</td>\n",
       "      <td>False</td>\n",
       "    </tr>\n",
       "    <tr>\n",
       "      <th>1658063</th>\n",
       "      <td>60800</td>\n",
       "      <td>9999</td>\n",
       "      <td>2.0</td>\n",
       "      <td>Baby [You've Got What It Takes] [with Sharon J...</td>\n",
       "      <td>2009</td>\n",
       "      <td>False</td>\n",
       "    </tr>\n",
       "  </tbody>\n",
       "</table>\n",
       "<p>2015999 rows × 6 columns</p>\n",
       "</div>"
      ],
      "text/plain": [
       "          user  song  listen_count  \\\n",
       "0            0     0           1.0   \n",
       "495434   18235     0           1.0   \n",
       "401291   14796     0           2.0   \n",
       "1321745  48591     0           1.0   \n",
       "1604542  58867     0           1.0   \n",
       "...        ...   ...           ...   \n",
       "1105303  40728  9999           5.0   \n",
       "1154066  42502  9999           2.0   \n",
       "392942   14463  9999           1.0   \n",
       "1804842  66216  9999           4.0   \n",
       "1658063  60800  9999           2.0   \n",
       "\n",
       "                                                     title  year  no_year  \n",
       "0                                                 The Cove     0     True  \n",
       "495434                                            The Cove     0     True  \n",
       "401291                                            The Cove     0     True  \n",
       "1321745                                           The Cove     0     True  \n",
       "1604542                                           The Cove     0     True  \n",
       "...                                                    ...   ...      ...  \n",
       "1105303  Baby [You've Got What It Takes] [with Sharon J...  2009    False  \n",
       "1154066  Baby [You've Got What It Takes] [with Sharon J...  2009    False  \n",
       "392942   Baby [You've Got What It Takes] [with Sharon J...  2009    False  \n",
       "1804842  Baby [You've Got What It Takes] [with Sharon J...  2009    False  \n",
       "1658063  Baby [You've Got What It Takes] [with Sharon J...  2009    False  \n",
       "\n",
       "[2015999 rows x 6 columns]"
      ]
     },
     "execution_count": 32,
     "metadata": {},
     "output_type": "execute_result"
    }
   ],
   "source": [
    "merged_data_cleaned.sort_values(by=['song'])"
   ]
  },
  {
   "cell_type": "code",
   "execution_count": 33,
   "metadata": {},
   "outputs": [],
   "source": [
    "class Dataset():\n",
    "    def __init__(self, df): \n",
    "        self.df = df\n",
    "        \n",
    "    def __len__(self): \n",
    "        return len(self.df)\n",
    "    \n",
    "# index vererek ilerde weight lere ulaşmayı sağlıyor.  indexler tutulur   \n",
    "    def __getitem__(self, idxs):\n",
    "        df_sub = self.df.iloc[idxs]\n",
    "        return (torch.tensor(df_sub[\"user\"].values), torch.tensor(df_sub[\"song\"].values)), torch.tensor(df_sub[\"listen_count\"].values, dtype = torch.float32) \n",
    "            "
   ]
  },
  {
   "cell_type": "code",
   "execution_count": 34,
   "metadata": {},
   "outputs": [],
   "source": [
    "class DataLoader():\n",
    "    def __init__(self, ds, bs): \n",
    "        self.ds, self.bs = ds, bs\n",
    "    def __iter__(self):\n",
    "        n = len(self.ds)\n",
    "        l = torch.randperm(n)\n",
    "\n",
    "        \n",
    "        for i in range(0, n, self.bs): \n",
    "            idxs_l = l[i:i+self.bs]\n",
    "            yield self.ds[idxs_l]"
   ]
  },
  {
   "cell_type": "markdown",
   "metadata": {},
   "source": [
    "# SPLIT"
   ]
  },
  {
   "cell_type": "code",
   "execution_count": 35,
   "metadata": {},
   "outputs": [],
   "source": [
    "import numpy as np\n",
    "import random\n"
   ]
  },
  {
   "cell_type": "code",
   "execution_count": 36,
   "metadata": {},
   "outputs": [
    {
     "data": {
      "text/plain": [
       "0              0\n",
       "1              0\n",
       "2              0\n",
       "4              0\n",
       "5              0\n",
       "           ...  \n",
       "2086941    76352\n",
       "2086942    76352\n",
       "2086943    76352\n",
       "2086944    76352\n",
       "2086945    76352\n",
       "Name: user, Length: 2015999, dtype: int64"
      ]
     },
     "execution_count": 36,
     "metadata": {},
     "output_type": "execute_result"
    }
   ],
   "source": [
    "merged_data_cleaned.user"
   ]
  },
  {
   "cell_type": "code",
   "execution_count": 37,
   "metadata": {
    "scrolled": true
   },
   "outputs": [
    {
     "data": {
      "text/html": [
       "<div>\n",
       "<style scoped>\n",
       "    .dataframe tbody tr th:only-of-type {\n",
       "        vertical-align: middle;\n",
       "    }\n",
       "\n",
       "    .dataframe tbody tr th {\n",
       "        vertical-align: top;\n",
       "    }\n",
       "\n",
       "    .dataframe thead th {\n",
       "        text-align: right;\n",
       "    }\n",
       "</style>\n",
       "<table border=\"1\" class=\"dataframe\">\n",
       "  <thead>\n",
       "    <tr style=\"text-align: right;\">\n",
       "      <th></th>\n",
       "      <th>user</th>\n",
       "      <th>song</th>\n",
       "      <th>listen_count</th>\n",
       "      <th>title</th>\n",
       "      <th>year</th>\n",
       "      <th>no_year</th>\n",
       "    </tr>\n",
       "  </thead>\n",
       "  <tbody>\n",
       "    <tr>\n",
       "      <th>283735</th>\n",
       "      <td>10399</td>\n",
       "      <td>567</td>\n",
       "      <td>8.0</td>\n",
       "      <td>Parisian Goldfish</td>\n",
       "      <td>2008</td>\n",
       "      <td>False</td>\n",
       "    </tr>\n",
       "    <tr>\n",
       "      <th>275522</th>\n",
       "      <td>10105</td>\n",
       "      <td>4253</td>\n",
       "      <td>1.0</td>\n",
       "      <td>Sweet Jane</td>\n",
       "      <td>1970</td>\n",
       "      <td>False</td>\n",
       "    </tr>\n",
       "    <tr>\n",
       "      <th>1804869</th>\n",
       "      <td>66216</td>\n",
       "      <td>85</td>\n",
       "      <td>1.0</td>\n",
       "      <td>Without Me</td>\n",
       "      <td>2002</td>\n",
       "      <td>False</td>\n",
       "    </tr>\n",
       "    <tr>\n",
       "      <th>631760</th>\n",
       "      <td>23313</td>\n",
       "      <td>1523</td>\n",
       "      <td>1.0</td>\n",
       "      <td>Someday We'll Know</td>\n",
       "      <td>1998</td>\n",
       "      <td>False</td>\n",
       "    </tr>\n",
       "    <tr>\n",
       "      <th>1915786</th>\n",
       "      <td>70239</td>\n",
       "      <td>1123</td>\n",
       "      <td>1.0</td>\n",
       "      <td>Hero</td>\n",
       "      <td>2001</td>\n",
       "      <td>False</td>\n",
       "    </tr>\n",
       "    <tr>\n",
       "      <th>990982</th>\n",
       "      <td>36578</td>\n",
       "      <td>965</td>\n",
       "      <td>2.0</td>\n",
       "      <td>Whatcha Say</td>\n",
       "      <td>2009</td>\n",
       "      <td>False</td>\n",
       "    </tr>\n",
       "    <tr>\n",
       "      <th>1826920</th>\n",
       "      <td>67042</td>\n",
       "      <td>1501</td>\n",
       "      <td>1.0</td>\n",
       "      <td>Pojo Pojo</td>\n",
       "      <td>1998</td>\n",
       "      <td>False</td>\n",
       "    </tr>\n",
       "    <tr>\n",
       "      <th>1863209</th>\n",
       "      <td>68413</td>\n",
       "      <td>6511</td>\n",
       "      <td>3.0</td>\n",
       "      <td>You and Me</td>\n",
       "      <td>0</td>\n",
       "      <td>True</td>\n",
       "    </tr>\n",
       "    <tr>\n",
       "      <th>1787767</th>\n",
       "      <td>65551</td>\n",
       "      <td>9720</td>\n",
       "      <td>2.0</td>\n",
       "      <td>Everybody's Somebody's Fool</td>\n",
       "      <td>1972</td>\n",
       "      <td>False</td>\n",
       "    </tr>\n",
       "    <tr>\n",
       "      <th>1193036</th>\n",
       "      <td>43872</td>\n",
       "      <td>3541</td>\n",
       "      <td>1.0</td>\n",
       "      <td>Darkshines [Live From Le Zenith]</td>\n",
       "      <td>0</td>\n",
       "      <td>True</td>\n",
       "    </tr>\n",
       "    <tr>\n",
       "      <th>314655</th>\n",
       "      <td>11515</td>\n",
       "      <td>1796</td>\n",
       "      <td>2.0</td>\n",
       "      <td>Molly's Chambers</td>\n",
       "      <td>2003</td>\n",
       "      <td>False</td>\n",
       "    </tr>\n",
       "    <tr>\n",
       "      <th>1771540</th>\n",
       "      <td>64967</td>\n",
       "      <td>1074</td>\n",
       "      <td>2.0</td>\n",
       "      <td>Far Away (Album Version)</td>\n",
       "      <td>2006</td>\n",
       "      <td>False</td>\n",
       "    </tr>\n",
       "    <tr>\n",
       "      <th>803471</th>\n",
       "      <td>29746</td>\n",
       "      <td>2369</td>\n",
       "      <td>1.0</td>\n",
       "      <td>Elevator</td>\n",
       "      <td>2006</td>\n",
       "      <td>False</td>\n",
       "    </tr>\n",
       "    <tr>\n",
       "      <th>429185</th>\n",
       "      <td>15767</td>\n",
       "      <td>2631</td>\n",
       "      <td>2.0</td>\n",
       "      <td>M79 (Album)</td>\n",
       "      <td>2007</td>\n",
       "      <td>False</td>\n",
       "    </tr>\n",
       "    <tr>\n",
       "      <th>940246</th>\n",
       "      <td>34711</td>\n",
       "      <td>7849</td>\n",
       "      <td>1.0</td>\n",
       "      <td>Rock It</td>\n",
       "      <td>2009</td>\n",
       "      <td>False</td>\n",
       "    </tr>\n",
       "    <tr>\n",
       "      <th>1449496</th>\n",
       "      <td>53099</td>\n",
       "      <td>1063</td>\n",
       "      <td>1.0</td>\n",
       "      <td>Wish You Were Here</td>\n",
       "      <td>2001</td>\n",
       "      <td>False</td>\n",
       "    </tr>\n",
       "    <tr>\n",
       "      <th>20612</th>\n",
       "      <td>755</td>\n",
       "      <td>3099</td>\n",
       "      <td>4.0</td>\n",
       "      <td>June 9th</td>\n",
       "      <td>1996</td>\n",
       "      <td>False</td>\n",
       "    </tr>\n",
       "    <tr>\n",
       "      <th>1797512</th>\n",
       "      <td>65941</td>\n",
       "      <td>4912</td>\n",
       "      <td>1.0</td>\n",
       "      <td>I Adore You</td>\n",
       "      <td>2008</td>\n",
       "      <td>False</td>\n",
       "    </tr>\n",
       "    <tr>\n",
       "      <th>474198</th>\n",
       "      <td>17441</td>\n",
       "      <td>1487</td>\n",
       "      <td>22.0</td>\n",
       "      <td>Holes To Heaven</td>\n",
       "      <td>2003</td>\n",
       "      <td>False</td>\n",
       "    </tr>\n",
       "    <tr>\n",
       "      <th>1668188</th>\n",
       "      <td>61162</td>\n",
       "      <td>1097</td>\n",
       "      <td>1.0</td>\n",
       "      <td>Bring Me To Life</td>\n",
       "      <td>2003</td>\n",
       "      <td>False</td>\n",
       "    </tr>\n",
       "    <tr>\n",
       "      <th>405364</th>\n",
       "      <td>14941</td>\n",
       "      <td>1295</td>\n",
       "      <td>1.0</td>\n",
       "      <td>Proceed</td>\n",
       "      <td>0</td>\n",
       "      <td>True</td>\n",
       "    </tr>\n",
       "    <tr>\n",
       "      <th>868900</th>\n",
       "      <td>32116</td>\n",
       "      <td>2073</td>\n",
       "      <td>1.0</td>\n",
       "      <td>Go To Sleep</td>\n",
       "      <td>2003</td>\n",
       "      <td>False</td>\n",
       "    </tr>\n",
       "    <tr>\n",
       "      <th>1444380</th>\n",
       "      <td>52930</td>\n",
       "      <td>9810</td>\n",
       "      <td>1.0</td>\n",
       "      <td>Ave Maria</td>\n",
       "      <td>2005</td>\n",
       "      <td>False</td>\n",
       "    </tr>\n",
       "    <tr>\n",
       "      <th>1106292</th>\n",
       "      <td>40768</td>\n",
       "      <td>4021</td>\n",
       "      <td>4.0</td>\n",
       "      <td>Hold Me_ Thrill Me_ Kiss Me_ Kill Me</td>\n",
       "      <td>2002</td>\n",
       "      <td>False</td>\n",
       "    </tr>\n",
       "    <tr>\n",
       "      <th>118868</th>\n",
       "      <td>4377</td>\n",
       "      <td>636</td>\n",
       "      <td>2.0</td>\n",
       "      <td>You Only Live Once</td>\n",
       "      <td>2005</td>\n",
       "      <td>False</td>\n",
       "    </tr>\n",
       "    <tr>\n",
       "      <th>334862</th>\n",
       "      <td>12184</td>\n",
       "      <td>89</td>\n",
       "      <td>1.0</td>\n",
       "      <td>Dog Days Are Over (Radio Edit)</td>\n",
       "      <td>0</td>\n",
       "      <td>True</td>\n",
       "    </tr>\n",
       "    <tr>\n",
       "      <th>1807562</th>\n",
       "      <td>66335</td>\n",
       "      <td>1854</td>\n",
       "      <td>1.0</td>\n",
       "      <td>Lump Sum</td>\n",
       "      <td>2007</td>\n",
       "      <td>False</td>\n",
       "    </tr>\n",
       "    <tr>\n",
       "      <th>218656</th>\n",
       "      <td>7983</td>\n",
       "      <td>5051</td>\n",
       "      <td>3.0</td>\n",
       "      <td>Y Nos Dieron Las Diez</td>\n",
       "      <td>1992</td>\n",
       "      <td>False</td>\n",
       "    </tr>\n",
       "    <tr>\n",
       "      <th>267642</th>\n",
       "      <td>9821</td>\n",
       "      <td>7867</td>\n",
       "      <td>1.0</td>\n",
       "      <td>The Call Of Ktulu</td>\n",
       "      <td>1984</td>\n",
       "      <td>False</td>\n",
       "    </tr>\n",
       "    <tr>\n",
       "      <th>92596</th>\n",
       "      <td>3436</td>\n",
       "      <td>5697</td>\n",
       "      <td>1.0</td>\n",
       "      <td>Mama (2001 Edit)</td>\n",
       "      <td>2004</td>\n",
       "      <td>False</td>\n",
       "    </tr>\n",
       "    <tr>\n",
       "      <th>650335</th>\n",
       "      <td>23936</td>\n",
       "      <td>6686</td>\n",
       "      <td>1.0</td>\n",
       "      <td>Good Arms vs Bad Arms</td>\n",
       "      <td>2008</td>\n",
       "      <td>False</td>\n",
       "    </tr>\n",
       "    <tr>\n",
       "      <th>704173</th>\n",
       "      <td>25980</td>\n",
       "      <td>65</td>\n",
       "      <td>2.0</td>\n",
       "      <td>Mr. Jones</td>\n",
       "      <td>1991</td>\n",
       "      <td>False</td>\n",
       "    </tr>\n",
       "  </tbody>\n",
       "</table>\n",
       "</div>"
      ],
      "text/plain": [
       "          user  song  listen_count                                 title  \\\n",
       "283735   10399   567           8.0                     Parisian Goldfish   \n",
       "275522   10105  4253           1.0                            Sweet Jane   \n",
       "1804869  66216    85           1.0                            Without Me   \n",
       "631760   23313  1523           1.0                    Someday We'll Know   \n",
       "1915786  70239  1123           1.0                                  Hero   \n",
       "990982   36578   965           2.0                           Whatcha Say   \n",
       "1826920  67042  1501           1.0                             Pojo Pojo   \n",
       "1863209  68413  6511           3.0                            You and Me   \n",
       "1787767  65551  9720           2.0           Everybody's Somebody's Fool   \n",
       "1193036  43872  3541           1.0      Darkshines [Live From Le Zenith]   \n",
       "314655   11515  1796           2.0                      Molly's Chambers   \n",
       "1771540  64967  1074           2.0              Far Away (Album Version)   \n",
       "803471   29746  2369           1.0                              Elevator   \n",
       "429185   15767  2631           2.0                           M79 (Album)   \n",
       "940246   34711  7849           1.0                               Rock It   \n",
       "1449496  53099  1063           1.0                    Wish You Were Here   \n",
       "20612      755  3099           4.0                              June 9th   \n",
       "1797512  65941  4912           1.0                           I Adore You   \n",
       "474198   17441  1487          22.0                       Holes To Heaven   \n",
       "1668188  61162  1097           1.0                      Bring Me To Life   \n",
       "405364   14941  1295           1.0                               Proceed   \n",
       "868900   32116  2073           1.0                           Go To Sleep   \n",
       "1444380  52930  9810           1.0                             Ave Maria   \n",
       "1106292  40768  4021           4.0  Hold Me_ Thrill Me_ Kiss Me_ Kill Me   \n",
       "118868    4377   636           2.0                    You Only Live Once   \n",
       "334862   12184    89           1.0        Dog Days Are Over (Radio Edit)   \n",
       "1807562  66335  1854           1.0                              Lump Sum   \n",
       "218656    7983  5051           3.0                 Y Nos Dieron Las Diez   \n",
       "267642    9821  7867           1.0                     The Call Of Ktulu   \n",
       "92596     3436  5697           1.0                      Mama (2001 Edit)   \n",
       "650335   23936  6686           1.0                 Good Arms vs Bad Arms   \n",
       "704173   25980    65           2.0                             Mr. Jones   \n",
       "\n",
       "         year  no_year  \n",
       "283735   2008    False  \n",
       "275522   1970    False  \n",
       "1804869  2002    False  \n",
       "631760   1998    False  \n",
       "1915786  2001    False  \n",
       "990982   2009    False  \n",
       "1826920  1998    False  \n",
       "1863209     0     True  \n",
       "1787767  1972    False  \n",
       "1193036     0     True  \n",
       "314655   2003    False  \n",
       "1771540  2006    False  \n",
       "803471   2006    False  \n",
       "429185   2007    False  \n",
       "940246   2009    False  \n",
       "1449496  2001    False  \n",
       "20612    1996    False  \n",
       "1797512  2008    False  \n",
       "474198   2003    False  \n",
       "1668188  2003    False  \n",
       "405364      0     True  \n",
       "868900   2003    False  \n",
       "1444380  2005    False  \n",
       "1106292  2002    False  \n",
       "118868   2005    False  \n",
       "334862      0     True  \n",
       "1807562  2007    False  \n",
       "218656   1992    False  \n",
       "267642   1984    False  \n",
       "92596    2004    False  \n",
       "650335   2008    False  \n",
       "704173   1991    False  "
      ]
     },
     "execution_count": 37,
     "metadata": {},
     "output_type": "execute_result"
    }
   ],
   "source": [
    "merged_data_cleaned2=merged_data_cleaned.sample(200000,random_state=42)\n",
    "deneme=merged_data_cleaned.sample(32,random_state=11)\n",
    "deneme"
   ]
  },
  {
   "cell_type": "code",
   "execution_count": 38,
   "metadata": {
    "scrolled": true
   },
   "outputs": [
    {
     "data": {
      "text/plain": [
       "1.0000     113911\n",
       "2.0000      31194\n",
       "3.0000      14505\n",
       "5.0000       9206\n",
       "4.0000       8112\n",
       "6.0000       4568\n",
       "7.0000       3123\n",
       "8.0000       2221\n",
       "10.0000      1874\n",
       "9.0000       1719\n",
       "11.0000      1248\n",
       "12.0000      1008\n",
       "39.0001       825\n",
       "13.0000       815\n",
       "15.0000       729\n",
       "14.0000       635\n",
       "16.0000       573\n",
       "17.0000       477\n",
       "18.0000       360\n",
       "19.0000       335\n",
       "20.0000       303\n",
       "21.0000       262\n",
       "22.0000       238\n",
       "23.0000       199\n",
       "25.0000       186\n",
       "24.0000       158\n",
       "28.0000       145\n",
       "27.0000       140\n",
       "26.0000       139\n",
       "31.0000       105\n",
       "30.0000        98\n",
       "29.0000        92\n",
       "32.0000        76\n",
       "33.0000        71\n",
       "35.0000        67\n",
       "36.0000        63\n",
       "39.0000        58\n",
       "34.0000        57\n",
       "37.0000        56\n",
       "38.0000        49\n",
       "Name: listen_count, dtype: int64"
      ]
     },
     "execution_count": 38,
     "metadata": {},
     "output_type": "execute_result"
    }
   ],
   "source": [
    "merged_data_cleaned2.listen_count.value_counts()"
   ]
  },
  {
   "cell_type": "code",
   "execution_count": 39,
   "metadata": {},
   "outputs": [],
   "source": [
    "mask = [True if x == 1 else False for x in np.random.uniform(0, 1, (len(merged_data_cleaned2))) < 1 - 0.2] \n",
    "# yüzde 20 val,%80 train den küçükse True. train df'e mask olarak koyar,\n",
    "# val için false un tersini alıp oluşturur\n",
    "neg_mask = [not x for x in mask]"
   ]
  },
  {
   "cell_type": "code",
   "execution_count": 40,
   "metadata": {},
   "outputs": [],
   "source": [
    "train_df, valid_df = merged_data_cleaned2[mask], merged_data_cleaned2[neg_mask]"
   ]
  },
  {
   "cell_type": "code",
   "execution_count": 41,
   "metadata": {},
   "outputs": [],
   "source": [
    "train_ds = Dataset(train_df)\n",
    "train_dl = DataLoader(train_ds, 1024) # batch size"
   ]
  },
  {
   "cell_type": "code",
   "execution_count": 42,
   "metadata": {},
   "outputs": [],
   "source": [
    "valid_ds = Dataset(valid_df)\n",
    "valid_dl = DataLoader(valid_ds, 1024)\n"
   ]
  },
  {
   "cell_type": "code",
   "execution_count": 43,
   "metadata": {},
   "outputs": [],
   "source": [
    "deneme_ds = Dataset(deneme)\n",
    "deneme_dl = DataLoader(deneme_ds, 32)"
   ]
  },
  {
   "cell_type": "code",
   "execution_count": 44,
   "metadata": {},
   "outputs": [],
   "source": [
    "xb,yb=next(iter(train_dl))"
   ]
  },
  {
   "cell_type": "markdown",
   "metadata": {},
   "source": [
    "# sigmoid"
   ]
  },
  {
   "cell_type": "code",
   "execution_count": 45,
   "metadata": {},
   "outputs": [],
   "source": [
    "def sigmoid_range(x, low, high): \n",
    "    return torch.sigmoid(x) * (high-low) + low\n",
    "# sigmoid range ayarlama"
   ]
  },
  {
   "cell_type": "markdown",
   "metadata": {},
   "source": [
    "# Model 1"
   ]
  },
  {
   "cell_type": "code",
   "execution_count": 46,
   "metadata": {},
   "outputs": [
    {
     "data": {
      "text/plain": [
       "(76353, 10000, 58)"
      ]
     },
     "execution_count": 46,
     "metadata": {},
     "output_type": "execute_result"
    }
   ],
   "source": [
    "n_users = len(merged_data_cleaned[\"user\"].unique())\n",
    "\n",
    "n_songs = len(merged_data_cleaned[\"song\"].unique())\n",
    "n_years=len(merged_data_cleaned[\"year\"].unique())\n",
    "n_users,n_songs,n_years"
   ]
  },
  {
   "cell_type": "code",
   "execution_count": 47,
   "metadata": {},
   "outputs": [],
   "source": [
    "class DotProductBias(nn.Module):\n",
    "    def __init__(self, n_users, n_song, n_factors, y_range=(0,39.5)): #y_range:sigmoid range\n",
    "        super().__init__()\n",
    "        self.user_factors = nn.Parameter(torch.zeros(n_users, n_factors).normal_()) \n",
    "        self.user_bias = nn.Parameter(torch.zeros(n_users,1).normal_()) #latent fac. yok\n",
    "        \n",
    "        self.song_factors = nn.Parameter(torch.zeros(n_songs, n_factors).normal_())\n",
    "        self.song_bias = nn.Parameter(torch.zeros(n_songs,1).normal_())\n",
    "        \n",
    "        self.y_range = y_range\n",
    "        \n",
    "    def forward(self, x):\n",
    "        users = self.user_factors[x[0]]           #user indexi\n",
    "        songs = self.song_factors[x[1]]\n",
    "        \n",
    "        res = (users * songs).sum(dim=1, keepdim=True)           #çarpımdan sonra bias ekleniyor\n",
    "        res += self.user_bias[x[0]] + self.song_bias[x[1]]\n",
    "        return sigmoid_range(res, *self.y_range)"
   ]
  },
  {
   "cell_type": "code",
   "execution_count": 48,
   "metadata": {},
   "outputs": [],
   "source": [
    "model = DotProductBias(n_users, n_songs, 50) #latent fac. 50, çok fazla o yüzden pca\n",
    "optim = torch.optim.Adam(model.parameters(), lr=0.01, weight_decay=1e-3)"
   ]
  },
  {
   "cell_type": "code",
   "execution_count": 49,
   "metadata": {},
   "outputs": [
    {
     "name": "stdout",
     "output_type": "stream",
     "text": [
      "Model's state_dict:\n",
      "user_factors \t torch.Size([76353, 50])\n",
      "user_bias \t torch.Size([76353, 1])\n",
      "song_factors \t torch.Size([10000, 50])\n",
      "song_bias \t torch.Size([10000, 1])\n",
      "\n",
      "Optimizer's state_dict:\n",
      "state \t {}\n",
      "param_groups \t [{'lr': 0.01, 'betas': (0.9, 0.999), 'eps': 1e-08, 'weight_decay': 0.001, 'amsgrad': False, 'params': [2685062986200, 2685062985984, 2685062986560, 2685062984832]}]\n"
     ]
    }
   ],
   "source": [
    "# Print model's state_dict\n",
    "print(\"Model's state_dict:\")\n",
    "for param_tensor in model.state_dict():\n",
    "    print(param_tensor, \"\\t\", model.state_dict()[param_tensor].size())\n",
    "\n",
    "# Print optimizer's state_dict\n",
    "print(\"\\nOptimizer's state_dict:\")\n",
    "for var_name in optim.state_dict():\n",
    "    print(var_name, \"\\t\", optim.state_dict()[var_name])"
   ]
  },
  {
   "cell_type": "code",
   "execution_count": 50,
   "metadata": {},
   "outputs": [],
   "source": [
    "def mean_sqr(preds, targets):\n",
    "    return ((preds.squeeze() - targets) ** 2).mean()"
   ]
  },
  {
   "cell_type": "code",
   "execution_count": 51,
   "metadata": {},
   "outputs": [],
   "source": [
    "loss_func = mean_sqr"
   ]
  },
  {
   "cell_type": "code",
   "execution_count": 52,
   "metadata": {},
   "outputs": [
    {
     "data": {
      "text/plain": [
       "160107"
      ]
     },
     "execution_count": 52,
     "metadata": {},
     "output_type": "execute_result"
    }
   ],
   "source": [
    "n_train = len(train_df)\n",
    "n_train"
   ]
  },
  {
   "cell_type": "code",
   "execution_count": 53,
   "metadata": {},
   "outputs": [
    {
     "data": {
      "text/plain": [
       "39893"
      ]
     },
     "execution_count": 53,
     "metadata": {},
     "output_type": "execute_result"
    }
   ],
   "source": [
    "n_valid = len(valid_df)\n",
    "n_valid"
   ]
  },
  {
   "cell_type": "code",
   "execution_count": 54,
   "metadata": {},
   "outputs": [],
   "source": [
    "def train(model, epochs=5, valid_epoch=5):\n",
    "    for epoch in range(1, epochs+1):\n",
    "        model = model.train()\n",
    "        loss_train = 0\n",
    "        loss_valid = 0\n",
    "        for xb, yb in train_dl:\n",
    "            \n",
    "            preds = model(xb)\n",
    "            loss = loss_func(preds, yb)\n",
    "            loss.backward()\n",
    "            optim.step()\n",
    "            optim.zero_grad()\n",
    "            loss_train += loss * len(xb)\n",
    "        predss=[]\n",
    "        predss.append(preds)\n",
    "        model_2=model\n",
    "        if epoch  % valid_epoch == 0:\n",
    "            model = model.eval() # degerlendirme/test modu. bash norm,droupout gibi degisiklik yapma \n",
    "            \n",
    "            for xb, yb in valid_dl:\n",
    "                with torch.no_grad(): #GRADYAN hesaplamasını istemiyoruz val.e bakarken\n",
    "                    loss_valid += loss_func(model(xb), yb) * len(xb)\n",
    "            print(f\"training loss: {loss_train/n_train} | validation loss: {loss_valid/n_valid}\")\n",
    "        "
   ]
  },
  {
   "cell_type": "code",
   "execution_count": 55,
   "metadata": {
    "scrolled": true
   },
   "outputs": [
    {
     "name": "stdout",
     "output_type": "stream",
     "text": [
      "training loss: 0.41310635209083557 | validation loss: 0.6612922549247742\n",
      "training loss: 0.11136103421449661 | validation loss: 0.5112476944923401\n",
      "training loss: 0.05081385001540184 | validation loss: 0.3902038633823395\n",
      "training loss: 0.02576315961778164 | validation loss: 0.2810751497745514\n",
      "training loss: 0.017748018726706505 | validation loss: 0.19463397562503815\n",
      "training loss: 0.016263285651803017 | validation loss: 0.1339501589536667\n",
      "training loss: 0.016284817829728127 | validation loss: 0.09648096561431885\n",
      "training loss: 0.016559185460209846 | validation loss: 0.07559472322463989\n",
      "training loss: 0.016824260354042053 | validation loss: 0.06426773220300674\n",
      "training loss: 0.01719372346997261 | validation loss: 0.058233000338077545\n",
      "training loss: 0.01751423440873623 | validation loss: 0.05488825589418411\n",
      "training loss: 0.01772027648985386 | validation loss: 0.05292754992842674\n",
      "training loss: 0.0180826373398304 | validation loss: 0.051861703395843506\n",
      "training loss: 0.018206482753157616 | validation loss: 0.051238853484392166\n",
      "training loss: 0.018427781760692596 | validation loss: 0.05087253451347351\n",
      "training loss: 0.018535470589995384 | validation loss: 0.05056307092308998\n",
      "training loss: 0.01868509128689766 | validation loss: 0.050413403660058975\n",
      "training loss: 0.018765125423669815 | validation loss: 0.05035748332738876\n",
      "training loss: 0.018796691671013832 | validation loss: 0.05024305358529091\n",
      "training loss: 0.018854951485991478 | validation loss: 0.05014815181493759\n",
      "training loss: 0.018871011212468147 | validation loss: 0.050161655992269516\n",
      "training loss: 0.01885019615292549 | validation loss: 0.05003361031413078\n",
      "training loss: 0.0188535638153553 | validation loss: 0.04991251230239868\n",
      "training loss: 0.01881231553852558 | validation loss: 0.04995675012469292\n",
      "training loss: 0.018749698996543884 | validation loss: 0.04992315173149109\n",
      "training loss: 0.018707258626818657 | validation loss: 0.049964167177677155\n",
      "training loss: 0.018669147044420242 | validation loss: 0.04988275095820427\n",
      "training loss: 0.018608463928103447 | validation loss: 0.04989030584692955\n",
      "training loss: 0.018593143671751022 | validation loss: 0.04993494227528572\n",
      "training loss: 0.01852348819375038 | validation loss: 0.04997081309556961\n",
      "training loss: 0.01855609565973282 | validation loss: 0.050015632063150406\n",
      "training loss: 0.018427837640047073 | validation loss: 0.049949321895837784\n"
     ]
    }
   ],
   "source": [
    "train(model,64,2)"
   ]
  },
  {
   "cell_type": "code",
   "execution_count": 56,
   "metadata": {},
   "outputs": [
    {
     "data": {
      "text/plain": [
       "torch.Size([76353, 50])"
      ]
     },
     "execution_count": 56,
     "metadata": {},
     "output_type": "execute_result"
    }
   ],
   "source": [
    "model.user_factors.shape"
   ]
  },
  {
   "cell_type": "code",
   "execution_count": 57,
   "metadata": {},
   "outputs": [],
   "source": [
    "xb,yb=next(iter(train_dl))"
   ]
  },
  {
   "cell_type": "code",
   "execution_count": 58,
   "metadata": {},
   "outputs": [
    {
     "data": {
      "text/plain": [
       "tensor([16338, 10175, 33392,  ..., 38186, 61175, 40374])"
      ]
     },
     "execution_count": 58,
     "metadata": {},
     "output_type": "execute_result"
    }
   ],
   "source": [
    "xb[0]"
   ]
  },
  {
   "cell_type": "code",
   "execution_count": 59,
   "metadata": {},
   "outputs": [
    {
     "data": {
      "text/plain": [
       "tensor([1097, 2923, 5116,  ..., 8998, 4010, 8344])"
      ]
     },
     "execution_count": 59,
     "metadata": {},
     "output_type": "execute_result"
    }
   ],
   "source": [
    "xb[1]"
   ]
  },
  {
   "cell_type": "code",
   "execution_count": 62,
   "metadata": {},
   "outputs": [
    {
     "data": {
      "text/plain": [
       "tensor([1., 1., 1.,  ..., 1., 1., 1.])"
      ]
     },
     "execution_count": 62,
     "metadata": {},
     "output_type": "execute_result"
    }
   ],
   "source": [
    "yb"
   ]
  },
  {
   "cell_type": "markdown",
   "metadata": {},
   "source": [
    "# Model 2"
   ]
  },
  {
   "cell_type": "markdown",
   "metadata": {},
   "source": [
    "Keep in mind that only a limited number of optimizers support sparse gradients: currently it’s optim.SGD (CUDA and CPU), optim.SparseAdam (CUDA and CPU) and optim.Adagrad (CPU)"
   ]
  },
  {
   "cell_type": "code",
   "execution_count": 64,
   "metadata": {},
   "outputs": [],
   "source": [
    "class collab_deep_2(nn.Module):\n",
    "    def __init__(self, n_users, n_songs, n_factors, y_range=(0,39.5), n_act=100):\n",
    "#         hiddenL 100 act fonk output olucak sonra 1\n",
    "        super().__init__()\n",
    "        self.user_factors = torch.nn.Embedding(n_users, n_factors)\n",
    "        self.song_factors = torch.nn.Embedding(n_songs, n_factors)\n",
    "\n",
    "        self.layers = nn.Sequential(\n",
    "            nn.Linear(2 * n_factors + 1, n_act), #+1 case 1 deki çarpım\n",
    "            nn.ReLU(),\n",
    "            \n",
    "            nn.Linear(n_act, 1))\n",
    "        self.y_range = y_range\n",
    "        \n",
    "    def forward(self, x):\n",
    "        users = self.user_factors(x[0])\n",
    "        songs = self.song_factors(x[1])\n",
    "        \n",
    "        embs = users,songs,(users*songs).sum(dim=1, keepdim = True)\n",
    "        x = self.layers(torch.cat(embs, dim=1))\n",
    "        return sigmoid_range(x, *self.y_range)"
   ]
  },
  {
   "cell_type": "code",
   "execution_count": 65,
   "metadata": {},
   "outputs": [],
   "source": [
    "model2 = collab_deep_2(n_users, n_songs, 50)\n",
    "optim = torch.optim.Adam(model2.parameters(), lr=0.01, weight_decay=1e-3)"
   ]
  },
  {
   "cell_type": "code",
   "execution_count": 66,
   "metadata": {},
   "outputs": [
    {
     "name": "stdout",
     "output_type": "stream",
     "text": [
      "training loss: 0.04001371189951897 | validation loss: 0.03592301905155182\n",
      "training loss: 0.026197213679552078 | validation loss: 0.03840447589755058\n",
      "training loss: 0.012221850454807281 | validation loss: 0.04023202881217003\n",
      "training loss: 0.009148342534899712 | validation loss: 0.04006725549697876\n",
      "training loss: 0.009075929410755634 | validation loss: 0.04098227992653847\n",
      "training loss: 0.00877288542687893 | validation loss: 0.04192442446947098\n",
      "training loss: 0.008172091096639633 | validation loss: 0.04231639206409454\n",
      "training loss: 0.007886475883424282 | validation loss: 0.04328962415456772\n",
      "training loss: 0.007714220322668552 | validation loss: 0.04263438284397125\n",
      "training loss: 0.007438867352902889 | validation loss: 0.0436515249311924\n",
      "training loss: 0.00713385222479701 | validation loss: 0.04383860155940056\n",
      "training loss: 0.007033423520624638 | validation loss: 0.0444418229162693\n",
      "training loss: 0.006811522878706455 | validation loss: 0.04531819000840187\n",
      "training loss: 0.007004170678555965 | validation loss: 0.0448966845870018\n",
      "training loss: 0.006877512205392122 | validation loss: 0.04479245841503143\n",
      "training loss: 0.006404871121048927 | validation loss: 0.04444245994091034\n"
     ]
    }
   ],
   "source": [
    "train(model2,32,2)"
   ]
  },
  {
   "cell_type": "code",
   "execution_count": 296,
   "metadata": {},
   "outputs": [],
   "source": [
    "# verilen song değerine göre title bastırır\n",
    "d_song_title = {}\n",
    "for e, m in zip(merged_data_cleaned2[\"song\"], merged_data_cleaned2[\"title\"]):\n",
    "    d_song_title[e] = m"
   ]
  },
  {
   "cell_type": "markdown",
   "metadata": {},
   "source": [
    "## Most Popular Songs"
   ]
  },
  {
   "cell_type": "code",
   "execution_count": 298,
   "metadata": {},
   "outputs": [
    {
     "data": {
      "text/plain": [
       "['Waterfall', 'Yeah!', 'Halo', 'They Might Follow You', 'Rock Star']"
      ]
     },
     "execution_count": 298,
     "metadata": {},
     "output_type": "execute_result"
    }
   ],
   "source": [
    "song_bias = model.song_bias.squeeze()\n",
    "idxs = song_bias.argsort()[:5]\n",
    "[d_song_title[i.item()] for i in idxs]"
   ]
  },
  {
   "cell_type": "code",
   "execution_count": 303,
   "metadata": {},
   "outputs": [
    {
     "data": {
      "text/plain": [
       "['Boots On',\n",
       " 'All Over Me',\n",
       " 'Naked Sunday (LP Version)',\n",
       " 'Sister Seagull',\n",
       " 'The Quest',\n",
       " 'Break Your Little Heart',\n",
       " 'Little House',\n",
       " 'Ort',\n",
       " 'Blood Red',\n",
       " 'Close My Eyes Forever']"
      ]
     },
     "execution_count": 303,
     "metadata": {},
     "output_type": "execute_result"
    }
   ],
   "source": [
    "idxs = song_bias.argsort(descending = True)[:10]\n",
    "[d_song_title[i.item()] for i in idxs]"
   ]
  },
  {
   "cell_type": "markdown",
   "metadata": {},
   "source": [
    "## Least Popular Songs"
   ]
  },
  {
   "cell_type": "code",
   "execution_count": 302,
   "metadata": {},
   "outputs": [
    {
     "data": {
      "text/plain": [
       "['Waterfall',\n",
       " 'Yeah!',\n",
       " 'Halo',\n",
       " 'They Might Follow You',\n",
       " 'Rock Star',\n",
       " 'Somebody To Love',\n",
       " 'Just Dance',\n",
       " 'Clocks',\n",
       " 'Dollhouse',\n",
       " 'Marshall Examines His Carcass']"
      ]
     },
     "execution_count": 302,
     "metadata": {},
     "output_type": "execute_result"
    }
   ],
   "source": [
    "idxs = song_bias.argsort(descending = False)[:10]\n",
    "[d_song_title[i.item()] for i in idxs]"
   ]
  },
  {
   "cell_type": "code",
   "execution_count": 67,
   "metadata": {},
   "outputs": [
    {
     "data": {
      "text/plain": [
       "(tensor([47157, 47157, 47157]), tensor([945, 946, 947]))"
      ]
     },
     "execution_count": 67,
     "metadata": {},
     "output_type": "execute_result"
    }
   ],
   "source": [
    "x=(torch.tensor([47157,47157,47157]),torch.tensor([945,946,947]))\n",
    "x\n"
   ]
  },
  {
   "cell_type": "code",
   "execution_count": 68,
   "metadata": {
    "scrolled": true
   },
   "outputs": [
    {
     "data": {
      "text/plain": [
       "tensor([945, 946, 947])"
      ]
     },
     "execution_count": 68,
     "metadata": {},
     "output_type": "execute_result"
    }
   ],
   "source": [
    "x[1]"
   ]
  },
  {
   "cell_type": "code",
   "execution_count": 70,
   "metadata": {},
   "outputs": [
    {
     "data": {
      "text/plain": [
       "tensor([[ 7.4765],\n",
       "        [13.2349],\n",
       "        [ 3.8097]], grad_fn=<AddBackward0>)"
      ]
     },
     "execution_count": 70,
     "metadata": {},
     "output_type": "execute_result"
    }
   ],
   "source": [
    "#model is below cell\n",
    "model(x)"
   ]
  },
  {
   "cell_type": "code",
   "execution_count": 65,
   "metadata": {
    "collapsed": true
   },
   "outputs": [
    {
     "data": {
      "text/html": [
       "<div>\n",
       "<style scoped>\n",
       "    .dataframe tbody tr th:only-of-type {\n",
       "        vertical-align: middle;\n",
       "    }\n",
       "\n",
       "    .dataframe tbody tr th {\n",
       "        vertical-align: top;\n",
       "    }\n",
       "\n",
       "    .dataframe thead th {\n",
       "        text-align: right;\n",
       "    }\n",
       "</style>\n",
       "<table border=\"1\" class=\"dataframe\">\n",
       "  <thead>\n",
       "    <tr style=\"text-align: right;\">\n",
       "      <th></th>\n",
       "      <th>user</th>\n",
       "      <th>song</th>\n",
       "      <th>listen_count</th>\n",
       "      <th>title</th>\n",
       "      <th>year</th>\n",
       "      <th>no_year</th>\n",
       "    </tr>\n",
       "  </thead>\n",
       "  <tbody>\n",
       "    <tr>\n",
       "      <th>1298277</th>\n",
       "      <td>47555</td>\n",
       "      <td>5776</td>\n",
       "      <td>1.0000</td>\n",
       "      <td>Big Boss Man</td>\n",
       "      <td>1968</td>\n",
       "      <td>False</td>\n",
       "    </tr>\n",
       "    <tr>\n",
       "      <th>1622912</th>\n",
       "      <td>59316</td>\n",
       "      <td>5776</td>\n",
       "      <td>39.0001</td>\n",
       "      <td>Big Boss Man</td>\n",
       "      <td>1968</td>\n",
       "      <td>False</td>\n",
       "    </tr>\n",
       "    <tr>\n",
       "      <th>367648</th>\n",
       "      <td>13446</td>\n",
       "      <td>5776</td>\n",
       "      <td>34.0000</td>\n",
       "      <td>Big Boss Man</td>\n",
       "      <td>1968</td>\n",
       "      <td>False</td>\n",
       "    </tr>\n",
       "    <tr>\n",
       "      <th>1773021</th>\n",
       "      <td>64753</td>\n",
       "      <td>5776</td>\n",
       "      <td>2.0000</td>\n",
       "      <td>Big Boss Man</td>\n",
       "      <td>1968</td>\n",
       "      <td>False</td>\n",
       "    </tr>\n",
       "    <tr>\n",
       "      <th>517504</th>\n",
       "      <td>18947</td>\n",
       "      <td>5776</td>\n",
       "      <td>6.0000</td>\n",
       "      <td>Big Boss Man</td>\n",
       "      <td>1968</td>\n",
       "      <td>False</td>\n",
       "    </tr>\n",
       "    <tr>\n",
       "      <th>294370</th>\n",
       "      <td>10728</td>\n",
       "      <td>5776</td>\n",
       "      <td>3.0000</td>\n",
       "      <td>Big Boss Man</td>\n",
       "      <td>1968</td>\n",
       "      <td>False</td>\n",
       "    </tr>\n",
       "    <tr>\n",
       "      <th>571595</th>\n",
       "      <td>20962</td>\n",
       "      <td>5776</td>\n",
       "      <td>1.0000</td>\n",
       "      <td>Big Boss Man</td>\n",
       "      <td>1968</td>\n",
       "      <td>False</td>\n",
       "    </tr>\n",
       "    <tr>\n",
       "      <th>899773</th>\n",
       "      <td>33076</td>\n",
       "      <td>5776</td>\n",
       "      <td>23.0000</td>\n",
       "      <td>Big Boss Man</td>\n",
       "      <td>1968</td>\n",
       "      <td>False</td>\n",
       "    </tr>\n",
       "    <tr>\n",
       "      <th>364455</th>\n",
       "      <td>13310</td>\n",
       "      <td>5776</td>\n",
       "      <td>2.0000</td>\n",
       "      <td>Big Boss Man</td>\n",
       "      <td>1968</td>\n",
       "      <td>False</td>\n",
       "    </tr>\n",
       "    <tr>\n",
       "      <th>18615</th>\n",
       "      <td>674</td>\n",
       "      <td>5776</td>\n",
       "      <td>39.0001</td>\n",
       "      <td>Big Boss Man</td>\n",
       "      <td>1968</td>\n",
       "      <td>False</td>\n",
       "    </tr>\n",
       "    <tr>\n",
       "      <th>1222401</th>\n",
       "      <td>44804</td>\n",
       "      <td>5776</td>\n",
       "      <td>21.0000</td>\n",
       "      <td>Big Boss Man</td>\n",
       "      <td>1968</td>\n",
       "      <td>False</td>\n",
       "    </tr>\n",
       "    <tr>\n",
       "      <th>1752318</th>\n",
       "      <td>64058</td>\n",
       "      <td>5776</td>\n",
       "      <td>1.0000</td>\n",
       "      <td>Big Boss Man</td>\n",
       "      <td>1968</td>\n",
       "      <td>False</td>\n",
       "    </tr>\n",
       "    <tr>\n",
       "      <th>1210905</th>\n",
       "      <td>44344</td>\n",
       "      <td>5776</td>\n",
       "      <td>5.0000</td>\n",
       "      <td>Big Boss Man</td>\n",
       "      <td>1968</td>\n",
       "      <td>False</td>\n",
       "    </tr>\n",
       "    <tr>\n",
       "      <th>31458</th>\n",
       "      <td>1120</td>\n",
       "      <td>5776</td>\n",
       "      <td>1.0000</td>\n",
       "      <td>Big Boss Man</td>\n",
       "      <td>1968</td>\n",
       "      <td>False</td>\n",
       "    </tr>\n",
       "    <tr>\n",
       "      <th>65299</th>\n",
       "      <td>2403</td>\n",
       "      <td>5776</td>\n",
       "      <td>3.0000</td>\n",
       "      <td>Big Boss Man</td>\n",
       "      <td>1968</td>\n",
       "      <td>False</td>\n",
       "    </tr>\n",
       "    <tr>\n",
       "      <th>1874463</th>\n",
       "      <td>68554</td>\n",
       "      <td>5776</td>\n",
       "      <td>11.0000</td>\n",
       "      <td>Big Boss Man</td>\n",
       "      <td>1968</td>\n",
       "      <td>False</td>\n",
       "    </tr>\n",
       "    <tr>\n",
       "      <th>703106</th>\n",
       "      <td>25845</td>\n",
       "      <td>5776</td>\n",
       "      <td>7.0000</td>\n",
       "      <td>Big Boss Man</td>\n",
       "      <td>1968</td>\n",
       "      <td>False</td>\n",
       "    </tr>\n",
       "    <tr>\n",
       "      <th>1572336</th>\n",
       "      <td>57405</td>\n",
       "      <td>5776</td>\n",
       "      <td>22.0000</td>\n",
       "      <td>Big Boss Man</td>\n",
       "      <td>1968</td>\n",
       "      <td>False</td>\n",
       "    </tr>\n",
       "    <tr>\n",
       "      <th>1486757</th>\n",
       "      <td>54291</td>\n",
       "      <td>5776</td>\n",
       "      <td>1.0000</td>\n",
       "      <td>Big Boss Man</td>\n",
       "      <td>1968</td>\n",
       "      <td>False</td>\n",
       "    </tr>\n",
       "    <tr>\n",
       "      <th>674501</th>\n",
       "      <td>24773</td>\n",
       "      <td>5776</td>\n",
       "      <td>1.0000</td>\n",
       "      <td>Big Boss Man</td>\n",
       "      <td>1968</td>\n",
       "      <td>False</td>\n",
       "    </tr>\n",
       "    <tr>\n",
       "      <th>697742</th>\n",
       "      <td>25637</td>\n",
       "      <td>5776</td>\n",
       "      <td>1.0000</td>\n",
       "      <td>Big Boss Man</td>\n",
       "      <td>1968</td>\n",
       "      <td>False</td>\n",
       "    </tr>\n",
       "    <tr>\n",
       "      <th>1070448</th>\n",
       "      <td>39331</td>\n",
       "      <td>5776</td>\n",
       "      <td>2.0000</td>\n",
       "      <td>Big Boss Man</td>\n",
       "      <td>1968</td>\n",
       "      <td>False</td>\n",
       "    </tr>\n",
       "    <tr>\n",
       "      <th>1016756</th>\n",
       "      <td>37346</td>\n",
       "      <td>5776</td>\n",
       "      <td>1.0000</td>\n",
       "      <td>Big Boss Man</td>\n",
       "      <td>1968</td>\n",
       "      <td>False</td>\n",
       "    </tr>\n",
       "    <tr>\n",
       "      <th>464186</th>\n",
       "      <td>17025</td>\n",
       "      <td>5776</td>\n",
       "      <td>1.0000</td>\n",
       "      <td>Big Boss Man</td>\n",
       "      <td>1968</td>\n",
       "      <td>False</td>\n",
       "    </tr>\n",
       "  </tbody>\n",
       "</table>\n",
       "</div>"
      ],
      "text/plain": [
       "          user  song  listen_count         title  year  no_year\n",
       "1298277  47555  5776        1.0000  Big Boss Man  1968    False\n",
       "1622912  59316  5776       39.0001  Big Boss Man  1968    False\n",
       "367648   13446  5776       34.0000  Big Boss Man  1968    False\n",
       "1773021  64753  5776        2.0000  Big Boss Man  1968    False\n",
       "517504   18947  5776        6.0000  Big Boss Man  1968    False\n",
       "294370   10728  5776        3.0000  Big Boss Man  1968    False\n",
       "571595   20962  5776        1.0000  Big Boss Man  1968    False\n",
       "899773   33076  5776       23.0000  Big Boss Man  1968    False\n",
       "364455   13310  5776        2.0000  Big Boss Man  1968    False\n",
       "18615      674  5776       39.0001  Big Boss Man  1968    False\n",
       "1222401  44804  5776       21.0000  Big Boss Man  1968    False\n",
       "1752318  64058  5776        1.0000  Big Boss Man  1968    False\n",
       "1210905  44344  5776        5.0000  Big Boss Man  1968    False\n",
       "31458     1120  5776        1.0000  Big Boss Man  1968    False\n",
       "65299     2403  5776        3.0000  Big Boss Man  1968    False\n",
       "1874463  68554  5776       11.0000  Big Boss Man  1968    False\n",
       "703106   25845  5776        7.0000  Big Boss Man  1968    False\n",
       "1572336  57405  5776       22.0000  Big Boss Man  1968    False\n",
       "1486757  54291  5776        1.0000  Big Boss Man  1968    False\n",
       "674501   24773  5776        1.0000  Big Boss Man  1968    False\n",
       "697742   25637  5776        1.0000  Big Boss Man  1968    False\n",
       "1070448  39331  5776        2.0000  Big Boss Man  1968    False\n",
       "1016756  37346  5776        1.0000  Big Boss Man  1968    False\n",
       "464186   17025  5776        1.0000  Big Boss Man  1968    False"
      ]
     },
     "execution_count": 65,
     "metadata": {},
     "output_type": "execute_result"
    }
   ],
   "source": [
    "abd=merged_data_cleaned2.groupby('song').get_group(5776)\n",
    "abd"
   ]
  },
  {
   "cell_type": "code",
   "execution_count": 67,
   "metadata": {},
   "outputs": [
    {
     "data": {
      "text/plain": [
       "'Big Boss Man'"
      ]
     },
     "execution_count": 67,
     "metadata": {},
     "output_type": "execute_result"
    }
   ],
   "source": [
    "abd.title.iloc[0]"
   ]
  },
  {
   "cell_type": "code",
   "execution_count": 68,
   "metadata": {
    "scrolled": true
   },
   "outputs": [
    {
     "data": {
      "text/plain": [
       "'Blood Red'"
      ]
     },
     "execution_count": 68,
     "metadata": {},
     "output_type": "execute_result"
    }
   ],
   "source": [
    "abd1=merged_data_cleaned2.groupby('song').get_group(264)\n",
    "abd1.title.iloc[0]"
   ]
  },
  {
   "cell_type": "code",
   "execution_count": 69,
   "metadata": {},
   "outputs": [
    {
     "data": {
      "text/plain": [
       "'All Over Me'"
      ]
     },
     "execution_count": 69,
     "metadata": {},
     "output_type": "execute_result"
    }
   ],
   "source": [
    "abd2=merged_data_cleaned2.groupby('song').get_group(4214)\n",
    "abd2.title.iloc[0]"
   ]
  },
  {
   "cell_type": "code",
   "execution_count": 70,
   "metadata": {},
   "outputs": [
    {
     "data": {
      "text/plain": [
       "'Boots On'"
      ]
     },
     "execution_count": 70,
     "metadata": {},
     "output_type": "execute_result"
    }
   ],
   "source": [
    "abd1=merged_data_cleaned2.groupby('song').get_group(5423)\n",
    "abd1.title.iloc[0]"
   ]
  },
  {
   "cell_type": "code",
   "execution_count": 496,
   "metadata": {},
   "outputs": [
    {
     "data": {
      "text/plain": [
       "'Boots On'"
      ]
     },
     "execution_count": 496,
     "metadata": {},
     "output_type": "execute_result"
    }
   ],
   "source": [
    "'Big Boss Man'\n",
    "'Blood Red'\n",
    "'All Over Me'\n",
    "'Boots On'"
   ]
  },
  {
   "cell_type": "code",
   "execution_count": 444,
   "metadata": {},
   "outputs": [
    {
     "data": {
      "text/html": [
       "<div>\n",
       "<style scoped>\n",
       "    .dataframe tbody tr th:only-of-type {\n",
       "        vertical-align: middle;\n",
       "    }\n",
       "\n",
       "    .dataframe tbody tr th {\n",
       "        vertical-align: top;\n",
       "    }\n",
       "\n",
       "    .dataframe thead th {\n",
       "        text-align: right;\n",
       "    }\n",
       "</style>\n",
       "<table border=\"1\" class=\"dataframe\">\n",
       "  <thead>\n",
       "    <tr style=\"text-align: right;\">\n",
       "      <th></th>\n",
       "      <th>user</th>\n",
       "      <th>song</th>\n",
       "      <th>listen_count</th>\n",
       "      <th>title</th>\n",
       "      <th>year</th>\n",
       "      <th>no_year</th>\n",
       "    </tr>\n",
       "  </thead>\n",
       "  <tbody>\n",
       "    <tr>\n",
       "      <th>1684597</th>\n",
       "      <td>61533</td>\n",
       "      <td>4562</td>\n",
       "      <td>1.0</td>\n",
       "      <td>Spiderwebs</td>\n",
       "      <td>1995</td>\n",
       "      <td>False</td>\n",
       "    </tr>\n",
       "    <tr>\n",
       "      <th>132335</th>\n",
       "      <td>4827</td>\n",
       "      <td>1518</td>\n",
       "      <td>5.0</td>\n",
       "      <td>Sugar Ray (LP Version)</td>\n",
       "      <td>2004</td>\n",
       "      <td>False</td>\n",
       "    </tr>\n",
       "    <tr>\n",
       "      <th>1366774</th>\n",
       "      <td>49965</td>\n",
       "      <td>206</td>\n",
       "      <td>1.0</td>\n",
       "      <td>Black Wave (Album)</td>\n",
       "      <td>2007</td>\n",
       "      <td>False</td>\n",
       "    </tr>\n",
       "    <tr>\n",
       "      <th>1294495</th>\n",
       "      <td>47410</td>\n",
       "      <td>2297</td>\n",
       "      <td>11.0</td>\n",
       "      <td>Make Her Say</td>\n",
       "      <td>2009</td>\n",
       "      <td>False</td>\n",
       "    </tr>\n",
       "    <tr>\n",
       "      <th>1011455</th>\n",
       "      <td>37155</td>\n",
       "      <td>2311</td>\n",
       "      <td>6.0</td>\n",
       "      <td>Hot Boyz (w/ Dear Nora)</td>\n",
       "      <td>2009</td>\n",
       "      <td>False</td>\n",
       "    </tr>\n",
       "    <tr>\n",
       "      <th>1128349</th>\n",
       "      <td>41398</td>\n",
       "      <td>5066</td>\n",
       "      <td>5.0</td>\n",
       "      <td>Imprint After</td>\n",
       "      <td>2010</td>\n",
       "      <td>False</td>\n",
       "    </tr>\n",
       "    <tr>\n",
       "      <th>822326</th>\n",
       "      <td>30283</td>\n",
       "      <td>986</td>\n",
       "      <td>1.0</td>\n",
       "      <td>Mercy:The Laundromat</td>\n",
       "      <td>1993</td>\n",
       "      <td>False</td>\n",
       "    </tr>\n",
       "    <tr>\n",
       "      <th>816055</th>\n",
       "      <td>30066</td>\n",
       "      <td>3777</td>\n",
       "      <td>1.0</td>\n",
       "      <td>First Dance</td>\n",
       "      <td>2010</td>\n",
       "      <td>False</td>\n",
       "    </tr>\n",
       "    <tr>\n",
       "      <th>2028410</th>\n",
       "      <td>74054</td>\n",
       "      <td>6612</td>\n",
       "      <td>1.0</td>\n",
       "      <td>Holiday</td>\n",
       "      <td>1983</td>\n",
       "      <td>False</td>\n",
       "    </tr>\n",
       "  </tbody>\n",
       "</table>\n",
       "</div>"
      ],
      "text/plain": [
       "          user  song  listen_count                    title  year  no_year\n",
       "1684597  61533  4562           1.0               Spiderwebs  1995    False\n",
       "132335    4827  1518           5.0   Sugar Ray (LP Version)  2004    False\n",
       "1366774  49965   206           1.0       Black Wave (Album)  2007    False\n",
       "1294495  47410  2297          11.0             Make Her Say  2009    False\n",
       "1011455  37155  2311           6.0  Hot Boyz (w/ Dear Nora)  2009    False\n",
       "1128349  41398  5066           5.0            Imprint After  2010    False\n",
       "822326   30283   986           1.0     Mercy:The Laundromat  1993    False\n",
       "816055   30066  3777           1.0              First Dance  2010    False\n",
       "2028410  74054  6612           1.0                  Holiday  1983    False"
      ]
     },
     "execution_count": 444,
     "metadata": {},
     "output_type": "execute_result"
    }
   ],
   "source": [
    "merged_data_cleaned2.iloc[top_si]\n",
    "merged_data_cleaned2[]"
   ]
  },
  {
   "cell_type": "code",
   "execution_count": 78,
   "metadata": {},
   "outputs": [],
   "source": [
    "kullanici=47157\n",
    "song=8000\n",
    "tahmin=[]\n",
    "for q in range(0,8000):\n",
    "    x=(torch.tensor([kullanici]),torch.tensor([q]))\n",
    "    sonuc=model(x)\n",
    "    tahmin.append(sonuc)\n",
    "    \n",
    "  \n",
    "    "
   ]
  },
  {
   "cell_type": "code",
   "execution_count": 421,
   "metadata": {
    "scrolled": true
   },
   "outputs": [
    {
     "data": {
      "text/plain": [
       "(tensor([[21.7794]], grad_fn=<AddBackward0>),\n",
       " tensor([[1.1324]], grad_fn=<AddBackward0>))"
      ]
     },
     "execution_count": 421,
     "metadata": {},
     "output_type": "execute_result"
    }
   ],
   "source": [
    "np.max(tahmin),np.min(tahmin)"
   ]
  },
  {
   "cell_type": "code",
   "execution_count": 422,
   "metadata": {},
   "outputs": [
    {
     "data": {
      "text/plain": [
       "5776"
      ]
     },
     "execution_count": 422,
     "metadata": {},
     "output_type": "execute_result"
    }
   ],
   "source": [
    "np.argmax(tahmin)"
   ]
  },
  {
   "cell_type": "code",
   "execution_count": 79,
   "metadata": {},
   "outputs": [],
   "source": [
    "top_tahmin=np.sort(tahmin)[:-10:-1]"
   ]
  },
  {
   "cell_type": "code",
   "execution_count": 80,
   "metadata": {},
   "outputs": [],
   "source": [
    "top_si=np.argsort(tahmin)[:-10:-1]"
   ]
  },
  {
   "cell_type": "code",
   "execution_count": 81,
   "metadata": {
    "scrolled": true
   },
   "outputs": [
    {
     "data": {
      "text/plain": [
       "(array([tensor([[39.5000]], grad_fn=<AddBackward0>),\n",
       "        tensor([[39.5000]], grad_fn=<AddBackward0>),\n",
       "        tensor([[39.5000]], grad_fn=<AddBackward0>),\n",
       "        tensor([[39.5000]], grad_fn=<AddBackward0>),\n",
       "        tensor([[39.5000]], grad_fn=<AddBackward0>),\n",
       "        tensor([[39.5000]], grad_fn=<AddBackward0>),\n",
       "        tensor([[39.5000]], grad_fn=<AddBackward0>),\n",
       "        tensor([[39.5000]], grad_fn=<AddBackward0>),\n",
       "        tensor([[39.5000]], grad_fn=<AddBackward0>)], dtype=object),\n",
       " array([6324, 6246, 5926, 6896, 4156, 2762,   56, 4899,  195], dtype=int64))"
      ]
     },
     "execution_count": 81,
     "metadata": {},
     "output_type": "execute_result"
    }
   ],
   "source": [
    "top_tahmin, top_si"
   ]
  },
  {
   "cell_type": "code",
   "execution_count": 445,
   "metadata": {},
   "outputs": [
    {
     "data": {
      "text/plain": [
       "array([5776,  264, 4214, 5423,  945, 7208, 1468,  971, 3708], dtype=int64)"
      ]
     },
     "execution_count": 445,
     "metadata": {},
     "output_type": "execute_result"
    }
   ],
   "source": [
    "top_si"
   ]
  },
  {
   "cell_type": "code",
   "execution_count": 451,
   "metadata": {},
   "outputs": [
    {
     "data": {
      "text/plain": [
       "tensor([[21.7794]], grad_fn=<AddBackward0>)"
      ]
     },
     "execution_count": 451,
     "metadata": {},
     "output_type": "execute_result"
    }
   ],
   "source": [
    "tahmin[5776]"
   ]
  },
  {
   "cell_type": "code",
   "execution_count": 383,
   "metadata": {},
   "outputs": [
    {
     "data": {
      "text/plain": [
       "(tensor([47157]), tensor([5]))"
      ]
     },
     "execution_count": 383,
     "metadata": {},
     "output_type": "execute_result"
    }
   ],
   "source": [
    "x=(torch.tensor([kullanici]),torch.tensor([5]))\n",
    "x"
   ]
  },
  {
   "cell_type": "code",
   "execution_count": 384,
   "metadata": {},
   "outputs": [
    {
     "data": {
      "text/plain": [
       "tensor(47157)"
      ]
     },
     "execution_count": 384,
     "metadata": {},
     "output_type": "execute_result"
    }
   ],
   "source": [
    "torch.tensor(kullanici)"
   ]
  },
  {
   "cell_type": "code",
   "execution_count": 385,
   "metadata": {},
   "outputs": [
    {
     "data": {
      "text/plain": [
       "tensor([[3.9613]], grad_fn=<AddBackward0>)"
      ]
     },
     "execution_count": 385,
     "metadata": {},
     "output_type": "execute_result"
    }
   ],
   "source": [
    "model(x)"
   ]
  },
  {
   "cell_type": "code",
   "execution_count": 294,
   "metadata": {},
   "outputs": [],
   "source": [
    "d_title_song = {}\n",
    "for e, m in zip(merged_data_cleaned2[\"song\"], merged_data_cleaned2[\"title\"]):\n",
    "    d_title_song[m] = e\n",
    "\n",
    "def pca(x:torch.tensor, k=2):\n",
    "    \"Compute PCA of `x` with `k` dimensions.\"\n",
    "    x = x-torch.mean(x,0)\n",
    "    U,S,V = torch.svd(x.t())\n",
    "    return torch.mm(x,U[:,:k])"
   ]
  },
  {
   "cell_type": "code",
   "execution_count": 72,
   "metadata": {},
   "outputs": [],
   "source": [
    "def pca(x:torch.tensor, k=2):\n",
    "    \"Compute PCA of `x` with `k` dimensions.\"\n",
    "    x = x-torch.mean(x,0)\n",
    "    U,S,V = torch.svd(x.t())\n",
    "    return torch.mm(x,U[:,:k])"
   ]
  },
  {
   "cell_type": "code",
   "execution_count": 98,
   "metadata": {},
   "outputs": [
    {
     "data": {
      "image/png": "[encoded data removed]",
      "text/plain": [
       "<Figure size 864x864 with 1 Axes>"
      ]
     },
     "metadata": {
      "needs_background": "light"
     },
     "output_type": "display_data"
    }
   ],
   "source": [
    "g = merged_data_cleaned2.groupby('title')['listen_count'].count()\n",
    "top_songs = g.sort_values(ascending=False).index.values[:2000]\n",
    "top_idxs = torch.tensor([d_title_song[m] for m in top_songs])\n",
    "song_w = model2.song_factors(top_idxs).cpu().detach()\n",
    "song_pca = pca(song_w,5)\n",
    "fac0,fac1,fac2,fac3,fac4 = song_pca.t()\n",
    "idxs = np.random.choice(len(top_songs), 30, replace=False)\n",
    "idxs = list(range(100))\n",
    "X = fac0[idxs]\n",
    "Y = fac2[idxs]\n",
    "plt.figure(figsize=(12,12))\n",
    "plt.scatter(X, Y)\n",
    "for i, x, y in zip(top_songs[idxs], X, Y):\n",
    "    plt.text(x,y,i, color=np.random.rand(3)*0.7, fontsize=11)\n",
    "plt.show()"
   ]
  },
  {
   "cell_type": "code",
   "execution_count": 79,
   "metadata": {},
   "outputs": [
    {
     "data": {
      "image/png": "[encoded data removed]",
      "text/plain": [
       "<Figure size 864x864 with 1 Axes>"
      ]
     },
     "metadata": {
      "needs_background": "light"
     },
     "output_type": "display_data"
    }
   ],
   "source": [
    "X = fac1[idxs]\n",
    "Y = fac3[idxs]\n",
    "plt.figure(figsize=(12,12))\n",
    "plt.scatter(X, Y)\n",
    "for i, x, y in zip(top_songs[idxs], X, Y):\n",
    "    plt.text(x,y,i, color=np.random.rand(3)*0.7, fontsize=11)\n",
    "plt.show()"
   ]
  }
 ],
 "metadata": {
  "kernelspec": {
   "display_name": "Python 3",
   "language": "python",
   "name": "python3"
  },
  "language_info": {
   "codemirror_mode": {
    "name": "ipython",
    "version": 3
   },
   "file_extension": ".py",
   "mimetype": "text/x-python",
   "name": "python",
   "nbconvert_exporter": "python",
   "pygments_lexer": "ipython3",
   "version": "3.6.7"
  }
 },
 "nbformat": 4,
 "nbformat_minor": 2
}
